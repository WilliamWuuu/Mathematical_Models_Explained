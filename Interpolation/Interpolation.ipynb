{
 "cells": [
  {
   "cell_type": "markdown",
   "metadata": {},
   "source": [
    "## 一维插值"
   ]
  },
  {
   "cell_type": "code",
   "execution_count": null,
   "metadata": {},
   "outputs": [],
   "source": [
    "import numpy as np\n",
    "from scipy import interpolate\n",
    "import pylab as pl"
   ]
  },
  {
   "cell_type": "code",
   "execution_count": null,
   "metadata": {},
   "outputs": [],
   "source": [
    "x = np.linspace(0, 10, 11)\n",
    "y = np.sin(x)\n",
    "xnew = np.linspace(0, 10, 101)\n",
    "pl.plot(x, y, \"ro\")\n",
    "\n",
    "for kind in [\"nearest\", \"zero\", \"slinear\", \"quadratic\", \"cubic\"]:#插值方式\n",
    "    # \"nearest\",\"zero\"为阶梯插值\n",
    "    # slinear 线性插值\n",
    "    # \"quadratic\", \"cubic\" 为2阶、3阶B样条曲线插值\n",
    "    f = interpolate.interp1d(x, y, kind=kind)\n",
    "    ynew = f(xnew)\n",
    "    pl.plot(xnew, ynew, label=str(kind))\n",
    "\n",
    "pl.legend(loc=\"lower right\")\n",
    "pl.show()"
   ]
  },
  {
   "cell_type": "markdown",
   "metadata": {},
   "source": [
    "## 二维插值"
   ]
  },
  {
   "cell_type": "code",
   "execution_count": null,
   "metadata": {},
   "outputs": [],
   "source": [
    "import numpy as np\n",
    "from scipy import interpolate\n",
    "import pylab as pl\n",
    "import matplotlib as mpl"
   ]
  },
  {
   "cell_type": "code",
   "execution_count": null,
   "metadata": {},
   "outputs": [],
   "source": [
    "def func(x, y):\n",
    "    return (x + y) * np.exp(-5.0 * (x**2 + y**2))"
   ]
  },
  {
   "cell_type": "code",
   "execution_count": null,
   "metadata": {},
   "outputs": [],
   "source": [
    "# X-Y轴分为15*15的网格\n",
    "y, x= np.mgrid[-1:1:15j, -1:1:15j]\n",
    "\n",
    "fvals = func(x, y) # 计算每个网格点上的函数值  15*15的值\n",
    "print(len(fvals[0]))"
   ]
  },
  {
   "cell_type": "code",
   "execution_count": null,
   "metadata": {},
   "outputs": [],
   "source": [
    "#三次样条二维插值\n",
    "newfunc = interpolate.interp2d(x, y, fvals, kind='cubic')\n",
    "\n",
    "# 计算100*100的网格上的插值\n",
    "xnew = np.linspace(-1, 1, 100)\n",
    "ynew = np.linspace(-1, 1, 100)\n",
    "fnew = newfunc(xnew, ynew)"
   ]
  },
  {
   "cell_type": "code",
   "execution_count": null,
   "metadata": {},
   "outputs": [],
   "source": [
    "# 绘图\n",
    "# 为了更明显地比较插值前后的区别，使用关键字参数interpolation='nearest'\n",
    "# 关闭imshow()内置的插值运算。\n",
    "pl.subplot(121)\n",
    "im1 = pl.imshow(fvals, extent=[-1, 1, -1, 1], cmap=mpl.cm.hot, interpolation='nearest', origin=\"lower\")\n",
    "pl.colorbar(im1)\n",
    "\n",
    "pl.subplot(122)\n",
    "im2=pl.imshow(fnew, extent=[-1,1,-1,1], cmap=mpl.cm.hot, interpolation='nearest', origin=\"lower\")\n",
    "pl.colorbar(im2)\n",
    "\n",
    "pl.show()"
   ]
  },
  {
   "cell_type": "markdown",
   "metadata": {},
   "source": [
    "## 二维插值的三维展示方法"
   ]
  },
  {
   "cell_type": "code",
   "execution_count": null,
   "metadata": {},
   "outputs": [],
   "source": [
    "import numpy as np\n",
    "from mpl_toolkits.mplot3d import Axes3D\n",
    "import matplotlib as mpl\n",
    "from scipy import interpolate\n",
    "import matplotlib.cm as cm\n",
    "import matplotlib.pyplot as plt"
   ]
  },
  {
   "cell_type": "code",
   "execution_count": null,
   "metadata": {},
   "outputs": [],
   "source": [
    "def func(x, y):\n",
    "    return (x + y) * np.exp(-5.0 * (x**2 + y**2))"
   ]
  },
  {
   "cell_type": "code",
   "execution_count": null,
   "metadata": {},
   "outputs": [],
   "source": [
    "# X-Y轴分为20*20的网格\n",
    "x = np.linspace(-1, 1, 20)\n",
    "y = np.linspace(-1, 1, 20)\n",
    "x, y = np.meshgrid(x, y)#20*20的网格数据\n",
    "\n",
    "fvals = func(x, y) # 计算每个网格点上的函数值  15*15的值"
   ]
  },
  {
   "cell_type": "code",
   "execution_count": null,
   "metadata": {},
   "outputs": [],
   "source": [
    "fig = plt.figure(figsize=(9, 6))\n",
    "ax=plt.subplot(1, 2, 1, projection='3d')\n",
    "surf = ax.plot_surface(x, y, fvals, rstride=2, cstride=2, cmap=cm.coolwarm, linewidth=0.5, antialiased=True)\n",
    "ax.set_xlabel('x')\n",
    "ax.set_ylabel('y')\n",
    "ax.set_zlabel('f(x, y)')\n",
    "plt.colorbar(surf, shrink=0.5, aspect=5)"
   ]
  },
  {
   "cell_type": "code",
   "execution_count": null,
   "metadata": {},
   "outputs": [],
   "source": [
    "# 二维插值\n",
    "newfunc = interpolate.interp2d(x, y, fvals, kind='cubic')#newfunc为一个函数\n",
    "\n",
    "# 计算100*100的网格上的插值\n",
    "xnew = np.linspace(-1,1,100)\n",
    "ynew = np.linspace(-1,1,100)\n",
    "fnew = newfunc(xnew, ynew)\n",
    "xnew, ynew = np.meshgrid(xnew, ynew)"
   ]
  },
  {
   "cell_type": "code",
   "execution_count": null,
   "metadata": {},
   "outputs": [],
   "source": [
    "ax2 = plt.subplot(1, 2, 2, projection='3d')\n",
    "surf2 = ax2.plot_surface(xnew, ynew, fnew, rstride=2, cstride=2, cmap=cm.coolwarm, linewidth=0.5, antialiased=True)\n",
    "ax2.set_xlabel('xnew')\n",
    "ax2.set_ylabel('ynew')\n",
    "ax2.set_zlabel('fnew(x, y)')\n",
    "plt.colorbar(surf2, shrink=0.5, aspect=5)\n",
    "\n",
    "plt.show()"
   ]
  }
 ],
 "metadata": {
  "kernelspec": {
   "display_name": "sxjm",
   "language": "python",
   "name": "python3"
  },
  "language_info": {
   "name": "python",
   "version": "3.12.4"
  }
 },
 "nbformat": 4,
 "nbformat_minor": 2
}
