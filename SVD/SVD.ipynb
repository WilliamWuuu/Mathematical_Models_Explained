{
 "cells": [
  {
   "cell_type": "markdown",
   "metadata": {},
   "source": [
    "## SVD(Singular Value Decomposition，奇异值分解)\n",
    "#### 特征值与特征向量\n",
    "- $$Ax=\\lambda x$$\n",
    "    - 其中$A$是一个$n\\times n$的实对称矩阵，$x$是一个$n$维向量，则我们说$\\lambda$是矩阵$A$的一个特征值，而$x$是矩阵$A$的特征值所对应的特征向量。\n",
    "- 如果我们求出了矩阵A的n个特征值$\\lambda _1\\leq \\lambda _2\\leq\\dots\\leq\\lambda _n$，以及这n个特征值所对应的特征向量$\\lbrace w_1,w_2,\\dots,w_n\\rbrace$\n",
    "- 如果这$n$个特征向量线性无关，那么矩阵$A$就可以特征分解为：$$A=W\\Sigma W^{-1}$$\n",
    "    - 其中$W$是这$n$个特征向量所张成的$n\\times n$维矩阵，而$\\Sigma$为这$n$个特征值为主对角线的$n\\times n$维矩阵。\n",
    "- 将W的这$n$个特征向量标准化，即满足$||w_i||_2=1$。此时，$W$的$n$个特征向量为标准正交基，满足$W^TW=I$，即$W^T=W^{-1}$。\n",
    "- 故特征分解表达式也可写成：$$A=W\\Sigma W^{T}$$\n",
    "#### SVD定义\n",
    "- 和特征分解不同，$SVD$并不要求要分解的矩阵为方阵。假设我们的矩阵$A$是一个$m\\times n$的矩阵，那么我们定义矩阵$A$的$SVD$为：$$A=U\\Sigma V^T$$\n",
    "    - 其中U是一个$m\\times m$的矩阵,$\\Sigma$是一个$m\\times n$的矩阵，除了对角线上的元素以外全为0，主对角线上的所有元素都称为奇异值，V是一个$n\\times n$的矩阵。U和V均满足$U^TU=I_m,V^TV=I_n$。\n",
    "- 对于$n\\times n$的矩阵$A^TA$进行特征分解：$$(A^TA)v_i=\\lambda _iv_i$$\n",
    "    - 将$A^TA$所有的特征向量张成一个的矩阵$V$，就是$SVD$公式里面的$V$矩阵。一般我们将$V$中的每个特征向量叫做$A$的右奇异向量。\n",
    "- 对于$m\\times m$的矩阵$AA^T$进行特征分解：$$(AA^T)u_i=\\lambda _iu_i$$\n",
    "    - 将$AA^T$所有的特征向量张成一个的矩阵$U$，就是$SVD$公式里面的$U$矩阵。一般我们将$U$中的每个特征向量叫做$A$的左奇异向量。\n",
    "- 注意到：$$A=U\\Sigma V^T\\Rightarrow AV=U\\Sigma V^TV\\Rightarrow AV=U\\Sigma\\Rightarrow Av_i=\\sigma _iu_i\\Rightarrow \\sigma _i=Av_i/u_i$$\n",
    "- 且：$$\\sigma _i=\\sqrt{\\lambda _i}$$"
   ]
  },
  {
   "cell_type": "markdown",
   "metadata": {},
   "source": [
    "#### 原理实现"
   ]
  },
  {
   "cell_type": "code",
   "execution_count": null,
   "metadata": {},
   "outputs": [],
   "source": [
    "from scipy.linalg import svd\n",
    "import numpy as np"
   ]
  },
  {
   "cell_type": "code",
   "execution_count": null,
   "metadata": {},
   "outputs": [],
   "source": [
    "A = [[4, 0, 1, 6],\n",
    "     [0, 0, 5, 1],\n",
    "     [2, 1, 3, 2]]"
   ]
  },
  {
   "cell_type": "code",
   "execution_count": null,
   "metadata": {},
   "outputs": [],
   "source": [
    "def my_svd(x, p=0.9):\n",
    "    A = x\n",
    "    U, s, Vh = svd(A)\n",
    "    for i in range(s.shape[0]):\n",
    "        percent = np.sum(s[: i+1]) / np.sum(s)\n",
    "        if percent >= p:\n",
    "            keep_num = i+1\n",
    "            print('共有{0}个奇异值，保留了{1}个奇异值'.format(s.shape[0], keep_num))\n",
    "            print('保留了原矩阵{:.3f}的特征比例'.format(percent))\n",
    "            break\n",
    "    new_U = U[:, :keep_num]\n",
    "    new_s = np.diag(s[:keep_num])\n",
    "    new_V = Vh[:keep_num, :]\n",
    "    new_A = np.matmul(new_U, np.matmul(new_s, new_V))        \n",
    "    return new_A"
   ]
  },
  {
   "cell_type": "code",
   "execution_count": null,
   "metadata": {},
   "outputs": [],
   "source": [
    "new_A = my_svd(A)\n",
    "new_A"
   ]
  },
  {
   "cell_type": "markdown",
   "metadata": {},
   "source": [
    "### 图像压缩\n",
    "#### 读入图片\n",
    "- 方法一："
   ]
  },
  {
   "cell_type": "code",
   "execution_count": null,
   "metadata": {},
   "outputs": [],
   "source": [
    "import matplotlib.pyplot as plt"
   ]
  },
  {
   "cell_type": "code",
   "execution_count": null,
   "metadata": {},
   "outputs": [],
   "source": [
    "heben = plt.imread('赫本.jpg')\n",
    "plt.imshow(heben)\n",
    "plt.show()"
   ]
  },
  {
   "cell_type": "code",
   "execution_count": null,
   "metadata": {},
   "outputs": [],
   "source": [
    "heben"
   ]
  },
  {
   "cell_type": "markdown",
   "metadata": {},
   "source": [
    "- 方法二："
   ]
  },
  {
   "cell_type": "code",
   "execution_count": null,
   "metadata": {},
   "outputs": [],
   "source": [
    "from PIL import Image"
   ]
  },
  {
   "cell_type": "code",
   "execution_count": null,
   "metadata": {},
   "outputs": [],
   "source": [
    "img = Image.open('赫本.jpg')\n",
    "img.show()"
   ]
  },
  {
   "cell_type": "code",
   "execution_count": null,
   "metadata": {},
   "outputs": [],
   "source": [
    "heben = np.asarray(img)\n",
    "heben"
   ]
  },
  {
   "cell_type": "code",
   "execution_count": null,
   "metadata": {},
   "outputs": [],
   "source": [
    "heben_A = my_svd(heben.astype(float), 0.6)"
   ]
  },
  {
   "cell_type": "code",
   "execution_count": null,
   "metadata": {},
   "outputs": [],
   "source": [
    "plt.imshow(heben_A.astype('uint8'))\n",
    "plt.show()\n",
    "plt.imsave('hepburn.jpg', heben_A.astype('uint8'))"
   ]
  }
 ],
 "metadata": {
  "kernelspec": {
   "display_name": "sxjm",
   "language": "python",
   "name": "python3"
  },
  "language_info": {
   "codemirror_mode": {
    "name": "ipython",
    "version": 3
   },
   "file_extension": ".py",
   "mimetype": "text/x-python",
   "name": "python",
   "nbconvert_exporter": "python",
   "pygments_lexer": "ipython3",
   "version": "3.12.4"
  }
 },
 "nbformat": 4,
 "nbformat_minor": 2
}
