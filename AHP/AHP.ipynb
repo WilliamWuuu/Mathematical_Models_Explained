{
 "cells": [
  {
   "cell_type": "markdown",
   "metadata": {},
   "source": [
    "## 层次分析法\n",
    "1. 分析系统中各因素的关系，建立系统的递阶层次结构\n",
    "2. 对于同一层次的各元素关于上一层次中某一准则的重要性进行两两比较，构造两两比较矩阵（判断矩阵）。\n",
    "3. 由判断矩阵计算被比较元素对于该准则的相对权重，并进行一致性检验（检验通过权重才能用）。\n",
    "    计算权重的方法：（1）算术平均法  （2）几何平均法  （3）特征值法"
   ]
  },
  {
   "cell_type": "code",
   "execution_count": 1,
   "metadata": {},
   "outputs": [],
   "source": [
    "import numpy as np  #导入所需包并将其命名为np"
   ]
  },
  {
   "cell_type": "code",
   "execution_count": 2,
   "metadata": {},
   "outputs": [
    {
     "data": {
      "text/plain": [
       "0"
      ]
     },
     "execution_count": 2,
     "metadata": {},
     "output_type": "execute_result"
    }
   ],
   "source": [
    "# 判断矩阵\n",
    "A = [[1, 1, 4, 1/3, 3],\n",
    "     [1, 1, 4, 1/3, 3],\n",
    "     [1/4, 1/4, 1, 1/3, 1/2],\n",
    "     [3, 3, 3, 1, 3],\n",
    "     [1/3, 1/3, 2, 1/3, 1]]\n",
    "\n",
    "# 检验A是否为正互反矩阵\n",
    "B = np.array(A)\n",
    "(np.ones(B.shape) != B.T * B).sum()"
   ]
  },
  {
   "cell_type": "code",
   "execution_count": 4,
   "metadata": {},
   "outputs": [
    {
     "name": "stdout",
     "output_type": "stream",
     "text": [
      "算数平均法求权重的结果为：\n",
      "[0.21449893 0.21449893 0.0702914  0.40063966 0.10007107]\n",
      "特征值法求权重的结果为：\n",
      "[0.21209447+0.j 0.21209447+0.j 0.06789712+0.j 0.41138906+0.j\n",
      " 0.09652489+0.j]\n",
      "———————————————————————————————\n",
      "CR= (0.06526049581905735+0j) ，小于0.1，通过一致性检验\n"
     ]
    }
   ],
   "source": [
    "def ConsisTest(X):  #函数接收一个如上述A似的矩阵\n",
    "#计算权重\n",
    "  #方法一：算术平均法\n",
    "    ## 第一步：将判断矩阵按照列归一化（每个元素除以其所在列的和）\n",
    "    X = np.array(X)  #将X转换为np.array对象\n",
    "    sum_X = X.sum(axis=0)  #计算X每列的和\n",
    "    (n,n) = X.shape  #X为方阵，行和列相同，所以用一个n来接收\n",
    "    sum_X = np.tile(sum_X,(n,1))  #将和向量重复n行组成新的矩阵\n",
    "    stand_X = X/sum_X  #标准化X（X中每个元素除以其所在列的和）\n",
    "    \n",
    "    ## 第二步：将归一化矩阵每一行求和\n",
    "    sum_row = stand_X.sum(axis=1)\n",
    "\n",
    "    ## 第三步：将相加后得到的向量中每个元素除以n即可得到权重向量\n",
    "    print(\"算数平均法求权重的结果为：\")\n",
    "    print(sum_row/n)\n",
    "    \n",
    "  #方法二：特征值法\n",
    "    ## 第一步：找出矩阵X的最大特征值以及其对应的特征向量\n",
    "    V,E = np.linalg.eig(X)  #V是特征值，E是特征值对应的特征向量\n",
    "    max_value = np.max(V)  #最大特征值\n",
    "    #print(\"最大特征值是：\",max_value)\n",
    "    max_v_index = np.argmax(V)  #返回最大特征值所在位置\n",
    "    max_eiv = E[:,max_v_index]  #最大特征值对应的特征向量\n",
    "    \n",
    "    ## 第二步：对求出的特征向量进行归一化处理即可得到权重\n",
    "    stand_eiv = max_eiv/max_eiv.sum()\n",
    "    print(\"特征值法求权重的结果为：\")\n",
    "    print(stand_eiv)\n",
    "    print(\"———————————————————————————————\")\n",
    "    \n",
    "#一致性检验\n",
    "    ## 第一步：计算一致性指标CI\n",
    "    CI = (max_value-n)/(n-1)\n",
    "    ## 第二步：查找对应的平均随机一致性指标RI\n",
    "    RI = np.array([15,0,0,0.52,0.89,1.12,1.26,1.36,1.41,1.46,1.49,1.52,1.54,1.56,1.58,1.59])\n",
    "    ## 第三步：计算一致性比例CR\n",
    "    CR = CI/RI[n]\n",
    "    if CR < 0.1:\n",
    "        print(\"CR=\",CR,\"，小于0.1，通过一致性检验\")\n",
    "    else:\n",
    "        print(\"CR=\",CR,\"，大于等于0.1，没有通过一致性检验，请修改判断矩阵\")\n",
    "    return None\n",
    "\n",
    "ConsisTest(A)"
   ]
  }
 ],
 "metadata": {
  "kernelspec": {
   "display_name": "sxjm",
   "language": "python",
   "name": "python3"
  },
  "language_info": {
   "codemirror_mode": {
    "name": "ipython",
    "version": 3
   },
   "file_extension": ".py",
   "mimetype": "text/x-python",
   "name": "python",
   "nbconvert_exporter": "python",
   "pygments_lexer": "ipython3",
   "version": "3.12.4"
  }
 },
 "nbformat": 4,
 "nbformat_minor": 2
}
