{
 "cells": [
  {
   "cell_type": "markdown",
   "metadata": {},
   "source": [
    "## PCA(Principal Components Analysis, 主成分分析)\n",
    "重要的降维算法\n",
    "#### Mechanism Of PCA\n",
    "- 假设数据集是$n$维的，共有$m$个数据 $(x^{(1)},x^{(2)},\\dots,x^{(m)})$。我们希望将这$m$个数据的维度从$n$维降到$n'$维，且尽可能地降低损失。我们希望找到某一个维度方向，样本点到这个维度的超平面的距离足够近,或者说样本点在这个超平面上的投影能尽可能的分开。\n",
    "- 假设 $(x^{(1)},x^{(2)},\\dots,x^{(m)})$ 已经进行了中心化，即 $\\sum^m_{i=1}x^{(i)}=0$.\n",
    "- 经过投影变换后得到的新坐标系为 $\\lbrace w_1,w_2,\\dots,w_n\\rbrace$，其中$w$是标准正交基，即 $||w||_2=1,w^T_iw_j=0$。如果我们将数据从$n$维降到$n'$维，即丢弃新坐标系中的部分坐标，则新的坐标系为 $\\lbrace w_1,w_2,\\dots,w_{n'}\\rbrace$.\n",
    "- 故样本点 $x^{(i)}$ 在 $n'$ 维坐标系的投影为：$z^{(i)}=(z^{(i)}_1,z^{(i)}_2,\\dots,z^{(i)}_{n'})^T$. 其中，$z_j^{(i)}=w^T_jx^{(i)}$ 是 $x^{(i)}$ 在低维坐标系里第$j$维的坐标.\n",
    "- 如果我们用 $z^{(i)}$ 来恢复原始数据，则得到的恢复数据 $\\bar{x}^{(i)}=\\sum^{n'}_{j=1}z^{(i)}_jw_j=Wz^{(i)}$，其中，$W$为标准正交基组成的矩阵。\n",
    "- 现在我们考虑整个样本集，我们希望所有的样本到这个超平面的距离足够近，即最小化：$$\\sum^m_{i=1}||\\bar{x}^{(i)}-x^{(i)}||_2^2$$"
   ]
  },
  {
   "cell_type": "code",
   "execution_count": null,
   "metadata": {},
   "outputs": [],
   "source": [
    "import pandas as pd\n",
    "import numpy as np\n",
    "import matplotlib.pyplot as plt\n",
    "import seaborn as sns\n",
    "from sklearn import preprocessing\n",
    "\n",
    "np.set_printoptions(suppress=True)  # 不使用用科学计数法"
   ]
  },
  {
   "cell_type": "code",
   "execution_count": null,
   "metadata": {},
   "outputs": [],
   "source": [
    "data = pd.read_excel('cost_data.xlsx', index_col=0)\n",
    "data.head()"
   ]
  },
  {
   "cell_type": "code",
   "execution_count": null,
   "metadata": {},
   "outputs": [],
   "source": [
    "n, p = data.shape\n",
    "\n",
    "# 标准化\n",
    "scale_data = preprocessing.scale(data)\n",
    "scale_data"
   ]
  },
  {
   "cell_type": "code",
   "execution_count": null,
   "metadata": {},
   "outputs": [],
   "source": [
    "cor = data.corr()\n",
    "cor"
   ]
  },
  {
   "cell_type": "code",
   "execution_count": null,
   "metadata": {},
   "outputs": [],
   "source": [
    "# 支持显示中文\n",
    "plt.rcParams['font.family'] = 'Heiti TC'\n",
    "plt.rcParams['axes.unicode_minus'] = False\n",
    "sns.set_theme(font='Heiti TC')"
   ]
  },
  {
   "cell_type": "code",
   "execution_count": null,
   "metadata": {},
   "outputs": [],
   "source": [
    "fig, ax = plt.subplots(figsize = (10,10))\n",
    "\n",
    "# cor：相关系数矩阵\n",
    "# cmap：颜色\n",
    "# xticklabels：显示x轴标签\n",
    "# yticklabels：显示y轴标签\n",
    "# annot：方块中显示数据\n",
    "# square：方块为正方形\n",
    "sns.heatmap(cor, cmap='YlGnBu', xticklabels=True, yticklabels=True, annot=True, square=True)"
   ]
  },
  {
   "cell_type": "code",
   "execution_count": null,
   "metadata": {},
   "outputs": [],
   "source": [
    "# V是特征值，E是特征值对应的特征向量\n",
    "V,E = np.linalg.eig(cor)\n",
    "\n",
    "lamb = np.array(sorted(V, reverse=True))\n",
    "\n",
    "# 贡献率\n",
    "contribution_rate = lamb / sum(lamb)\n",
    "contribution_rate"
   ]
  },
  {
   "cell_type": "code",
   "execution_count": null,
   "metadata": {},
   "outputs": [],
   "source": [
    "# 累计贡献率\n",
    "cum_contri_rate = np.cumsum(contribution_rate)\n",
    "cum_contri_rate"
   ]
  },
  {
   "cell_type": "code",
   "execution_count": null,
   "metadata": {},
   "outputs": [],
   "source": [
    "# 按照特征值递减对特征向量排序的结果\n",
    "A = E[:, V.argsort()[::-1]]\n",
    "A"
   ]
  },
  {
   "cell_type": "code",
   "execution_count": null,
   "metadata": {},
   "outputs": [],
   "source": [
    "m = 2\n",
    "F = np.zeros((n, m))\n",
    "for i in range(m):\n",
    "    ai = A[:, i]\n",
    "    Fi = (ai * scale_data).sum(axis=1)\n",
    "    F[:, i] = Fi\n",
    "    \n",
    "F"
   ]
  }
 ],
 "metadata": {
  "kernelspec": {
   "display_name": "sxjm",
   "language": "python",
   "name": "python3"
  },
  "language_info": {
   "codemirror_mode": {
    "name": "ipython",
    "version": 3
   },
   "file_extension": ".py",
   "mimetype": "text/x-python",
   "name": "python",
   "nbconvert_exporter": "python",
   "pygments_lexer": "ipython3",
   "version": "3.12.4"
  }
 },
 "nbformat": 4,
 "nbformat_minor": 2
}
