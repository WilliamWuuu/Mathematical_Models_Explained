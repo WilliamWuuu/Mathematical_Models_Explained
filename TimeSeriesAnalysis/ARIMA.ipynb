{
 "cells": [
  {
   "cell_type": "code",
   "execution_count": null,
   "metadata": {},
   "outputs": [],
   "source": [
    "import pandas \n",
    "\n",
    "import matplotlib.pyplot as plt\n",
    "plt.rcParams['font.sans-serif']=['SimHei']\n",
    "plt.rcParams['axes.unicode_minus'] = False "
   ]
  },
  {
   "cell_type": "code",
   "execution_count": null,
   "metadata": {},
   "outputs": [],
   "source": [
    "# 读取数据，指定日期为索引列\n",
    "data = pandas.read_csv(\n",
    "    'path/to/your/dataset' ,\n",
    "    index_col='日期'\n",
    ")\n",
    "\n",
    "# 查看趋势图\n",
    "data.plot() \n",
    "# 有增长趋势，不平稳\n",
    "# 附加：查看自相关系数合片自相关系数（查分之后），可以用于平稳性的检测，也可用于定阶系数预估"
   ]
  },
  {
   "cell_type": "code",
   "execution_count": null,
   "metadata": {},
   "outputs": [],
   "source": [
    "# 自相关图\n",
    "from statsmodels.graphics.tsaplots import plot_acf\n",
    " \n",
    "plot_acf(data).show() # 自相关图既不是拖尾也不是截尾。以上的图的自相关是一个三角对称的形式，这种趋势是单调趋势的典型图形，说明这个序列不是平稳序列"
   ]
  },
  {
   "cell_type": "markdown",
   "metadata": {},
   "source": [
    "#### 1. 平稳性检测"
   ]
  },
  {
   "cell_type": "code",
   "execution_count": null,
   "metadata": {},
   "outputs": [],
   "source": [
    "from statsmodels.tsa.stattools import adfuller as ADF\n",
    " \n",
    " \n",
    "def tagADF(t):\n",
    "    result = pandas.DataFrame(index=[\n",
    "            \"Test Statistic Value\", \"p-value\", \"Lags Used\", \n",
    "            \"Number of Observations Used\", \n",
    "            \"Critical Value(1%)\", \"Critical Value(5%)\", \"Critical Value(10%)\"\n",
    "        ], columns=['销量']\n",
    "    );\n",
    "    result['销量']['Test Statistic Value'] = t[0]\n",
    "    result['销量']['p-value'] = t[1]\n",
    "    result['销量']['Lags Used'] = t[2]\n",
    "    result['销量']['Number of Observations Used'] = t[3]\n",
    "    result['销量']['Critical Value(1%)'] = t[4]['1%']\n",
    "    result['销量']['Critical Value(5%)'] = t[4]['5%']\n",
    "    result['销量']['Critical Value(10%)'] = t[4]['10%']\n",
    "    return result;\n",
    " \n",
    " \n",
    "print('原始序列的ADF检验结果为:',tagADF(ADF(data[u'销量'])))  # 添加标签后展现\n",
    " \n",
    "# 平稳判断：得到统计量大于三个置信度(1%,5%,10%)临界统计值，p值显著大于0.05，该序列为非平稳序列。\n",
    "# 备注：得到的统计量显著小于3个置信度（1%，5%，10%）的临界统计值时，为平稳 此时p值接近于0 此处不为0，尝试增加数据量，原数据太少"
   ]
  },
  {
   "cell_type": "markdown",
   "metadata": {},
   "source": [
    "#### 2. 进行数据差分，一般一阶差分就可以"
   ]
  },
  {
   "cell_type": "code",
   "execution_count": null,
   "metadata": {},
   "outputs": [],
   "source": [
    "D_data = data.diff(1).dropna()\n",
    "D_data.columns = [u'销量差分']\n",
    " \n",
    "# 差分图趋势查看\n",
    " \n",
    "D_data.plot() \n",
    "plt.show()\n",
    " \n",
    "# 附加：查看自相关系数合片自相关系数（查分之后），可以用于平稳性的检测，也可用于定阶系数预估"
   ]
  },
  {
   "cell_type": "code",
   "execution_count": null,
   "metadata": {},
   "outputs": [],
   "source": [
    "# 自相关图\n",
    "plot_acf(D_data).show()\n",
    " \n",
    "plt.show()"
   ]
  },
  {
   "cell_type": "code",
   "execution_count": null,
   "metadata": {},
   "outputs": [],
   "source": [
    "# 偏自相关图\n",
    "from statsmodels.graphics.tsaplots import plot_pacf\n",
    " \n",
    "plot_pacf(D_data).show()"
   ]
  },
  {
   "cell_type": "markdown",
   "metadata": {},
   "source": [
    "#### 3. 平稳性检测"
   ]
  },
  {
   "cell_type": "code",
   "execution_count": null,
   "metadata": {},
   "outputs": [],
   "source": [
    "print(u'差分序列的ADF检验结果为：', tagADF(ADF(D_data[u'销量差分']))) \n",
    " \n",
    "# 解释：Test Statistic Value值小于两个水平值，p值显著小于0.05，一阶差分后序列为平稳序列。"
   ]
  },
  {
   "cell_type": "markdown",
   "metadata": {},
   "source": [
    "#### 4. 白噪声检验"
   ]
  },
  {
   "cell_type": "code",
   "execution_count": null,
   "metadata": {},
   "outputs": [],
   "source": [
    "from statsmodels.stats.diagnostic import acorr_ljungbox\n",
    " \n",
    "# 返回统计量和p值\n",
    "print(u'差分序列的白噪声检验结果为：', acorr_ljungbox(D_data, lags=1))  # 分别为stat值（统计量）和P值\n",
    " \n",
    "# P值小于0.05，所以一阶差分后的序列为平稳非白噪声序列。"
   ]
  },
  {
   "cell_type": "markdown",
   "metadata": {},
   "source": [
    "#### 5. p, q定阶"
   ]
  },
  {
   "cell_type": "code",
   "execution_count": null,
   "metadata": {},
   "outputs": [],
   "source": [
    "from statsmodels.tsa.arima_model import ARIMA\n",
    " \n",
    "# 一般阶数不超过length/10\n",
    "pmax = int(len(D_data)/10) \n",
    " \n",
    "# 一般阶数不超过length/10\n",
    "qmax = int(len(D_data)/10) \n",
    " \n",
    "# bic矩阵\n",
    "bic_matrix = [] \n",
    "for p in range(pmax+1):\n",
    "    tmp = []\n",
    "    \n",
    "    for q in range(qmax+1):\n",
    "        try: \n",
    "            tmp.append(ARIMA(data, (p,1,q)).fit().bic)\n",
    "        except:\n",
    "            tmp.append(None)\n",
    "    \n",
    "    bic_matrix.append(tmp)\n",
    " \n",
    "# 从中可以找出最小值\n",
    "bic_matrix = pandas.DataFrame(bic_matrix) \n",
    " \n",
    "# 先用stack展平，然后用idxmin找出最小值位置。\n",
    "p,q = bic_matrix.stack().idxmin() \n",
    " \n",
    "print(u'BIC最小的p值和q值为：%s、%s' %(p,q))\n",
    "# 取BIC信息量达到最小的模型阶数，结果p为0，q为1，定阶完成。"
   ]
  },
  {
   "cell_type": "markdown",
   "metadata": {},
   "source": [
    "#### 6. 建立模型和预测"
   ]
  },
  {
   "cell_type": "code",
   "execution_count": null,
   "metadata": {},
   "outputs": [],
   "source": [
    "model = ARIMA(data, (p,1,q)).fit() \n",
    " \n",
    "#给出一份模型报告\n",
    " \n",
    "model.summary2() \n",
    " \n",
    "#作为期5天的预测，返回预测结果、标准误差、置信区间。\n",
    " \n",
    "model.forecast(5)"
   ]
  }
 ],
 "metadata": {
  "kernelspec": {
   "display_name": "sxjm",
   "language": "python",
   "name": "python3"
  },
  "language_info": {
   "codemirror_mode": {
    "name": "ipython",
    "version": 3
   },
   "file_extension": ".py",
   "mimetype": "text/x-python",
   "name": "python",
   "nbconvert_exporter": "python",
   "pygments_lexer": "ipython3",
   "version": "3.12.4"
  }
 },
 "nbformat": 4,
 "nbformat_minor": 2
}
