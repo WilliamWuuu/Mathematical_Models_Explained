{
 "cells": [
  {
   "cell_type": "markdown",
   "metadata": {},
   "source": [
    "## Exponential Smoothing(指数平滑模型)"
   ]
  },
  {
   "cell_type": "markdown",
   "metadata": {},
   "source": [
    "#### Simple Exponential Smoothing(SES, 简单指数平滑)\n",
    "- 适用于预测没有明显趋势或季节因素的数据\n",
    "- 预测使用加权平均来计算，最大的权重与最近的观测值相关，而最小的权重与最远的观测值相关\n",
    "- $$\\hat{y}_{T+1｜T}=\\alpha y_T+\\alpha (1-\\alpha) y_{T-1}+\\alpha (1-\\alpha)^2 y_{T-2}+\\dots$$\n",
    "- 权重减小率由平滑参数$\\alpha (0\\leq \\alpha\\leq 1)$控制。如果$\\alpha$很大(即接近1)，则表示对更近期的观察给予更多权重。\n",
    "- 若$\\alpha =0$，则预测值应取历史数据的平均值，即平均值法\n",
    "- 若$\\alpha =1$, 则简单地将预测值设置为最后一次观测的值，即朴素方法"
   ]
  },
  {
   "cell_type": "code",
   "execution_count": null,
   "metadata": {},
   "outputs": [],
   "source": [
    "import warnings\n",
    "warnings.filterwarnings(\"ignore\")"
   ]
  },
  {
   "cell_type": "code",
   "execution_count": null,
   "metadata": {},
   "outputs": [],
   "source": [
    "from statsmodels.tsa.holtwinters import SimpleExpSmoothing\n",
    "import matplotlib.pyplot as plt\n",
    "import pandas as pd\n",
    "\n",
    "plt.rcParams['font.family'] = 'Heiti TC'\n",
    "plt.rcParams['axes.unicode_minus']=False"
   ]
  },
  {
   "cell_type": "code",
   "execution_count": null,
   "metadata": {},
   "outputs": [],
   "source": [
    "data = pd.read_excel(\"sale_data.xlsx\")\n",
    "data.set_index('时间', inplace=True)\n",
    "data.head()"
   ]
  },
  {
   "cell_type": "code",
   "execution_count": null,
   "metadata": {},
   "outputs": [],
   "source": [
    "plt.figure(figsize=(20,6))\n",
    "\n",
    "# 在fit1中，平滑参数设置为 0.2\n",
    "fit1 = SimpleExpSmoothing(data).fit(smoothing_level=0.2,optimized=False)\n",
    "l1, = plt.plot(list(fit1.fittedvalues) + list(fit1.forecast(5)), marker='o')\n",
    "# 在fit2中，平滑参数设置为 0.6\n",
    "fit2 = SimpleExpSmoothing(data).fit(smoothing_level=0.6,optimized=False)\n",
    "l2, = plt.plot(list(fit2.fittedvalues) + list(fit2.forecast(5)), marker='o')\n",
    "# (推荐)在fit3中，不设置平滑参数，使用自动优化，允许statsmodels自动为我们找到优化值。\n",
    "fit3 = SimpleExpSmoothing(data).fit()\n",
    "l3, = plt.plot(list(fit3.fittedvalues) + list(fit3.forecast(5)), marker='o')\n",
    "# 原始数据\n",
    "l4, = plt.plot(data, marker='o')\n",
    "\n",
    "plt.legend(handles=[l1, l2, l3, l4], labels=['a=0.2', 'a=0.6', 'auto', 'data'], loc='best', prop={'size':16})\n",
    "plt.xticks(rotation=17, fontsize=12)\n",
    "plt.show()"
   ]
  },
  {
   "cell_type": "markdown",
   "metadata": {},
   "source": [
    "#### Holt's 方法(二次指数平滑)\n",
    "- Holt扩展了简单的指数平滑(数据解决方案没有明确的趋势或季节性)，以便在1957年预测数据趋势\n",
    "- Holt的方法包括预测方程和两个平滑方程(一个用于水平，一个用于趋势):\n",
    "    - $\\text{Forecast Equation}$ $$\\hat{y}_{t+h|t} = l_t+hb_t$$\n",
    "    - $\\text{Level Equation}$ $$l_t=\\alpha y_t + (1-\\alpha)(l_{t-1}+b_{t-1})$$\n",
    "    - $\\text{Trend Equation}$ $$b_t=\\beta^*(l_t-l_{t-1})+(1-\\beta^*)b_{t-1}$$\n",
    "    - 其中 $0\\leq \\alpha \\leq 1$ 是水平平滑参数，$0\\leq \\beta^* \\leq 1$是趋势平滑参数\n",
    "- 对于长期预测，使用Holt方法的预测在未来会无限期地增加或减少。在这种情况下，我们使用具有阻尼参数0<φ<1的阻尼趋势方法来防止预测“失控”。\n",
    "    - $\\text{Forecast Equation}$ $$\\hat{y}_{t+h|t} = l_t+(\\phi + \\phi^2 + \\dots + \\phi^h)b_t$$\n",
    "    - $\\text{Level Equation}$ $$l_t=\\alpha y_t + (1-\\alpha)(l_{t-1}+ \\phi b_{t-1})$$\n",
    "    - $\\text{Trend Equation}$ $$b_t=\\beta^*(l_t-l_{t-1})+(1-\\beta^*) \\phi b_{t-1}$$\n",
    "    - 其中 $0\\leq \\alpha \\leq 1$ 是水平平滑参数，$0\\leq \\beta^* \\leq 1$是趋势平滑参数"
   ]
  },
  {
   "cell_type": "code",
   "execution_count": null,
   "metadata": {},
   "outputs": [],
   "source": [
    "from statsmodels.tsa.holtwinters import Holt\n",
    "import matplotlib.pyplot as plt\n",
    "import pandas as pd\n",
    "\n",
    "plt.rcParams['font.family'] = 'Heiti TC'\n",
    "plt.rcParams['axes.unicode_minus']=False"
   ]
  },
  {
   "cell_type": "code",
   "execution_count": null,
   "metadata": {},
   "outputs": [],
   "source": [
    "data = pd.read_excel(\"sale_data.xlsx\")\n",
    "data.set_index('时间', inplace=True)\n",
    "data.head()"
   ]
  },
  {
   "cell_type": "code",
   "execution_count": null,
   "metadata": {},
   "outputs": [],
   "source": [
    "plt.figure(figsize=(20,6))\n",
    "\n",
    "# 在fit1中，平滑参数α=0.8，β∗=0.2\n",
    "fit1 = Holt(data).fit(smoothing_level=0.8, smoothing_slope=0.2, optimized=False)\n",
    "l1, = plt.plot(list(fit1.fittedvalues) + list(fit1.forecast(5)), marker='^')\n",
    "# 在fit2中，使用指数模型而不是Holt的加法模型（默认）\n",
    "fit2 = Holt(data, exponential=True).fit(smoothing_level=0.8, smoothing_slope=0.2, optimized=False)\n",
    "l2, = plt.plot(list(fit2.fittedvalues) + list(fit2.forecast(5)), marker='.')\n",
    "# 在fit3中，使用阻尼版本的Holt附加模型，但允许优化阻尼参数φ，同时固定α=0.8，β∗=0.2的值\n",
    "fit3 = Holt(data, damped=True).fit(smoothing_level=0.8, smoothing_slope=0.2)\n",
    "l3, = plt.plot(list(fit3.fittedvalues) + list(fit3.forecast(5)), marker='.')\n",
    "# 原始数据\n",
    "l4, = plt.plot(data, marker='.')\n",
    "\n",
    "plt.legend(handles = [l1, l2, l3, l4], labels = [\"Holt's linear trend\", \"Exponential trend\", \"Additive damped trend\", 'data'], loc = 'best', prop={'size': 16})\n",
    "plt.xticks(rotation=17, fontsize=12)\n",
    "plt.show()"
   ]
  },
  {
   "cell_type": "markdown",
   "metadata": {},
   "source": [
    "#### Holt-Winters 方法(三次指数平滑)\n",
    "- Holt-Winters的方法适用于具有趋势和季节性的数据，其包括季节性平滑参数γ。 \n",
    "- 此方法有两种变体：\n",
    "    - 加法方法：整个序列的季节变化基本保持不变\n",
    "    - 乘法方法：季节变化与系列水平成比例变化"
   ]
  },
  {
   "cell_type": "code",
   "execution_count": null,
   "metadata": {},
   "outputs": [],
   "source": [
    "from statsmodels.tsa.holtwinters import ExponentialSmoothing\n",
    "import matplotlib.pyplot as plt\n",
    "import pandas as pd\n",
    "\n",
    "plt.rcParams['font.family'] = 'Heiti TC'\n",
    "plt.rcParams['axes.unicode_minus']=False"
   ]
  },
  {
   "cell_type": "code",
   "execution_count": null,
   "metadata": {},
   "outputs": [],
   "source": [
    "data = pd.read_excel(\"sale_data.xlsx\")\n",
    "data.set_index('时间', inplace=True)\n",
    "data.head()"
   ]
  },
  {
   "cell_type": "code",
   "execution_count": null,
   "metadata": {},
   "outputs": [],
   "source": [
    "plt.figure(figsize=(20,6))\n",
    "data_sr = data\n",
    "\n",
    "# 在fit1中，我们使用加法趋势，周期 season_length=4 的加性季节和Box-Cox变换。\n",
    "fit1 = ExponentialSmoothing(data_sr, seasonal_periods=4, trend='add', seasonal='add', use_boxcox=True).fit()\n",
    "l1, = plt.plot(list(fit1.fittedvalues) + list(fit1.forecast(5)), marker='^')\n",
    "\n",
    "# 在fit2中，我们使用加法趋势，周期 season_length=4 的乘法季节和Box-Cox变换。\n",
    "fit2 = ExponentialSmoothing(data_sr, seasonal_periods=4, trend='add', seasonal='mul', use_boxcox=True).fit()\n",
    "l2, = plt.plot(list(fit2.fittedvalues) + list(fit2.forecast(5)), marker='*')\n",
    "\n",
    "# 在fit3中，我们使用加性阻尼趋势，周期 season_length=4 的加性季节和Box-Cox变换。\n",
    "fit3 = ExponentialSmoothing(data_sr, seasonal_periods=4, trend='add', seasonal='add', damped=True, use_boxcox=True).fit()\n",
    "l3, = plt.plot(list(fit3.fittedvalues) + list(fit3.forecast(5)), marker='.')\n",
    "\n",
    "# 在fit4中，我们使用加性阻尼趋势，周期 season_length=4 的乘法季节和Box-Cox变换。\n",
    "fit4 = ExponentialSmoothing(data_sr, seasonal_periods=4, trend='add', seasonal='mul', damped=True, use_boxcox=True).fit()\n",
    "l4, = plt.plot(list(fit4.fittedvalues) + list(fit4.forecast(5)), marker='.')\n",
    "\n",
    "# 原始数据\n",
    "l5, = plt.plot(data, marker='.')\n",
    "\n",
    "plt.legend(handles=[l1, l2, l3, l4, l5], labels=[\"aa\", \"am\", \"aa damped\", \"am damped\",\"data\"], loc='best', prop={'size': 16})\n",
    "plt.xticks(rotation=17, fontsize=12)\n",
    "plt.show()"
   ]
  },
  {
   "cell_type": "markdown",
   "metadata": {},
   "source": [
    "#### Autoregressive Moving Average Model(ARMA, 自回归移动平均模型)\n",
    "- ARMA模型将自回归(AR)和移动平均(MA)两种方法结合起来，用于描述时间序列数据的动态特性。\n",
    "- 对于平稳的非白噪声序列，它的均值和方差是常数，ARMA是最常用的平稳序列拟合模型。\n",
    "- 而对于非平稳序列，均值方差不稳定，一般将其转为平稳序列。\n",
    "- ARMA模型的一般形式可以表示为ARMA(p, q)，其中p代表自回归阶数，q代表移动平均阶数。\n",
    "    - AR部分表示时间序列的当前值与过去p个值的线性组合，可以表示为：\n",
    "    $$X_t=c+{\\phi}_1 X_{t-1}+{\\phi}_2 X_{t-2}+ \\dots +{\\phi}_p X_{t-p}+{\\varepsilon}_t $$\n",
    "    - MA部分表示时间序列的当前值与过去q个滞后误差的线性组合，可以表示为：\n",
    "    $$X_t = \\mu+ {\\varepsilon}_t + {\\theta}_1 {\\varepsilon}_{t-1}+{\\theta}_2 {\\varepsilon}_{t-2} + \\dots + {\\theta}_q {\\varepsilon}_{t-q}$$\n",
    "    - 其中，$X_t$表示时间序列的当前值，${\\varepsilon}_t$表示当前时刻的误差，${\\phi}_i$和${\\theta}_i$表示自回归系数和移动平均系数，$c$和$\\mu$表示常数项。\n",
    "    - 则ARMA模型可表示为：\n",
    "    $$X_t={\\varepsilon}_t+{\\phi}_1 X_{t-1}+{\\phi}_2 X_{t-2}+\\dots+{\\phi}_p X_{t-p}+{\\theta}_1{\\varepsilon}_{t-1}+{\\theta}_2{\\varepsilon}_{t-2}+\\dots+{\\theta}_q{\\varepsilon}_{t-q}$$"
   ]
  },
  {
   "cell_type": "markdown",
   "metadata": {},
   "source": [
    "#### Autoregressive Integrated Moving Average Model(ARIMA, 差分自回归移动平均模型)\n",
    "- 如果一个序列差分后具有平稳性，则该序列为差分平稳序列，可用ARIMA"
   ]
  },
  {
   "cell_type": "code",
   "execution_count": null,
   "metadata": {},
   "outputs": [],
   "source": [
    "from statsmodels.graphics.tsaplots import *\n",
    "from statsmodels.tsa.stattools import adfuller as ADF\n",
    "from matplotlib import pylab\n",
    "import matplotlib.dates as mdate\n",
    "\n",
    "pylab.rcParams['figure.figsize'] = (10, 6)"
   ]
  },
  {
   "cell_type": "code",
   "execution_count": null,
   "metadata": {},
   "outputs": [],
   "source": [
    "dateparse = lambda dates:pd.datetime.strptime(dates, '%m/%d/%Y')\n",
    "data = pd.read_csv('stock.csv', parse_dates=['时间'], date_parser=dateparse, index_col=0)\n",
    "data.head()"
   ]
  },
  {
   "cell_type": "code",
   "execution_count": null,
   "metadata": {},
   "outputs": [],
   "source": [
    "fig, ax = plt.subplots()\n",
    "ax.xaxis.set_major_formatter(mdate.DateFormatter('%Y-%m-%d'))\n",
    "plt.xticks(pd.date_range(data.index[0],data.index[-1],freq='3M'),rotation=20, fontsize=12)\n",
    "plt.plot(data)\n",
    "plt.show()"
   ]
  },
  {
   "cell_type": "code",
   "execution_count": null,
   "metadata": {},
   "outputs": [],
   "source": [
    "# 自相关图\n",
    "plot_acf(data).show()"
   ]
  },
  {
   "cell_type": "code",
   "execution_count": null,
   "metadata": {},
   "outputs": [],
   "source": [
    "# 偏自相关图\n",
    "plot_pacf(data).show()"
   ]
  },
  {
   "cell_type": "code",
   "execution_count": null,
   "metadata": {},
   "outputs": [],
   "source": [
    "D_data = data.diff().dropna()   #1阶差分，丢弃na值\n",
    "D_data.columns = [u'一阶差分']  #更改列名\n",
    "D_data.plot() #时序图\n",
    "plt.show()"
   ]
  },
  {
   "cell_type": "code",
   "execution_count": null,
   "metadata": {},
   "outputs": [],
   "source": [
    "plot_acf(D_data, lags=4).show()"
   ]
  },
  {
   "cell_type": "code",
   "execution_count": null,
   "metadata": {},
   "outputs": [],
   "source": [
    "#平稳性检测\n",
    "print(u'原始序列的ADF检验结果为：', ADF(data))"
   ]
  },
  {
   "cell_type": "code",
   "execution_count": null,
   "metadata": {},
   "outputs": [],
   "source": [
    "fig = plt.figure(figsize=(12,8))\n",
    "ax1=fig.add_subplot(211)\n",
    "fig = sm.graphics.tsa.plot_acf(data,lags=40,ax=ax1)\n",
    "ax2 = fig.add_subplot(212)\n",
    "fig = sm.graphics.tsa.plot_pacf(data,lags=40,ax=ax2)"
   ]
  }
 ],
 "metadata": {
  "kernelspec": {
   "display_name": "sxjm",
   "language": "python",
   "name": "python3"
  },
  "language_info": {
   "codemirror_mode": {
    "name": "ipython",
    "version": 3
   },
   "file_extension": ".py",
   "mimetype": "text/x-python",
   "name": "python",
   "nbconvert_exporter": "python",
   "pygments_lexer": "ipython3",
   "version": "3.12.4"
  }
 },
 "nbformat": 4,
 "nbformat_minor": 2
}
