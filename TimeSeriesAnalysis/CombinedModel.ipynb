{
 "cells": [
  {
   "cell_type": "markdown",
   "metadata": {},
   "source": [
    "## Seasonal Decomposition\n",
    "#### 时间序列分解(要求有周期性且包含长期趋势、季节变动会循环变动)"
   ]
  },
  {
   "cell_type": "code",
   "execution_count": null,
   "metadata": {},
   "outputs": [],
   "source": [
    "import warnings\n",
    "warnings.filterwarnings(\"ignore\")"
   ]
  },
  {
   "cell_type": "code",
   "execution_count": null,
   "metadata": {},
   "outputs": [],
   "source": [
    "from statsmodels.tsa.seasonal import seasonal_decompose\n",
    "import matplotlib.pyplot as plt\n",
    "import pandas as pd\n",
    "\n",
    "plt.rcParams['font.family'] = 'Heiti TC'\n",
    "plt.rcParams['axes.unicode_minus']=False"
   ]
  },
  {
   "cell_type": "code",
   "execution_count": null,
   "metadata": {},
   "outputs": [],
   "source": [
    "data = pd.read_excel(\"sale_data.xlsx\")\n",
    "data.set_index('时间', inplace=True)\n",
    "data.head()"
   ]
  },
  {
   "cell_type": "code",
   "execution_count": null,
   "metadata": {},
   "outputs": [],
   "source": [
    "def decompose(timeseries, period):\n",
    "    # 返回值\n",
    "    # -> trend: 趋势部分\n",
    "    # -> seasonal: 季节性部分\n",
    "    # -> residual: 残留部分\n",
    "    decomposition = seasonal_decompose(timeseries, period=period)\n",
    "    \n",
    "    trend = decomposition.trend\n",
    "    seasonal = decomposition.seasonal\n",
    "    residual = decomposition.resid\n",
    "    \n",
    "    plt.figure(figsize=(16,10))\n",
    "    \n",
    "    # 原始数据\n",
    "    plt.subplot(411)\n",
    "    plt.xticks(rotation=15, fontsize=12)\n",
    "    plt.plot(timeseries, label='Original')\n",
    "    plt.legend(loc='best', fontsize=15)\n",
    "    \n",
    "    # 趋势部分\n",
    "    plt.subplot(412)\n",
    "    plt.xticks(rotation=15, fontsize=12)\n",
    "    plt.plot(trend, label='Trend')\n",
    "    plt.legend(loc='best', fontsize=15)\n",
    "    \n",
    "    # 季节性部分\n",
    "    plt.subplot(413)\n",
    "    plt.xticks(rotation=15, fontsize=12)\n",
    "    plt.plot(seasonal,label='Seasonality')\n",
    "    plt.legend(loc='best', fontsize=15)\n",
    "    \n",
    "    # 残留部分\n",
    "    plt.subplot(414)\n",
    "    plt.xticks(rotation=15, fontsize=12)\n",
    "    plt.plot(residual, label='Residuals')\n",
    "    plt.legend(loc='best', fontsize=15)\n",
    "    \n",
    "    plt.tight_layout()"
   ]
  },
  {
   "cell_type": "code",
   "execution_count": null,
   "metadata": {},
   "outputs": [],
   "source": [
    "decompose(data, 4)"
   ]
  },
  {
   "cell_type": "code",
   "execution_count": 19,
   "metadata": {},
   "outputs": [],
   "source": [
    "res = seasonal_decompose(data, period=4)\n",
    "seasonal = res.seasonal"
   ]
  },
  {
   "cell_type": "code",
   "execution_count": 20,
   "metadata": {},
   "outputs": [
    {
     "data": {
      "text/html": [
       "<div>\n",
       "<style scoped>\n",
       "    .dataframe tbody tr th:only-of-type {\n",
       "        vertical-align: middle;\n",
       "    }\n",
       "\n",
       "    .dataframe tbody tr th {\n",
       "        vertical-align: top;\n",
       "    }\n",
       "\n",
       "    .dataframe thead th {\n",
       "        text-align: right;\n",
       "    }\n",
       "</style>\n",
       "<table border=\"1\" class=\"dataframe\">\n",
       "  <thead>\n",
       "    <tr style=\"text-align: right;\">\n",
       "      <th></th>\n",
       "      <th>季节因子</th>\n",
       "    </tr>\n",
       "    <tr>\n",
       "      <th>周期</th>\n",
       "      <th></th>\n",
       "    </tr>\n",
       "  </thead>\n",
       "  <tbody>\n",
       "    <tr>\n",
       "      <th>2014年1季度</th>\n",
       "      <td>6.804688</td>\n",
       "    </tr>\n",
       "    <tr>\n",
       "      <th>2014年2季度</th>\n",
       "      <td>20.929688</td>\n",
       "    </tr>\n",
       "    <tr>\n",
       "      <th>2014年3季度</th>\n",
       "      <td>-8.007812</td>\n",
       "    </tr>\n",
       "    <tr>\n",
       "      <th>2014年4季度</th>\n",
       "      <td>-19.726562</td>\n",
       "    </tr>\n",
       "  </tbody>\n",
       "</table>\n",
       "</div>"
      ],
      "text/plain": [
       "               季节因子\n",
       "周期                 \n",
       "2014年1季度   6.804688\n",
       "2014年2季度  20.929688\n",
       "2014年3季度  -8.007812\n",
       "2014年4季度 -19.726562"
      ]
     },
     "execution_count": 20,
     "metadata": {},
     "output_type": "execute_result"
    }
   ],
   "source": [
    "seasonal_factor = pd.DataFrame(seasonal[:4])\n",
    "seasonal_factor.index.name = '周期'\n",
    "seasonal_factor.columns = ['季节因子']\n",
    "seasonal_factor"
   ]
  }
 ],
 "metadata": {
  "kernelspec": {
   "display_name": "sxjm",
   "language": "python",
   "name": "python3"
  },
  "language_info": {
   "codemirror_mode": {
    "name": "ipython",
    "version": 3
   },
   "file_extension": ".py",
   "mimetype": "text/x-python",
   "name": "python",
   "nbconvert_exporter": "python",
   "pygments_lexer": "ipython3",
   "version": "3.12.4"
  }
 },
 "nbformat": 4,
 "nbformat_minor": 2
}
