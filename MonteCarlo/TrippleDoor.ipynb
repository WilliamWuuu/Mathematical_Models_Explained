{
 "cells": [
  {
   "cell_type": "markdown",
   "metadata": {},
   "source": [
    "三门问题"
   ]
  },
  {
   "cell_type": "code",
   "execution_count": 7,
   "metadata": {},
   "outputs": [],
   "source": [
    "import numpy as np\n",
    "from numpy import random\n",
    "import matplotlib.pyplot as plt"
   ]
  },
  {
   "cell_type": "code",
   "execution_count": 8,
   "metadata": {},
   "outputs": [
    {
     "name": "stdout",
     "output_type": "stream",
     "text": [
      "改变主意赢得的概率： 0.66748\n",
      "不改变主意赢得的概率： 0.33252\n"
     ]
    }
   ],
   "source": [
    "n = 100000  # 模拟次数\n",
    "a = 0  # 不改变主意赢得的次数\n",
    "b = 0  # 改变主意赢得的次数\n",
    "for i in range(n):\n",
    "    x = random.randint(1,4)  # 奖品所在的门号\n",
    "    y = random.randint(1,4)  # 自己所选的门号\n",
    "    if x == y:  # 自己选的是奖品所在门\n",
    "        a += 1  # 不改变则获奖\n",
    "    else:\n",
    "        b += 1\n",
    "print('改变主意赢得的概率：', b/n)\n",
    "print('不改变主意赢得的概率：', a/n)"
   ]
  }
 ],
 "metadata": {
  "kernelspec": {
   "display_name": "pytorch",
   "language": "python",
   "name": "python3"
  },
  "language_info": {
   "codemirror_mode": {
    "name": "ipython",
    "version": 3
   },
   "file_extension": ".py",
   "mimetype": "text/x-python",
   "name": "python",
   "nbconvert_exporter": "python",
   "pygments_lexer": "ipython3",
   "version": "3.11.8"
  }
 },
 "nbformat": 4,
 "nbformat_minor": 2
}
