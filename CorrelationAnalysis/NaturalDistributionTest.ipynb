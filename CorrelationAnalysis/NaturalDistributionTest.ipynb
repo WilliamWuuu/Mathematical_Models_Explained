{
 "cells": [
  {
   "cell_type": "markdown",
   "metadata": {},
   "source": [
    "## 正态分布检验\n",
    "#### Jarque-Bera检验($n>30$)\n",
    "- 在统计学中，Jarque–Bera检验是对样本数据是否具有符合正态分布的偏度(skewness)和峰度(kurtosis)的拟合优度的检验.\n",
    "- JB检验的统计量定义为:\n",
    "$$JB={\\frac {S^{2}}{6/n}}+{\\frac {(K-3)^{2}}{24/n}}$$\n",
    "- 其中：\n",
    "$$n\\text{表示样本数量}$$\n",
    "$$\\text{偏度}S=\\frac{\\hat{\\mu}_3}{\\hat{\\sigma}^3}=\\frac{\\frac{1}{n} \\sum^n_{i=1}(x_i-\\bar{x})^3}{(\\frac{1}{n}\\sum^n_{i=1}(x_i-\\bar{x})^2)^{\\frac{3}{2}}}$$\n",
    "$$\\text{峰度}K=\\frac{\\hat{\\mu}_4}{\\hat{\\sigma}^4}=\\frac{\\frac{1}{n} \\sum^n_{i=1}(x_i-\\bar{x})^4}{(\\frac{1}{n}\\sum^n_{i=1}(x_i-\\bar{x})^2)^2}$$\n",
    "- 若数据采样于正态分布的总体，则JB检验渐进于$χ^2$分布，偏度为0且超额峰度为0。"
   ]
  },
  {
   "cell_type": "code",
   "execution_count": 28,
   "metadata": {},
   "outputs": [],
   "source": [
    "import warnings\n",
    "warnings.filterwarnings('ignore')"
   ]
  },
  {
   "cell_type": "code",
   "execution_count": 11,
   "metadata": {},
   "outputs": [],
   "source": [
    "from scipy import stats\n",
    "import numpy as np\n",
    "import pandas as pd"
   ]
  },
  {
   "cell_type": "code",
   "execution_count": 12,
   "metadata": {},
   "outputs": [],
   "source": [
    "data = pd.read_excel('eighth_girl.xlsx')"
   ]
  },
  {
   "cell_type": "code",
   "execution_count": 13,
   "metadata": {},
   "outputs": [
    {
     "name": "stdout",
     "output_type": "stream",
     "text": [
      "偏度为： -0.023830406806464765\n",
      "峰度为： -0.04187704723369379\n",
      "J-B值： 1.677183433024814\n",
      "p-value: 0.43231892252929705\n"
     ]
    }
   ],
   "source": [
    "x = stats.norm.rvs(2, 3, 10000)    \n",
    "skewness = stats.skew(x)  # 偏度\n",
    "kurtosis = stats.kurtosis(x)  # 峰度\n",
    "jbtext = stats.jarque_bera(x)\n",
    "print('偏度为：',skewness)\n",
    "print('峰度为：',kurtosis)\n",
    "print('J-B值：',jbtext[0])\n",
    "print('p-value:',jbtext[1])"
   ]
  },
  {
   "cell_type": "code",
   "execution_count": 14,
   "metadata": {},
   "outputs": [],
   "source": [
    "def my_jbtest(x, a=0.05):\n",
    "    col_name = x.columns\n",
    "    col_cnt = x.shape[1]\n",
    "    h_mat = np.zeros(col_cnt)\n",
    "    p_mat = np.zeros(col_cnt)\n",
    "    for i in range(col_cnt):\n",
    "        p_val = stats.jarque_bera(data[col_name[i]])[1]\n",
    "        p_mat[i] = p_val\n",
    "        if p_val >= a:\n",
    "            h_mat[i] = 0  # 通过原假设\n",
    "        else:\n",
    "            h_mat[i] = 1  # 拒绝原假设\n",
    "    df = pd.DataFrame([p_mat, h_mat], columns=col_name, index=['p_value', 'H'])\n",
    "    return df"
   ]
  },
  {
   "cell_type": "code",
   "execution_count": 15,
   "metadata": {},
   "outputs": [
    {
     "data": {
      "text/html": [
       "<div>\n",
       "<style scoped>\n",
       "    .dataframe tbody tr th:only-of-type {\n",
       "        vertical-align: middle;\n",
       "    }\n",
       "\n",
       "    .dataframe tbody tr th {\n",
       "        vertical-align: top;\n",
       "    }\n",
       "\n",
       "    .dataframe thead th {\n",
       "        text-align: right;\n",
       "    }\n",
       "</style>\n",
       "<table border=\"1\" class=\"dataframe\">\n",
       "  <thead>\n",
       "    <tr style=\"text-align: right;\">\n",
       "      <th></th>\n",
       "      <th>身高</th>\n",
       "      <th>体重</th>\n",
       "      <th>肺活量</th>\n",
       "      <th>50米跑</th>\n",
       "      <th>立定跳远</th>\n",
       "      <th>坐位体前屈</th>\n",
       "    </tr>\n",
       "  </thead>\n",
       "  <tbody>\n",
       "    <tr>\n",
       "      <th>p_value</th>\n",
       "      <td>0.006021</td>\n",
       "      <td>5.644185e-225</td>\n",
       "      <td>0.00853</td>\n",
       "      <td>5.652357e-12</td>\n",
       "      <td>1.904247e-173</td>\n",
       "      <td>0.039499</td>\n",
       "    </tr>\n",
       "    <tr>\n",
       "      <th>H</th>\n",
       "      <td>1.000000</td>\n",
       "      <td>1.000000e+00</td>\n",
       "      <td>1.00000</td>\n",
       "      <td>1.000000e+00</td>\n",
       "      <td>1.000000e+00</td>\n",
       "      <td>0.000000</td>\n",
       "    </tr>\n",
       "  </tbody>\n",
       "</table>\n",
       "</div>"
      ],
      "text/plain": [
       "               身高             体重      肺活量          50米跑           立定跳远  \\\n",
       "p_value  0.006021  5.644185e-225  0.00853  5.652357e-12  1.904247e-173   \n",
       "H        1.000000   1.000000e+00  1.00000  1.000000e+00   1.000000e+00   \n",
       "\n",
       "            坐位体前屈  \n",
       "p_value  0.039499  \n",
       "H        0.000000  "
      ]
     },
     "execution_count": 15,
     "metadata": {},
     "output_type": "execute_result"
    }
   ],
   "source": [
    "df = my_jbtest(data, 0.01)\n",
    "df"
   ]
  },
  {
   "cell_type": "markdown",
   "metadata": {},
   "source": [
    "#### Shapiro-Wilk检验($3\\leq n\\leq 50$)\n",
    "- The Shapiro–Wilk test is a test of normality published in 1965 by Samuel Sanford Shapiro and Martin Wilk.\n",
    "- Shapiro-Wilk 检验检验样本$x_1, x_2, \\dots, x_n$来自正态分布总体的零假设。检验统计量为：\n",
    "$$W=\\frac{(\\sum^n_{i=1}a_i x_{(i)})^2}{\\sum^n_{i=1}(x_i-\\bar{x})^2}$$\n"
   ]
  },
  {
   "cell_type": "code",
   "execution_count": 16,
   "metadata": {},
   "outputs": [],
   "source": [
    "import matplotlib.pyplot as plt"
   ]
  },
  {
   "cell_type": "code",
   "execution_count": 17,
   "metadata": {},
   "outputs": [
    {
     "data": {
      "text/plain": [
       "ShapiroResult(statistic=0.9839143617748761, pvalue=4.202342215738349e-06)"
      ]
     },
     "execution_count": 17,
     "metadata": {},
     "output_type": "execute_result"
    }
   ],
   "source": [
    "stats.shapiro(data['身高'])"
   ]
  },
  {
   "cell_type": "code",
   "execution_count": 18,
   "metadata": {},
   "outputs": [],
   "source": [
    "def my_shaptext(x,a=0.05):\n",
    "    col_name = x.columns.values\n",
    "    col_cnt = x.shape[1]\n",
    "    h_mat = np.zeros(col_cnt)\n",
    "    p_mat = np.zeros(col_cnt)\n",
    "    for i in range(col_cnt):\n",
    "        p_val = stats.shapiro(data[col_name[i]])[1]\n",
    "        p_mat[i] = p_val\n",
    "        if p_val >= a:\n",
    "            h_mat[i] = 0  # 通过原假设\n",
    "        else:\n",
    "            h_mat[i] = 1  # 拒绝原假设\n",
    "#     print(h_mat)\n",
    "#     print(p_mat)\n",
    "    df = pd.DataFrame([p_mat,h_mat], columns=col_name, index=['p_value','H'])\n",
    "    return df"
   ]
  },
  {
   "cell_type": "code",
   "execution_count": 19,
   "metadata": {},
   "outputs": [
    {
     "data": {
      "text/html": [
       "<div>\n",
       "<style scoped>\n",
       "    .dataframe tbody tr th:only-of-type {\n",
       "        vertical-align: middle;\n",
       "    }\n",
       "\n",
       "    .dataframe tbody tr th {\n",
       "        vertical-align: top;\n",
       "    }\n",
       "\n",
       "    .dataframe thead th {\n",
       "        text-align: right;\n",
       "    }\n",
       "</style>\n",
       "<table border=\"1\" class=\"dataframe\">\n",
       "  <thead>\n",
       "    <tr style=\"text-align: right;\">\n",
       "      <th></th>\n",
       "      <th>身高</th>\n",
       "      <th>体重</th>\n",
       "      <th>肺活量</th>\n",
       "      <th>50米跑</th>\n",
       "      <th>立定跳远</th>\n",
       "      <th>坐位体前屈</th>\n",
       "    </tr>\n",
       "  </thead>\n",
       "  <tbody>\n",
       "    <tr>\n",
       "      <th>p_value</th>\n",
       "      <td>0.000004</td>\n",
       "      <td>2.493826e-18</td>\n",
       "      <td>0.000002</td>\n",
       "      <td>6.099665e-12</td>\n",
       "      <td>4.980987e-14</td>\n",
       "      <td>0.000058</td>\n",
       "    </tr>\n",
       "    <tr>\n",
       "      <th>H</th>\n",
       "      <td>1.000000</td>\n",
       "      <td>1.000000e+00</td>\n",
       "      <td>1.000000</td>\n",
       "      <td>1.000000e+00</td>\n",
       "      <td>1.000000e+00</td>\n",
       "      <td>1.000000</td>\n",
       "    </tr>\n",
       "  </tbody>\n",
       "</table>\n",
       "</div>"
      ],
      "text/plain": [
       "               身高            体重       肺活量          50米跑          立定跳远  \\\n",
       "p_value  0.000004  2.493826e-18  0.000002  6.099665e-12  4.980987e-14   \n",
       "H        1.000000  1.000000e+00  1.000000  1.000000e+00  1.000000e+00   \n",
       "\n",
       "            坐位体前屈  \n",
       "p_value  0.000058  \n",
       "H        1.000000  "
      ]
     },
     "execution_count": 19,
     "metadata": {},
     "output_type": "execute_result"
    }
   ],
   "source": [
    "my_shaptext(data)"
   ]
  },
  {
   "cell_type": "markdown",
   "metadata": {},
   "source": [
    "#### Q-Q图(大样本)"
   ]
  },
  {
   "cell_type": "code",
   "execution_count": 20,
   "metadata": {},
   "outputs": [
    {
     "data": {
      "image/png": "[encoded data removed]",
      "text/plain": [
       "<Figure size 1000x500 with 2 Axes>"
      ]
     },
     "metadata": {},
     "output_type": "display_data"
    }
   ],
   "source": [
    "x = stats.norm.rvs(2, 3, 10000)\n",
    "\n",
    "fig = plt.figure(figsize=(10,5))\n",
    "fig.add_subplot(1,2,1)\n",
    "stats.probplot(x, dist=\"norm\", plot=plt)\n",
    "\n",
    "fig.add_subplot(1,2,2)\n",
    "stats.probplot(data['身高'], dist=\"norm\", plot=plt)\n",
    "\n",
    "plt.show()"
   ]
  },
  {
   "cell_type": "markdown",
   "metadata": {},
   "source": [
    "#### Spearman Correlation\n",
    "- 对于样本容量为$n$的样本，将$n$个原始数据$X_i,Y_i$转换成等级数据$R(X_i),R(Y_i)$，则相关系数$r_s$为：\n",
    "$$r_s=\\rho _{R(X),R(Y)}=\\frac{cov(R(X),R(Y))}{\\sigma _{R(X)}\\sigma _{R(Y)}}=\\frac{\\sum^n_{i=1} (R(X_i)-\\bar{R}(X))(R(Y_i)-\\bar{R}(Y))}{\\sqrt{\\sum^n_{i=1} (R(X_i)-\\bar{R}(X))^2\\sum^n_{i=1} (R(Y_i)-\\bar{R}(Y))^2}}$$\n",
    "- 当所有等级数值都为整数(原数据中没有相同值)时，可以通过以下简单的步骤计算等级相关系数：\n",
    "- $$r_s=1-\\frac{6\\sum^n_{i=1}d^2_i}{n(n^2-1)}$$\n",
    "    - 其中$d_i=R(X_i)-R(Y_i)$\n",
    "- 如果当$X$增加时，$Y$趋向于增加，则斯皮尔曼相关系数为正；如果当$X$增加时，$Y$趋向于减少，则斯皮尔曼相关系数为负。\n",
    "- 斯皮尔曼相关系数为$0$表明当$X$增加时$Y$没有任何趋向性。当$X$和$Y$越来越接近完全的单调相关时，斯皮尔曼相关系数会在绝对值上增加。\n",
    "- 当$X$和$Y$完全单调相关时，斯皮尔曼相关系数的绝对值为$1$。"
   ]
  },
  {
   "cell_type": "code",
   "execution_count": 22,
   "metadata": {},
   "outputs": [
    {
     "data": {
      "text/html": [
       "<div>\n",
       "<style scoped>\n",
       "    .dataframe tbody tr th:only-of-type {\n",
       "        vertical-align: middle;\n",
       "    }\n",
       "\n",
       "    .dataframe tbody tr th {\n",
       "        vertical-align: top;\n",
       "    }\n",
       "\n",
       "    .dataframe thead th {\n",
       "        text-align: right;\n",
       "    }\n",
       "</style>\n",
       "<table border=\"1\" class=\"dataframe\">\n",
       "  <thead>\n",
       "    <tr style=\"text-align: right;\">\n",
       "      <th></th>\n",
       "      <th>身高</th>\n",
       "      <th>体重</th>\n",
       "      <th>肺活量</th>\n",
       "      <th>50米跑</th>\n",
       "      <th>立定跳远</th>\n",
       "      <th>坐位体前屈</th>\n",
       "    </tr>\n",
       "  </thead>\n",
       "  <tbody>\n",
       "    <tr>\n",
       "      <th>身高</th>\n",
       "      <td>1.000000</td>\n",
       "      <td>0.030134</td>\n",
       "      <td>-0.243004</td>\n",
       "      <td>-0.199045</td>\n",
       "      <td>0.062436</td>\n",
       "      <td>0.109855</td>\n",
       "    </tr>\n",
       "    <tr>\n",
       "      <th>体重</th>\n",
       "      <td>0.030134</td>\n",
       "      <td>1.000000</td>\n",
       "      <td>0.130468</td>\n",
       "      <td>0.089845</td>\n",
       "      <td>0.021638</td>\n",
       "      <td>-0.048798</td>\n",
       "    </tr>\n",
       "    <tr>\n",
       "      <th>肺活量</th>\n",
       "      <td>-0.243004</td>\n",
       "      <td>0.130468</td>\n",
       "      <td>1.000000</td>\n",
       "      <td>0.262607</td>\n",
       "      <td>0.021946</td>\n",
       "      <td>-0.080075</td>\n",
       "    </tr>\n",
       "    <tr>\n",
       "      <th>50米跑</th>\n",
       "      <td>-0.199045</td>\n",
       "      <td>0.089845</td>\n",
       "      <td>0.262607</td>\n",
       "      <td>1.000000</td>\n",
       "      <td>-0.090988</td>\n",
       "      <td>-0.002918</td>\n",
       "    </tr>\n",
       "    <tr>\n",
       "      <th>立定跳远</th>\n",
       "      <td>0.062436</td>\n",
       "      <td>0.021638</td>\n",
       "      <td>0.021946</td>\n",
       "      <td>-0.090988</td>\n",
       "      <td>1.000000</td>\n",
       "      <td>-0.039892</td>\n",
       "    </tr>\n",
       "    <tr>\n",
       "      <th>坐位体前屈</th>\n",
       "      <td>0.109855</td>\n",
       "      <td>-0.048798</td>\n",
       "      <td>-0.080075</td>\n",
       "      <td>-0.002918</td>\n",
       "      <td>-0.039892</td>\n",
       "      <td>1.000000</td>\n",
       "    </tr>\n",
       "  </tbody>\n",
       "</table>\n",
       "</div>"
      ],
      "text/plain": [
       "             身高        体重       肺活量      50米跑      立定跳远     坐位体前屈\n",
       "身高     1.000000  0.030134 -0.243004 -0.199045  0.062436  0.109855\n",
       "体重     0.030134  1.000000  0.130468  0.089845  0.021638 -0.048798\n",
       "肺活量   -0.243004  0.130468  1.000000  0.262607  0.021946 -0.080075\n",
       "50米跑  -0.199045  0.089845  0.262607  1.000000 -0.090988 -0.002918\n",
       "立定跳远   0.062436  0.021638  0.021946 -0.090988  1.000000 -0.039892\n",
       "坐位体前屈  0.109855 -0.048798 -0.080075 -0.002918 -0.039892  1.000000"
      ]
     },
     "execution_count": 22,
     "metadata": {},
     "output_type": "execute_result"
    }
   ],
   "source": [
    "data.corr(method='spearman')"
   ]
  },
  {
   "cell_type": "markdown",
   "metadata": {},
   "source": [
    "斯皮尔曼相关系数的假设检验"
   ]
  },
  {
   "cell_type": "code",
   "execution_count": 23,
   "metadata": {},
   "outputs": [],
   "source": [
    "# 自定义求解p值矩阵的函数\n",
    "def my_pvalue_spearman(x):\n",
    "    col = x.shape[1]\n",
    "    col_name = x.columns.values\n",
    "    p_val = []\n",
    "    for i in range(col):\n",
    "        for j in range(col):\n",
    "            p_val.append(stats.spearmanr(x[col_name[i]], x[col_name[j]])[1])\n",
    "    p_val = pd.DataFrame(np.array(p_val).reshape(col, col), columns=col_name, index=col_name)\n",
    "    p_val.to_csv('p_val_spearman.csv')\n",
    "    p_val = pd.read_csv('p_val_spearman.csv', index_col=0)\n",
    "    return p_val"
   ]
  },
  {
   "cell_type": "code",
   "execution_count": 24,
   "metadata": {},
   "outputs": [],
   "source": [
    "pd.set_option('display.float_format', lambda x: '%.3f' % x)"
   ]
  },
  {
   "cell_type": "code",
   "execution_count": 25,
   "metadata": {},
   "outputs": [
    {
     "data": {
      "text/html": [
       "<div>\n",
       "<style scoped>\n",
       "    .dataframe tbody tr th:only-of-type {\n",
       "        vertical-align: middle;\n",
       "    }\n",
       "\n",
       "    .dataframe tbody tr th {\n",
       "        vertical-align: top;\n",
       "    }\n",
       "\n",
       "    .dataframe thead th {\n",
       "        text-align: right;\n",
       "    }\n",
       "</style>\n",
       "<table border=\"1\" class=\"dataframe\">\n",
       "  <thead>\n",
       "    <tr style=\"text-align: right;\">\n",
       "      <th></th>\n",
       "      <th>身高</th>\n",
       "      <th>体重</th>\n",
       "      <th>肺活量</th>\n",
       "      <th>50米跑</th>\n",
       "      <th>立定跳远</th>\n",
       "      <th>坐位体前屈</th>\n",
       "    </tr>\n",
       "  </thead>\n",
       "  <tbody>\n",
       "    <tr>\n",
       "      <th>身高</th>\n",
       "      <td>0.000</td>\n",
       "      <td>0.465</td>\n",
       "      <td>0.000</td>\n",
       "      <td>0.000</td>\n",
       "      <td>0.129</td>\n",
       "      <td>0.008</td>\n",
       "    </tr>\n",
       "    <tr>\n",
       "      <th>体重</th>\n",
       "      <td>0.465</td>\n",
       "      <td>0.000</td>\n",
       "      <td>0.001</td>\n",
       "      <td>0.029</td>\n",
       "      <td>0.600</td>\n",
       "      <td>0.236</td>\n",
       "    </tr>\n",
       "    <tr>\n",
       "      <th>肺活量</th>\n",
       "      <td>0.000</td>\n",
       "      <td>0.001</td>\n",
       "      <td>0.000</td>\n",
       "      <td>0.000</td>\n",
       "      <td>0.594</td>\n",
       "      <td>0.052</td>\n",
       "    </tr>\n",
       "    <tr>\n",
       "      <th>50米跑</th>\n",
       "      <td>0.000</td>\n",
       "      <td>0.029</td>\n",
       "      <td>0.000</td>\n",
       "      <td>0.000</td>\n",
       "      <td>0.027</td>\n",
       "      <td>0.944</td>\n",
       "    </tr>\n",
       "    <tr>\n",
       "      <th>立定跳远</th>\n",
       "      <td>0.129</td>\n",
       "      <td>0.600</td>\n",
       "      <td>0.594</td>\n",
       "      <td>0.027</td>\n",
       "      <td>0.000</td>\n",
       "      <td>0.333</td>\n",
       "    </tr>\n",
       "    <tr>\n",
       "      <th>坐位体前屈</th>\n",
       "      <td>0.008</td>\n",
       "      <td>0.236</td>\n",
       "      <td>0.052</td>\n",
       "      <td>0.944</td>\n",
       "      <td>0.333</td>\n",
       "      <td>0.000</td>\n",
       "    </tr>\n",
       "  </tbody>\n",
       "</table>\n",
       "</div>"
      ],
      "text/plain": [
       "         身高    体重   肺活量  50米跑  立定跳远  坐位体前屈\n",
       "身高    0.000 0.465 0.000 0.000 0.129  0.008\n",
       "体重    0.465 0.000 0.001 0.029 0.600  0.236\n",
       "肺活量   0.000 0.001 0.000 0.000 0.594  0.052\n",
       "50米跑  0.000 0.029 0.000 0.000 0.027  0.944\n",
       "立定跳远  0.129 0.600 0.594 0.027 0.000  0.333\n",
       "坐位体前屈 0.008 0.236 0.052 0.944 0.333  0.000"
      ]
     },
     "execution_count": 25,
     "metadata": {},
     "output_type": "execute_result"
    }
   ],
   "source": [
    "sp_result = my_pvalue_spearman(data)\n",
    "sp_result"
   ]
  },
  {
   "cell_type": "code",
   "execution_count": 26,
   "metadata": {},
   "outputs": [],
   "source": [
    "def append_sign(x):\n",
    "    temp = str(round(x,3))\n",
    "    if x < 0.01:\n",
    "        return temp + '**'\n",
    "    elif 0.01 <= x < 0.05:\n",
    "        return temp + '*'\n",
    "    else:\n",
    "        return temp"
   ]
  },
  {
   "cell_type": "code",
   "execution_count": 29,
   "metadata": {},
   "outputs": [
    {
     "data": {
      "text/html": [
       "<div>\n",
       "<style scoped>\n",
       "    .dataframe tbody tr th:only-of-type {\n",
       "        vertical-align: middle;\n",
       "    }\n",
       "\n",
       "    .dataframe tbody tr th {\n",
       "        vertical-align: top;\n",
       "    }\n",
       "\n",
       "    .dataframe thead th {\n",
       "        text-align: right;\n",
       "    }\n",
       "</style>\n",
       "<table border=\"1\" class=\"dataframe\">\n",
       "  <thead>\n",
       "    <tr style=\"text-align: right;\">\n",
       "      <th></th>\n",
       "      <th>身高</th>\n",
       "      <th>体重</th>\n",
       "      <th>肺活量</th>\n",
       "      <th>50米跑</th>\n",
       "      <th>立定跳远</th>\n",
       "      <th>坐位体前屈</th>\n",
       "    </tr>\n",
       "  </thead>\n",
       "  <tbody>\n",
       "    <tr>\n",
       "      <th>身高</th>\n",
       "      <td>0.0**</td>\n",
       "      <td>0.465</td>\n",
       "      <td>0.0**</td>\n",
       "      <td>0.0**</td>\n",
       "      <td>0.129</td>\n",
       "      <td>0.008**</td>\n",
       "    </tr>\n",
       "    <tr>\n",
       "      <th>体重</th>\n",
       "      <td>0.465</td>\n",
       "      <td>0.0**</td>\n",
       "      <td>0.001**</td>\n",
       "      <td>0.029*</td>\n",
       "      <td>0.6</td>\n",
       "      <td>0.236</td>\n",
       "    </tr>\n",
       "    <tr>\n",
       "      <th>肺活量</th>\n",
       "      <td>0.0**</td>\n",
       "      <td>0.001**</td>\n",
       "      <td>0.0**</td>\n",
       "      <td>0.0**</td>\n",
       "      <td>0.594</td>\n",
       "      <td>0.052</td>\n",
       "    </tr>\n",
       "    <tr>\n",
       "      <th>50米跑</th>\n",
       "      <td>0.0**</td>\n",
       "      <td>0.029*</td>\n",
       "      <td>0.0**</td>\n",
       "      <td>0.0**</td>\n",
       "      <td>0.027*</td>\n",
       "      <td>0.944</td>\n",
       "    </tr>\n",
       "    <tr>\n",
       "      <th>立定跳远</th>\n",
       "      <td>0.129</td>\n",
       "      <td>0.6</td>\n",
       "      <td>0.594</td>\n",
       "      <td>0.027*</td>\n",
       "      <td>0.0**</td>\n",
       "      <td>0.333</td>\n",
       "    </tr>\n",
       "    <tr>\n",
       "      <th>坐位体前屈</th>\n",
       "      <td>0.008**</td>\n",
       "      <td>0.236</td>\n",
       "      <td>0.052</td>\n",
       "      <td>0.944</td>\n",
       "      <td>0.333</td>\n",
       "      <td>0.0**</td>\n",
       "    </tr>\n",
       "  </tbody>\n",
       "</table>\n",
       "</div>"
      ],
      "text/plain": [
       "            身高       体重      肺活量    50米跑    立定跳远    坐位体前屈\n",
       "身高       0.0**    0.465    0.0**   0.0**   0.129  0.008**\n",
       "体重       0.465    0.0**  0.001**  0.029*     0.6    0.236\n",
       "肺活量      0.0**  0.001**    0.0**   0.0**   0.594    0.052\n",
       "50米跑     0.0**   0.029*    0.0**   0.0**  0.027*    0.944\n",
       "立定跳远     0.129      0.6    0.594  0.027*   0.0**    0.333\n",
       "坐位体前屈  0.008**    0.236    0.052   0.944   0.333    0.0**"
      ]
     },
     "execution_count": 29,
     "metadata": {},
     "output_type": "execute_result"
    }
   ],
   "source": [
    "row = sp_result.shape[1]\n",
    "sp_signed = sp_result.copy()\n",
    "for r in range(row):\n",
    "    sp_signed.iloc[:,r] = sp_result.iloc[:,r].apply(append_sign)\n",
    "    \n",
    "sp_signed"
   ]
  },
  {
   "cell_type": "markdown",
   "metadata": {},
   "source": [
    "斯皮尔曼相关系数和皮尔逊相关系数的选择：\n",
    "\n",
    "1. 连续数据，正态分布，线性关系，用Pearson相关系数是最恰当，当然用Spearman相关系数也可以，就是效率没有Pearson相关系数高。\n",
    "\n",
    "2. 上述任一条件不满足，就用Spearman相关系数，不能用Pearson相关系数。\n",
    "\n",
    "3. 两个定序数据之间也用Spearman相关系数，不能用Pearson相关系数。"
   ]
  }
 ],
 "metadata": {
  "kernelspec": {
   "display_name": "sxjm",
   "language": "python",
   "name": "python3"
  },
  "language_info": {
   "codemirror_mode": {
    "name": "ipython",
    "version": 3
   },
   "file_extension": ".py",
   "mimetype": "text/x-python",
   "name": "python",
   "nbconvert_exporter": "python",
   "pygments_lexer": "ipython3",
   "version": "3.12.4"
  }
 },
 "nbformat": 4,
 "nbformat_minor": 2
}
