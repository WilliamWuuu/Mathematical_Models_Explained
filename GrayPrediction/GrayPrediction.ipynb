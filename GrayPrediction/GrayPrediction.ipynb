{
 "cells": [
  {
   "cell_type": "markdown",
   "metadata": {},
   "source": [
    "## 灰色预测模型\n",
    "#### 相关概念\n",
    "- 白色系统：指一个系统的内部特征的完全已知的，即系统信息是完全公开的\n",
    "- 黑色系统：与白色系统相反，指一个系统的内部信息对外界来说是一无所知的，只能通过它与外界的联系来加以观测研究\n",
    "- 灰色系统：介于白色系统和黑色系统之间，即系统内一部分信息是已知的，但另一部分信息是未知的，系统内各因素间有不确定的关系\n",
    "#### 灰色系统的特点\n",
    "- 用灰色数学处理不确定量，使之量化\n",
    "- 充分利用已知信息寻求系统的运动规律\n",
    "- 灰色系统理论能处理贫信息系统\n",
    "#### 灰色预测的优势\n",
    "- 目前常用的一些预测方法（如回归分析等），需要较大的样本，对于少样本的情况就会造成比较大的误差，使预测目标失效。而灰色预测模型所需的建模信息少、运算方便、建模精度高，因此在各种预测领域都有着广泛的应用，是处理小样本预测问题的有效工具\n",
    "#### 灰色生成\n",
    "- 累加生成\n",
    "    - 通过数列间各数据的依个累加以得到新的数据与数列，累加前的数列称为原始数列，累加后的数列称为生成数列。累加生成是使灰色过程由灰变白的一种方法。\n",
    "    - 通过累加生成可以看出灰量积累过程的发展态势，使离乱的原始数据中蕴含的积分特性或规律加以显化。\n",
    "    $$\\text{原始数据：}x^{(1)}=[x_1^{(1)},x_2^{(1)},x_3^{(1)},\\dots]$$\n",
    "    $$\\text{累加数据：}x_k^{(2)}=\\sum^k_{i=1}x_i^{(1)}$$\n",
    "#### 灰色模型：GM(1,1)\n",
    "- 灰色模型是利用离散随机数经过生成变为随机性被显著削弱而且较有规律的生成数，建立起的微分方程形式的模型。\n",
    "- $x^{(2)}$的灰导数： $$x_k^{(1)}=x_k^{(2)}-x_{k-1}^{(2)}$$\n",
    "- 令$z_k$为$x^{(2)}$的临近生成数列，即白化背景值： $$z_k=\\alpha x_k^{(1)}+(1-\\alpha)x^{(1)}$$\n",
    "- GM(1,1) 的灰微分方程模型为: $$x_k^{(1)}+az_k=b$$\n",
    "- 其中 a 为发展系数，b 为灰作用量 \n",
    "$$u=\\left[ \\begin{matrix}a \\\\ b\\end{matrix} \\right],Y=\\left[ \\begin{matrix}x_2^{(1)} \\\\ x_3^{(1)} \\\\ . \\\\ . \\\\ . \\\\ x_n^{(1)}\\end{matrix} \\right],B=\\left[ \\begin{matrix}-z_2^{(1)} & 1 \\\\ -z_3^{(1)} & 1 \\\\ . & . \\\\ . & . \\\\ . & . \\\\ -z_n^{(1)} & 1\\end{matrix} \\right]$$\n",
    "- 则 GM(1,1) 的模型表示为： $$Y=Bu$$\n",
    "- 用最小二乘法求 a、b 的估计值： $$u=\\left[ \\begin{matrix}a \\\\ b\\end{matrix} \\right]=(B^T B)^{-1}B^T Y$$\n",
    "#### 灰色预测的流程\n",
    "- 数据的检验与处理: 对已知数据做必要的检验处理，看GM(1,1)的模型能否使用\n",
    "    - 原始数据：$x^{(1)}=[x_1^{(1)},x_2^{(1)},x_3^{(1)},\\dots]$，数据的极比：$$\\lambda(k)=\\frac{x_{k-1}^{(1)}}{x_k^{(1)}}$$\n",
    "    - 如果所有的级比都落在可容覆盖区间$X=(e^{\\frac{-2}{n+2}},e^{\\frac{2}{n+2}})$内，则可以进行灰度预测，否则对数据做适当的变换处理\n",
    "- 建立GM(1,1)模型 $$x_k^{(1)}+az_k=b$$\n",
    "    - 用回归分析求得 a、b 的估计值，于是相应的白化模型为：$$\\frac{dx_t^{(2)}}{dt}+ax_t^{(2)}=b$$\n",
    "    - 解为：$$x_t^{(2)}=(x_1^{(1)}-\\frac{b}{a})e^{-a(t-1)}+\\frac{b}{a}$$\n",
    "    - 得到预测值：$$x_{k+1}^{(2)}=(x_1^{(1)}-\\frac{b}{a})e^{-ak}+\\frac{b}{a}$$\n",
    "    - 进一步得到原始预测值：$$\\hat{x}_{k+1}^{(1)}=\\hat{x}_{k+1}^{(2)}-\\hat{x}_{k}^{(2)}$$\n",
    "- 检验预测值\n",
    "    - 相对误差大小检验法：$$\\epsilon(k)=\\frac{x_k^{(1)}-\\hat{x}_k^{(1)}}{x_k^{(1)}}$$\n",
    "    - 如果对所有的 $|\\epsilon(k)| < 0.1$，则认为到达较高的要求;如果对所有的 $|\\epsilon(k)| < 0.2$，则认为到达一般的要求."
   ]
  },
  {
   "cell_type": "code",
   "execution_count": 1,
   "metadata": {},
   "outputs": [],
   "source": [
    "import pandas as pd\n",
    "import numpy as np\n",
    "import matplotlib.pyplot as plt\n",
    "from sklearn.linear_model import LinearRegression"
   ]
  },
  {
   "cell_type": "code",
   "execution_count": 2,
   "metadata": {},
   "outputs": [],
   "source": [
    "# 支持显示中文\n",
    "plt.rcParams['font.family'] = 'Heiti TC'\n",
    "plt.rcParams['axes.unicode_minus']=False"
   ]
  },
  {
   "cell_type": "code",
   "execution_count": 3,
   "metadata": {},
   "outputs": [],
   "source": [
    "x0 = np.array([174,179,183,189,207,234,220.5,256,270,285])\n",
    "year = np.array(np.arange(1995,2005))"
   ]
  },
  {
   "cell_type": "code",
   "execution_count": 4,
   "metadata": {},
   "outputs": [],
   "source": [
    "class GrayPre:\n",
    "    def __init__(self, xdata, ydata):\n",
    "        # 自变量，通常是时间\n",
    "        self.xdata = xdata \n",
    "        # 因变量，通常想要预测的数据\n",
    "        self.ydata = ydata\n",
    "        # 存储 ydata 的长度\n",
    "        self.n = len(ydata)\n",
    "        \n",
    "        # 如果 xdata 或 ydata 不为列向量，则会被重塑为列向量。\n",
    "        if self.xdata.shape[0] > 1:\n",
    "            self.xdata = self.xdata.reshape(-1,1)\n",
    "        if self.ydata.shape[0] > 1:\n",
    "            self.ydata = self.ydata.reshape(-1,1)\n",
    "\n",
    "        if True in self.ydata < 0:\n",
    "            print('不能有负数')\n",
    "            \n",
    "        print('原始数据长度：%s' % self.n)\n",
    "        if self.n <= 3:\n",
    "            print('数据量太小')\n",
    "        elif self.n > 10:\n",
    "            print('可以考虑使用其他方法进行预测')\n",
    "    \n",
    "    # 绘制 xdata 与 ydata 的一个简单的带有网格线和标签轴关系图。\n",
    "    def gplot(self, gxlabel, gylabel):\n",
    "        plt.plot(self.xdata, self.ydata, marker='o', markerfacecolor='none')\n",
    "        plt.grid()\n",
    "        plt.xlabel(gxlabel)\n",
    "        plt.ylabel(gylabel)\n",
    "        plt.show()\n",
    "        \n",
    "    def expon_test(self):\n",
    "        print('准指数规律检验')\n",
    "        year = self.xdata\n",
    "        x0 = self.ydata\n",
    "        \n",
    "        # 计算 x^(0) 的累积和 x^(1)\n",
    "        x1 = np.cumsum(x0).reshape(-1, 1)\n",
    "        \n",
    "        # 计算光滑度 rho(k)=x0(k)/x1(k-1)\n",
    "        rho = x0[1:] / x1[:-1]\n",
    "        \n",
    "        # 统计小于0.5的个数\n",
    "        print(sum((rho<0.5).astype(int))[0])\n",
    "        \n",
    "        plt.plot(year[1:], rho, marker='o', markerfacecolor='none')\n",
    "        plt.grid()\n",
    "        plt.axhline(y=0.5, color='r', linestyle='--', label='平均违约率')\n",
    "        plt.text(year[-3]-1,0.55, '临界线：y=0.5', fontsize=15)\n",
    "        \n",
    "    train_x0 = x0[:-3]  \n",
    "    test_x0 = x0[-3:]\n",
    "    \n",
    "    def gm11(self, test_num=3, pre_num=3):\n",
    "        # 原始数据\n",
    "        x0 = self.ydata\n",
    "        # 原始数据的长度\n",
    "        n = len(x0)\n",
    "        # 计算累积和\n",
    "        x1 = np.cumsum(x0).reshape(-1, 1)\n",
    "        # 生成序列 z1，即相邻累积和平均值的序列\n",
    "        z1 = (x1[:-1]+x1[1:]) / 2\n",
    "        \n",
    "        # 对 z1 和 y(ydata[1:]) 进行线性回归拟合。\n",
    "        y = x0[1:]\n",
    "        x = z1\n",
    "        reg = LinearRegression()\n",
    "        reg.fit(x,y)\n",
    "        \n",
    "        # 求得 a, b 估计值\n",
    "        a = -np.unique(reg.coef_)[0]\n",
    "        b = np.unique(reg.intercept_)[0]\n",
    "        \n",
    "        # 根据 GM(1,1) 模型预测序列 x0_hat，并计算未来的值\n",
    "        x0_hat = np.zeros((n, 1))\n",
    "        x0_hat[0] = x0[0]\n",
    "        for i in range(n - 1):\n",
    "            x0_hat[i + 1] = (1 - np.exp(a)) * (x0[0] - b / a) * np.exp(- a * (i + 1))\n",
    "        self.x0_hat = x0_hat\n",
    "        result = np.zeros((pre_num, 1))\n",
    "        \n",
    "        for i in range(pre_num):\n",
    "            result[i] = (1 - np.exp(a)) * (x0[0] - b / a) * np.exp(- a * (n + i))\n",
    "\n",
    "        self.result = result\n",
    "        \n",
    "        # 计算预测值与实际值之间的绝对残差和相对残差。\n",
    "        absolute_residuals = x0[1:] - x0_hat[1:]\n",
    "        relative_residuals = abs(absolute_residuals) / x0[1:]\n",
    "        \n",
    "        # 级比与级比偏差\n",
    "        class_ratio = x0[1:] / x0[:-1]\n",
    "        eta = abs(1 - (1 - 0.5 * a) / (1 + 0.5 * a) * (1 / class_ratio))\n",
    "        self.eta = eta\n",
    "        \n",
    "        plt.plot(year[1:], relative_residuals)\n",
    "        \n",
    "        return result\n",
    "    \n",
    "    # 改进版的 GM(1,1) 预测\n",
    "    # 使用 sigle_compute_result 方法迭代预测 pre_num1 个未来值。\n",
    "\t# 结果附加到原始数据 x0，实现迭代预测。\n",
    "    def new_gm11(self, x0, pre_num1=3):\n",
    "        result1 = np.zeros((pre_num1,1))\n",
    "        x0_ = x0\n",
    "        for i in range(pre_num1):\n",
    "            result1[i] = self.sigle_compute_result(x0=x0_, pred_num=1)\n",
    "            x0_ = np.append(x0_, result1[i])\n",
    "        return result1\n",
    "    \n",
    "    # 计算单步 GM(1,1) 预测\n",
    "    # 遵循与 gm11 相同的方法，但只返回指定 pred_num 步的预测值。\n",
    "    def sigle_compute_result(self, x0, pred_num=3):\n",
    "        n = len(x0)\n",
    "        x1 = np.cumsum(x0).reshape(-1,1)\n",
    "        z1 = (x1[:-1] + x1[1:]) / 2\n",
    "        y = x0[1:]\n",
    "        x = z1\n",
    "        reg = LinearRegression()\n",
    "        reg.fit(x, y)\n",
    "        a = -np.unique(reg.coef_)[0]\n",
    "        b = np.unique(reg.intercept_)[0]\n",
    "        sigle_result = np.zeros((pred_num,1))\n",
    "        for i in range(pred_num):\n",
    "            sigle_result[i] = (1 - np.exp(a)) * (x0[0] - b / a) * np.exp(- a * (n + i))\n",
    "        \n",
    "        return sigle_result\n",
    "    \n",
    "    # 实现了 GM(1,1) 的新陈代谢版本，其中输入数据窗口随着每次预测进行更新\n",
    "    # 它在每次预测时向前滑动输入窗口，生成 pre_num2 个未来值。    \n",
    "    def metab_gm11(self,x0,pre_num2=3):\n",
    "        result2 = np.zeros((pre_num2,1))\n",
    "        x0__ = x0\n",
    "        for i in range(pre_num2):\n",
    "            result2[i] = self.sigle_compute_result(x0=x0__,pred_num=1)\n",
    "            x0__ = np.append(x0__[1:], result2[i])\n",
    "        return result2\n",
    "    \n",
    "    # 绘制原始数据 (ydata) 与三种不同 GM(1,1) 模型的预测结果：传统 GM(1,1)、改进版 GM(1,1) 和新陈代谢 GM(1,1)\n",
    "    def draw_result(self):\n",
    "        x0 = self.ydata[-3:]\n",
    "        gm11_result = self.sigle_compute_result(x0=self.train_x0)\n",
    "        new_gm11_result = self.new_gm11(x0=self.train_x0)\n",
    "        metab_gm11_result = self.metab_gm11(x0=self.train_x0)\n",
    "        pred_year = self.xdata[-3:]\n",
    "        plt.plot(pred_year,x0,label='原始数据')\n",
    "        plt.plot(pred_year,gm11_result,label='gm11预测结果')\n",
    "        plt.plot(pred_year,new_gm11_result,label='新gm11预测结果')\n",
    "        plt.plot(pred_year,metab_gm11_result,label='新陈代谢gm11预测结果')\n",
    "        plt.MultipleLocator(1)\n",
    "        plt.xticks(np.arange(pred_year[0],pred_year[-1]+1,1))\n",
    "        plt.legend()\n",
    "        \n",
    "    # 使用测试数据计算三个 GM(1,1) 模型的平方误差和 (SSE)   \n",
    "    def compute_sse(self):\n",
    "        gm11_result = self.sigle_compute_result(x0=self.train_x0)\n",
    "        new_gm11_result = self.new_gm11(x0=self.train_x0)\n",
    "        metab_gm11_result = self.metab_gm11(x0=self.train_x0)\n",
    "\n",
    "        sse1 = sum((self.test_x0.reshape(-1,1)-gm11_result) **2)\n",
    "        sse2 = sum((self.test_x0.reshape(-1,1)-new_gm11_result) **2)\n",
    "        sse3 = sum((self.test_x0.reshape(-1,1)-metab_gm11_result) **2)\n",
    "        print('传统GM(1,1)预测误差平方和：',sse1[0])\n",
    "        print('新GM(1,1)预测误差平方和：',sse2[0])\n",
    "        print('新陈代谢GM(1,1)预测误差平方和：',sse3[0])"
   ]
  },
  {
   "cell_type": "code",
   "execution_count": 5,
   "metadata": {},
   "outputs": [
    {
     "name": "stdout",
     "output_type": "stream",
     "text": [
      "原始数据长度：10\n"
     ]
    },
    {
     "data": {
      "text/plain": [
       "array([[303.01223193],\n",
       "       [322.52210378],\n",
       "       [343.28814636]])"
      ]
     },
     "execution_count": 5,
     "metadata": {},
     "output_type": "execute_result"
    },
    {
     "data": {
      "image/png": "[encoded data removed]",
      "text/plain": [
       "<Figure size 640x480 with 1 Axes>"
      ]
     },
     "metadata": {},
     "output_type": "display_data"
    }
   ],
   "source": [
    "a = GrayPre(xdata=year, ydata=x0)\n",
    "a.gm11()"
   ]
  },
  {
   "cell_type": "code",
   "execution_count": 6,
   "metadata": {},
   "outputs": [
    {
     "data": {
      "text/plain": [
       "array([174. , 179. , 183. , 189. , 207. , 234. , 220.5, 256. , 270. ,\n",
       "       285. ,   1. ,   3. ,   4. ])"
      ]
     },
     "execution_count": 6,
     "metadata": {},
     "output_type": "execute_result"
    }
   ],
   "source": [
    "np.append(x0, [1,3,4])"
   ]
  },
  {
   "cell_type": "code",
   "execution_count": 7,
   "metadata": {},
   "outputs": [
    {
     "data": {
      "text/plain": [
       "array([[0.03467591],\n",
       "       [0.04114223],\n",
       "       [0.03061725],\n",
       "       [0.02814924],\n",
       "       [0.05840833],\n",
       "       [0.12957581],\n",
       "       [0.08319547],\n",
       "       [0.00921645],\n",
       "       [0.00838651]])"
      ]
     },
     "execution_count": 7,
     "metadata": {},
     "output_type": "execute_result"
    }
   ],
   "source": [
    "a.eta"
   ]
  },
  {
   "cell_type": "code",
   "execution_count": 8,
   "metadata": {},
   "outputs": [
    {
     "data": {
      "text/plain": [
       "7.38905609893065"
      ]
     },
     "execution_count": 8,
     "metadata": {},
     "output_type": "execute_result"
    }
   ],
   "source": [
    "np.exp(2)"
   ]
  },
  {
   "cell_type": "code",
   "execution_count": 9,
   "metadata": {},
   "outputs": [
    {
     "name": "stdout",
     "output_type": "stream",
     "text": [
      "准指数规律检验\n",
      "7\n"
     ]
    },
    {
     "data": {
      "image/png": "[encoded data removed]",
      "text/plain": [
       "<Figure size 640x480 with 1 Axes>"
      ]
     },
     "metadata": {},
     "output_type": "display_data"
    }
   ],
   "source": [
    "a.expon_test()"
   ]
  },
  {
   "cell_type": "code",
   "execution_count": 10,
   "metadata": {},
   "outputs": [
    {
     "data": {
      "image/png": "[encoded data removed]",
      "text/plain": [
       "<Figure size 640x480 with 1 Axes>"
      ]
     },
     "metadata": {},
     "output_type": "display_data"
    }
   ],
   "source": [
    "a.gplot('年份','排污量')"
   ]
  },
  {
   "cell_type": "code",
   "execution_count": 11,
   "metadata": {},
   "outputs": [
    {
     "data": {
      "text/plain": [
       "False"
      ]
     },
     "execution_count": 11,
     "metadata": {},
     "output_type": "execute_result"
    }
   ],
   "source": [
    "True in x0 < 0"
   ]
  },
  {
   "cell_type": "code",
   "execution_count": 12,
   "metadata": {},
   "outputs": [
    {
     "data": {
      "text/plain": [
       "array([ 174. ,  353. ,  536. ,  725. ,  932. , 1166. , 1386.5, 1642.5,\n",
       "       1912.5, 2197.5])"
      ]
     },
     "execution_count": 12,
     "metadata": {},
     "output_type": "execute_result"
    }
   ],
   "source": [
    "year = np.array(np.arange(1995,2005)).reshape(-1,1)\n",
    "x0 = np.array([174,179,183,189,207,234,220.5,256,270,285]).reshape(-1,1)\n",
    "\n",
    "np.cumsum(x0)"
   ]
  },
  {
   "cell_type": "code",
   "execution_count": 13,
   "metadata": {},
   "outputs": [
    {
     "name": "stdout",
     "output_type": "stream",
     "text": [
      "\u001b[0;31mInit signature:\u001b[0m\n",
      "\u001b[0mLinearRegression\u001b[0m\u001b[0;34m(\u001b[0m\u001b[0;34m\u001b[0m\n",
      "\u001b[0;34m\u001b[0m    \u001b[0;34m*\u001b[0m\u001b[0;34m,\u001b[0m\u001b[0;34m\u001b[0m\n",
      "\u001b[0;34m\u001b[0m    \u001b[0mfit_intercept\u001b[0m\u001b[0;34m=\u001b[0m\u001b[0;32mTrue\u001b[0m\u001b[0;34m,\u001b[0m\u001b[0;34m\u001b[0m\n",
      "\u001b[0;34m\u001b[0m    \u001b[0mcopy_X\u001b[0m\u001b[0;34m=\u001b[0m\u001b[0;32mTrue\u001b[0m\u001b[0;34m,\u001b[0m\u001b[0;34m\u001b[0m\n",
      "\u001b[0;34m\u001b[0m    \u001b[0mn_jobs\u001b[0m\u001b[0;34m=\u001b[0m\u001b[0;32mNone\u001b[0m\u001b[0;34m,\u001b[0m\u001b[0;34m\u001b[0m\n",
      "\u001b[0;34m\u001b[0m    \u001b[0mpositive\u001b[0m\u001b[0;34m=\u001b[0m\u001b[0;32mFalse\u001b[0m\u001b[0;34m,\u001b[0m\u001b[0;34m\u001b[0m\n",
      "\u001b[0;34m\u001b[0m\u001b[0;34m)\u001b[0m\u001b[0;34m\u001b[0m\u001b[0;34m\u001b[0m\u001b[0m\n",
      "\u001b[0;31mSource:\u001b[0m        \n",
      "\u001b[0;32mclass\u001b[0m \u001b[0mLinearRegression\u001b[0m\u001b[0;34m(\u001b[0m\u001b[0mMultiOutputMixin\u001b[0m\u001b[0;34m,\u001b[0m \u001b[0mRegressorMixin\u001b[0m\u001b[0;34m,\u001b[0m \u001b[0mLinearModel\u001b[0m\u001b[0;34m)\u001b[0m\u001b[0;34m:\u001b[0m\u001b[0;34m\u001b[0m\n",
      "\u001b[0;34m\u001b[0m    \u001b[0;34m\"\"\"\u001b[0m\n",
      "\u001b[0;34m    Ordinary least squares Linear Regression.\u001b[0m\n",
      "\u001b[0;34m\u001b[0m\n",
      "\u001b[0;34m    LinearRegression fits a linear model with coefficients w = (w1, ..., wp)\u001b[0m\n",
      "\u001b[0;34m    to minimize the residual sum of squares between the observed targets in\u001b[0m\n",
      "\u001b[0;34m    the dataset, and the targets predicted by the linear approximation.\u001b[0m\n",
      "\u001b[0;34m\u001b[0m\n",
      "\u001b[0;34m    Parameters\u001b[0m\n",
      "\u001b[0;34m    ----------\u001b[0m\n",
      "\u001b[0;34m    fit_intercept : bool, default=True\u001b[0m\n",
      "\u001b[0;34m        Whether to calculate the intercept for this model. If set\u001b[0m\n",
      "\u001b[0;34m        to False, no intercept will be used in calculations\u001b[0m\n",
      "\u001b[0;34m        (i.e. data is expected to be centered).\u001b[0m\n",
      "\u001b[0;34m\u001b[0m\n",
      "\u001b[0;34m    copy_X : bool, default=True\u001b[0m\n",
      "\u001b[0;34m        If True, X will be copied; else, it may be overwritten.\u001b[0m\n",
      "\u001b[0;34m\u001b[0m\n",
      "\u001b[0;34m    n_jobs : int, default=None\u001b[0m\n",
      "\u001b[0;34m        The number of jobs to use for the computation. This will only provide\u001b[0m\n",
      "\u001b[0;34m        speedup in case of sufficiently large problems, that is if firstly\u001b[0m\n",
      "\u001b[0;34m        `n_targets > 1` and secondly `X` is sparse or if `positive` is set\u001b[0m\n",
      "\u001b[0;34m        to `True`. ``None`` means 1 unless in a\u001b[0m\n",
      "\u001b[0;34m        :obj:`joblib.parallel_backend` context. ``-1`` means using all\u001b[0m\n",
      "\u001b[0;34m        processors. See :term:`Glossary <n_jobs>` for more details.\u001b[0m\n",
      "\u001b[0;34m\u001b[0m\n",
      "\u001b[0;34m    positive : bool, default=False\u001b[0m\n",
      "\u001b[0;34m        When set to ``True``, forces the coefficients to be positive. This\u001b[0m\n",
      "\u001b[0;34m        option is only supported for dense arrays.\u001b[0m\n",
      "\u001b[0;34m\u001b[0m\n",
      "\u001b[0;34m        .. versionadded:: 0.24\u001b[0m\n",
      "\u001b[0;34m\u001b[0m\n",
      "\u001b[0;34m    Attributes\u001b[0m\n",
      "\u001b[0;34m    ----------\u001b[0m\n",
      "\u001b[0;34m    coef_ : array of shape (n_features, ) or (n_targets, n_features)\u001b[0m\n",
      "\u001b[0;34m        Estimated coefficients for the linear regression problem.\u001b[0m\n",
      "\u001b[0;34m        If multiple targets are passed during the fit (y 2D), this\u001b[0m\n",
      "\u001b[0;34m        is a 2D array of shape (n_targets, n_features), while if only\u001b[0m\n",
      "\u001b[0;34m        one target is passed, this is a 1D array of length n_features.\u001b[0m\n",
      "\u001b[0;34m\u001b[0m\n",
      "\u001b[0;34m    rank_ : int\u001b[0m\n",
      "\u001b[0;34m        Rank of matrix `X`. Only available when `X` is dense.\u001b[0m\n",
      "\u001b[0;34m\u001b[0m\n",
      "\u001b[0;34m    singular_ : array of shape (min(X, y),)\u001b[0m\n",
      "\u001b[0;34m        Singular values of `X`. Only available when `X` is dense.\u001b[0m\n",
      "\u001b[0;34m\u001b[0m\n",
      "\u001b[0;34m    intercept_ : float or array of shape (n_targets,)\u001b[0m\n",
      "\u001b[0;34m        Independent term in the linear model. Set to 0.0 if\u001b[0m\n",
      "\u001b[0;34m        `fit_intercept = False`.\u001b[0m\n",
      "\u001b[0;34m\u001b[0m\n",
      "\u001b[0;34m    n_features_in_ : int\u001b[0m\n",
      "\u001b[0;34m        Number of features seen during :term:`fit`.\u001b[0m\n",
      "\u001b[0;34m\u001b[0m\n",
      "\u001b[0;34m        .. versionadded:: 0.24\u001b[0m\n",
      "\u001b[0;34m\u001b[0m\n",
      "\u001b[0;34m    feature_names_in_ : ndarray of shape (`n_features_in_`,)\u001b[0m\n",
      "\u001b[0;34m        Names of features seen during :term:`fit`. Defined only when `X`\u001b[0m\n",
      "\u001b[0;34m        has feature names that are all strings.\u001b[0m\n",
      "\u001b[0;34m\u001b[0m\n",
      "\u001b[0;34m        .. versionadded:: 1.0\u001b[0m\n",
      "\u001b[0;34m\u001b[0m\n",
      "\u001b[0;34m    See Also\u001b[0m\n",
      "\u001b[0;34m    --------\u001b[0m\n",
      "\u001b[0;34m    Ridge : Ridge regression addresses some of the\u001b[0m\n",
      "\u001b[0;34m        problems of Ordinary Least Squares by imposing a penalty on the\u001b[0m\n",
      "\u001b[0;34m        size of the coefficients with l2 regularization.\u001b[0m\n",
      "\u001b[0;34m    Lasso : The Lasso is a linear model that estimates\u001b[0m\n",
      "\u001b[0;34m        sparse coefficients with l1 regularization.\u001b[0m\n",
      "\u001b[0;34m    ElasticNet : Elastic-Net is a linear regression\u001b[0m\n",
      "\u001b[0;34m        model trained with both l1 and l2 -norm regularization of the\u001b[0m\n",
      "\u001b[0;34m        coefficients.\u001b[0m\n",
      "\u001b[0;34m\u001b[0m\n",
      "\u001b[0;34m    Notes\u001b[0m\n",
      "\u001b[0;34m    -----\u001b[0m\n",
      "\u001b[0;34m    From the implementation point of view, this is just plain Ordinary\u001b[0m\n",
      "\u001b[0;34m    Least Squares (scipy.linalg.lstsq) or Non Negative Least Squares\u001b[0m\n",
      "\u001b[0;34m    (scipy.optimize.nnls) wrapped as a predictor object.\u001b[0m\n",
      "\u001b[0;34m\u001b[0m\n",
      "\u001b[0;34m    Examples\u001b[0m\n",
      "\u001b[0;34m    --------\u001b[0m\n",
      "\u001b[0;34m    >>> import numpy as np\u001b[0m\n",
      "\u001b[0;34m    >>> from sklearn.linear_model import LinearRegression\u001b[0m\n",
      "\u001b[0;34m    >>> X = np.array([[1, 1], [1, 2], [2, 2], [2, 3]])\u001b[0m\n",
      "\u001b[0;34m    >>> # y = 1 * x_0 + 2 * x_1 + 3\u001b[0m\n",
      "\u001b[0;34m    >>> y = np.dot(X, np.array([1, 2])) + 3\u001b[0m\n",
      "\u001b[0;34m    >>> reg = LinearRegression().fit(X, y)\u001b[0m\n",
      "\u001b[0;34m    >>> reg.score(X, y)\u001b[0m\n",
      "\u001b[0;34m    1.0\u001b[0m\n",
      "\u001b[0;34m    >>> reg.coef_\u001b[0m\n",
      "\u001b[0;34m    array([1., 2.])\u001b[0m\n",
      "\u001b[0;34m    >>> reg.intercept_\u001b[0m\n",
      "\u001b[0;34m    3.0...\u001b[0m\n",
      "\u001b[0;34m    >>> reg.predict(np.array([[3, 5]]))\u001b[0m\n",
      "\u001b[0;34m    array([16.])\u001b[0m\n",
      "\u001b[0;34m    \"\"\"\u001b[0m\u001b[0;34m\u001b[0m\n",
      "\u001b[0;34m\u001b[0m\u001b[0;34m\u001b[0m\n",
      "\u001b[0;34m\u001b[0m    \u001b[0m_parameter_constraints\u001b[0m\u001b[0;34m:\u001b[0m \u001b[0mdict\u001b[0m \u001b[0;34m=\u001b[0m \u001b[0;34m{\u001b[0m\u001b[0;34m\u001b[0m\n",
      "\u001b[0;34m\u001b[0m        \u001b[0;34m\"fit_intercept\"\u001b[0m\u001b[0;34m:\u001b[0m \u001b[0;34m[\u001b[0m\u001b[0;34m\"boolean\"\u001b[0m\u001b[0;34m]\u001b[0m\u001b[0;34m,\u001b[0m\u001b[0;34m\u001b[0m\n",
      "\u001b[0;34m\u001b[0m        \u001b[0;34m\"copy_X\"\u001b[0m\u001b[0;34m:\u001b[0m \u001b[0;34m[\u001b[0m\u001b[0;34m\"boolean\"\u001b[0m\u001b[0;34m]\u001b[0m\u001b[0;34m,\u001b[0m\u001b[0;34m\u001b[0m\n",
      "\u001b[0;34m\u001b[0m        \u001b[0;34m\"n_jobs\"\u001b[0m\u001b[0;34m:\u001b[0m \u001b[0;34m[\u001b[0m\u001b[0;32mNone\u001b[0m\u001b[0;34m,\u001b[0m \u001b[0mIntegral\u001b[0m\u001b[0;34m]\u001b[0m\u001b[0;34m,\u001b[0m\u001b[0;34m\u001b[0m\n",
      "\u001b[0;34m\u001b[0m        \u001b[0;34m\"positive\"\u001b[0m\u001b[0;34m:\u001b[0m \u001b[0;34m[\u001b[0m\u001b[0;34m\"boolean\"\u001b[0m\u001b[0;34m]\u001b[0m\u001b[0;34m,\u001b[0m\u001b[0;34m\u001b[0m\n",
      "\u001b[0;34m\u001b[0m    \u001b[0;34m}\u001b[0m\u001b[0;34m\u001b[0m\n",
      "\u001b[0;34m\u001b[0m\u001b[0;34m\u001b[0m\n",
      "\u001b[0;34m\u001b[0m    \u001b[0;32mdef\u001b[0m \u001b[0m__init__\u001b[0m\u001b[0;34m(\u001b[0m\u001b[0;34m\u001b[0m\n",
      "\u001b[0;34m\u001b[0m        \u001b[0mself\u001b[0m\u001b[0;34m,\u001b[0m\u001b[0;34m\u001b[0m\n",
      "\u001b[0;34m\u001b[0m        \u001b[0;34m*\u001b[0m\u001b[0;34m,\u001b[0m\u001b[0;34m\u001b[0m\n",
      "\u001b[0;34m\u001b[0m        \u001b[0mfit_intercept\u001b[0m\u001b[0;34m=\u001b[0m\u001b[0;32mTrue\u001b[0m\u001b[0;34m,\u001b[0m\u001b[0;34m\u001b[0m\n",
      "\u001b[0;34m\u001b[0m        \u001b[0mcopy_X\u001b[0m\u001b[0;34m=\u001b[0m\u001b[0;32mTrue\u001b[0m\u001b[0;34m,\u001b[0m\u001b[0;34m\u001b[0m\n",
      "\u001b[0;34m\u001b[0m        \u001b[0mn_jobs\u001b[0m\u001b[0;34m=\u001b[0m\u001b[0;32mNone\u001b[0m\u001b[0;34m,\u001b[0m\u001b[0;34m\u001b[0m\n",
      "\u001b[0;34m\u001b[0m        \u001b[0mpositive\u001b[0m\u001b[0;34m=\u001b[0m\u001b[0;32mFalse\u001b[0m\u001b[0;34m,\u001b[0m\u001b[0;34m\u001b[0m\n",
      "\u001b[0;34m\u001b[0m    \u001b[0;34m)\u001b[0m\u001b[0;34m:\u001b[0m\u001b[0;34m\u001b[0m\n",
      "\u001b[0;34m\u001b[0m        \u001b[0mself\u001b[0m\u001b[0;34m.\u001b[0m\u001b[0mfit_intercept\u001b[0m \u001b[0;34m=\u001b[0m \u001b[0mfit_intercept\u001b[0m\u001b[0;34m\u001b[0m\n",
      "\u001b[0;34m\u001b[0m        \u001b[0mself\u001b[0m\u001b[0;34m.\u001b[0m\u001b[0mcopy_X\u001b[0m \u001b[0;34m=\u001b[0m \u001b[0mcopy_X\u001b[0m\u001b[0;34m\u001b[0m\n",
      "\u001b[0;34m\u001b[0m        \u001b[0mself\u001b[0m\u001b[0;34m.\u001b[0m\u001b[0mn_jobs\u001b[0m \u001b[0;34m=\u001b[0m \u001b[0mn_jobs\u001b[0m\u001b[0;34m\u001b[0m\n",
      "\u001b[0;34m\u001b[0m        \u001b[0mself\u001b[0m\u001b[0;34m.\u001b[0m\u001b[0mpositive\u001b[0m \u001b[0;34m=\u001b[0m \u001b[0mpositive\u001b[0m\u001b[0;34m\u001b[0m\n",
      "\u001b[0;34m\u001b[0m\u001b[0;34m\u001b[0m\n",
      "\u001b[0;34m\u001b[0m    \u001b[0;34m@\u001b[0m\u001b[0m_fit_context\u001b[0m\u001b[0;34m(\u001b[0m\u001b[0mprefer_skip_nested_validation\u001b[0m\u001b[0;34m=\u001b[0m\u001b[0;32mTrue\u001b[0m\u001b[0;34m)\u001b[0m\u001b[0;34m\u001b[0m\n",
      "\u001b[0;34m\u001b[0m    \u001b[0;32mdef\u001b[0m \u001b[0mfit\u001b[0m\u001b[0;34m(\u001b[0m\u001b[0mself\u001b[0m\u001b[0;34m,\u001b[0m \u001b[0mX\u001b[0m\u001b[0;34m,\u001b[0m \u001b[0my\u001b[0m\u001b[0;34m,\u001b[0m \u001b[0msample_weight\u001b[0m\u001b[0;34m=\u001b[0m\u001b[0;32mNone\u001b[0m\u001b[0;34m)\u001b[0m\u001b[0;34m:\u001b[0m\u001b[0;34m\u001b[0m\n",
      "\u001b[0;34m\u001b[0m        \u001b[0;34m\"\"\"\u001b[0m\n",
      "\u001b[0;34m        Fit linear model.\u001b[0m\n",
      "\u001b[0;34m\u001b[0m\n",
      "\u001b[0;34m        Parameters\u001b[0m\n",
      "\u001b[0;34m        ----------\u001b[0m\n",
      "\u001b[0;34m        X : {array-like, sparse matrix} of shape (n_samples, n_features)\u001b[0m\n",
      "\u001b[0;34m            Training data.\u001b[0m\n",
      "\u001b[0;34m\u001b[0m\n",
      "\u001b[0;34m        y : array-like of shape (n_samples,) or (n_samples, n_targets)\u001b[0m\n",
      "\u001b[0;34m            Target values. Will be cast to X's dtype if necessary.\u001b[0m\n",
      "\u001b[0;34m\u001b[0m\n",
      "\u001b[0;34m        sample_weight : array-like of shape (n_samples,), default=None\u001b[0m\n",
      "\u001b[0;34m            Individual weights for each sample.\u001b[0m\n",
      "\u001b[0;34m\u001b[0m\n",
      "\u001b[0;34m            .. versionadded:: 0.17\u001b[0m\n",
      "\u001b[0;34m               parameter *sample_weight* support to LinearRegression.\u001b[0m\n",
      "\u001b[0;34m\u001b[0m\n",
      "\u001b[0;34m        Returns\u001b[0m\n",
      "\u001b[0;34m        -------\u001b[0m\n",
      "\u001b[0;34m        self : object\u001b[0m\n",
      "\u001b[0;34m            Fitted Estimator.\u001b[0m\n",
      "\u001b[0;34m        \"\"\"\u001b[0m\u001b[0;34m\u001b[0m\n",
      "\u001b[0;34m\u001b[0m        \u001b[0mn_jobs_\u001b[0m \u001b[0;34m=\u001b[0m \u001b[0mself\u001b[0m\u001b[0;34m.\u001b[0m\u001b[0mn_jobs\u001b[0m\u001b[0;34m\u001b[0m\n",
      "\u001b[0;34m\u001b[0m\u001b[0;34m\u001b[0m\n",
      "\u001b[0;34m\u001b[0m        \u001b[0maccept_sparse\u001b[0m \u001b[0;34m=\u001b[0m \u001b[0;32mFalse\u001b[0m \u001b[0;32mif\u001b[0m \u001b[0mself\u001b[0m\u001b[0;34m.\u001b[0m\u001b[0mpositive\u001b[0m \u001b[0;32melse\u001b[0m \u001b[0;34m[\u001b[0m\u001b[0;34m\"csr\"\u001b[0m\u001b[0;34m,\u001b[0m \u001b[0;34m\"csc\"\u001b[0m\u001b[0;34m,\u001b[0m \u001b[0;34m\"coo\"\u001b[0m\u001b[0;34m]\u001b[0m\u001b[0;34m\u001b[0m\n",
      "\u001b[0;34m\u001b[0m\u001b[0;34m\u001b[0m\n",
      "\u001b[0;34m\u001b[0m        \u001b[0mX\u001b[0m\u001b[0;34m,\u001b[0m \u001b[0my\u001b[0m \u001b[0;34m=\u001b[0m \u001b[0mself\u001b[0m\u001b[0;34m.\u001b[0m\u001b[0m_validate_data\u001b[0m\u001b[0;34m(\u001b[0m\u001b[0;34m\u001b[0m\n",
      "\u001b[0;34m\u001b[0m            \u001b[0mX\u001b[0m\u001b[0;34m,\u001b[0m\u001b[0;34m\u001b[0m\n",
      "\u001b[0;34m\u001b[0m            \u001b[0my\u001b[0m\u001b[0;34m,\u001b[0m\u001b[0;34m\u001b[0m\n",
      "\u001b[0;34m\u001b[0m            \u001b[0maccept_sparse\u001b[0m\u001b[0;34m=\u001b[0m\u001b[0maccept_sparse\u001b[0m\u001b[0;34m,\u001b[0m\u001b[0;34m\u001b[0m\n",
      "\u001b[0;34m\u001b[0m            \u001b[0my_numeric\u001b[0m\u001b[0;34m=\u001b[0m\u001b[0;32mTrue\u001b[0m\u001b[0;34m,\u001b[0m\u001b[0;34m\u001b[0m\n",
      "\u001b[0;34m\u001b[0m            \u001b[0mmulti_output\u001b[0m\u001b[0;34m=\u001b[0m\u001b[0;32mTrue\u001b[0m\u001b[0;34m,\u001b[0m\u001b[0;34m\u001b[0m\n",
      "\u001b[0;34m\u001b[0m            \u001b[0mforce_writeable\u001b[0m\u001b[0;34m=\u001b[0m\u001b[0;32mTrue\u001b[0m\u001b[0;34m,\u001b[0m\u001b[0;34m\u001b[0m\n",
      "\u001b[0;34m\u001b[0m        \u001b[0;34m)\u001b[0m\u001b[0;34m\u001b[0m\n",
      "\u001b[0;34m\u001b[0m\u001b[0;34m\u001b[0m\n",
      "\u001b[0;34m\u001b[0m        \u001b[0mhas_sw\u001b[0m \u001b[0;34m=\u001b[0m \u001b[0msample_weight\u001b[0m \u001b[0;32mis\u001b[0m \u001b[0;32mnot\u001b[0m \u001b[0;32mNone\u001b[0m\u001b[0;34m\u001b[0m\n",
      "\u001b[0;34m\u001b[0m        \u001b[0;32mif\u001b[0m \u001b[0mhas_sw\u001b[0m\u001b[0;34m:\u001b[0m\u001b[0;34m\u001b[0m\n",
      "\u001b[0;34m\u001b[0m            \u001b[0msample_weight\u001b[0m \u001b[0;34m=\u001b[0m \u001b[0m_check_sample_weight\u001b[0m\u001b[0;34m(\u001b[0m\u001b[0;34m\u001b[0m\n",
      "\u001b[0;34m\u001b[0m                \u001b[0msample_weight\u001b[0m\u001b[0;34m,\u001b[0m \u001b[0mX\u001b[0m\u001b[0;34m,\u001b[0m \u001b[0mdtype\u001b[0m\u001b[0;34m=\u001b[0m\u001b[0mX\u001b[0m\u001b[0;34m.\u001b[0m\u001b[0mdtype\u001b[0m\u001b[0;34m,\u001b[0m \u001b[0monly_non_negative\u001b[0m\u001b[0;34m=\u001b[0m\u001b[0;32mTrue\u001b[0m\u001b[0;34m\u001b[0m\n",
      "\u001b[0;34m\u001b[0m            \u001b[0;34m)\u001b[0m\u001b[0;34m\u001b[0m\n",
      "\u001b[0;34m\u001b[0m\u001b[0;34m\u001b[0m\n",
      "\u001b[0;34m\u001b[0m        \u001b[0;31m# Note that neither _rescale_data nor the rest of the fit method of\u001b[0m\u001b[0;34m\u001b[0m\n",
      "\u001b[0;34m\u001b[0m        \u001b[0;31m# LinearRegression can benefit from in-place operations when X is a\u001b[0m\u001b[0;34m\u001b[0m\n",
      "\u001b[0;34m\u001b[0m        \u001b[0;31m# sparse matrix. Therefore, let's not copy X when it is sparse.\u001b[0m\u001b[0;34m\u001b[0m\n",
      "\u001b[0;34m\u001b[0m        \u001b[0mcopy_X_in_preprocess_data\u001b[0m \u001b[0;34m=\u001b[0m \u001b[0mself\u001b[0m\u001b[0;34m.\u001b[0m\u001b[0mcopy_X\u001b[0m \u001b[0;32mand\u001b[0m \u001b[0;32mnot\u001b[0m \u001b[0msp\u001b[0m\u001b[0;34m.\u001b[0m\u001b[0missparse\u001b[0m\u001b[0;34m(\u001b[0m\u001b[0mX\u001b[0m\u001b[0;34m)\u001b[0m\u001b[0;34m\u001b[0m\n",
      "\u001b[0;34m\u001b[0m\u001b[0;34m\u001b[0m\n",
      "\u001b[0;34m\u001b[0m        \u001b[0mX\u001b[0m\u001b[0;34m,\u001b[0m \u001b[0my\u001b[0m\u001b[0;34m,\u001b[0m \u001b[0mX_offset\u001b[0m\u001b[0;34m,\u001b[0m \u001b[0my_offset\u001b[0m\u001b[0;34m,\u001b[0m \u001b[0mX_scale\u001b[0m \u001b[0;34m=\u001b[0m \u001b[0m_preprocess_data\u001b[0m\u001b[0;34m(\u001b[0m\u001b[0;34m\u001b[0m\n",
      "\u001b[0;34m\u001b[0m            \u001b[0mX\u001b[0m\u001b[0;34m,\u001b[0m\u001b[0;34m\u001b[0m\n",
      "\u001b[0;34m\u001b[0m            \u001b[0my\u001b[0m\u001b[0;34m,\u001b[0m\u001b[0;34m\u001b[0m\n",
      "\u001b[0;34m\u001b[0m            \u001b[0mfit_intercept\u001b[0m\u001b[0;34m=\u001b[0m\u001b[0mself\u001b[0m\u001b[0;34m.\u001b[0m\u001b[0mfit_intercept\u001b[0m\u001b[0;34m,\u001b[0m\u001b[0;34m\u001b[0m\n",
      "\u001b[0;34m\u001b[0m            \u001b[0mcopy\u001b[0m\u001b[0;34m=\u001b[0m\u001b[0mcopy_X_in_preprocess_data\u001b[0m\u001b[0;34m,\u001b[0m\u001b[0;34m\u001b[0m\n",
      "\u001b[0;34m\u001b[0m            \u001b[0msample_weight\u001b[0m\u001b[0;34m=\u001b[0m\u001b[0msample_weight\u001b[0m\u001b[0;34m,\u001b[0m\u001b[0;34m\u001b[0m\n",
      "\u001b[0;34m\u001b[0m        \u001b[0;34m)\u001b[0m\u001b[0;34m\u001b[0m\n",
      "\u001b[0;34m\u001b[0m\u001b[0;34m\u001b[0m\n",
      "\u001b[0;34m\u001b[0m        \u001b[0;32mif\u001b[0m \u001b[0mhas_sw\u001b[0m\u001b[0;34m:\u001b[0m\u001b[0;34m\u001b[0m\n",
      "\u001b[0;34m\u001b[0m            \u001b[0;31m# Sample weight can be implemented via a simple rescaling. Note\u001b[0m\u001b[0;34m\u001b[0m\n",
      "\u001b[0;34m\u001b[0m            \u001b[0;31m# that we safely do inplace rescaling when _preprocess_data has\u001b[0m\u001b[0;34m\u001b[0m\n",
      "\u001b[0;34m\u001b[0m            \u001b[0;31m# already made a copy if requested.\u001b[0m\u001b[0;34m\u001b[0m\n",
      "\u001b[0;34m\u001b[0m            \u001b[0mX\u001b[0m\u001b[0;34m,\u001b[0m \u001b[0my\u001b[0m\u001b[0;34m,\u001b[0m \u001b[0msample_weight_sqrt\u001b[0m \u001b[0;34m=\u001b[0m \u001b[0m_rescale_data\u001b[0m\u001b[0;34m(\u001b[0m\u001b[0;34m\u001b[0m\n",
      "\u001b[0;34m\u001b[0m                \u001b[0mX\u001b[0m\u001b[0;34m,\u001b[0m \u001b[0my\u001b[0m\u001b[0;34m,\u001b[0m \u001b[0msample_weight\u001b[0m\u001b[0;34m,\u001b[0m \u001b[0minplace\u001b[0m\u001b[0;34m=\u001b[0m\u001b[0mcopy_X_in_preprocess_data\u001b[0m\u001b[0;34m\u001b[0m\n",
      "\u001b[0;34m\u001b[0m            \u001b[0;34m)\u001b[0m\u001b[0;34m\u001b[0m\n",
      "\u001b[0;34m\u001b[0m\u001b[0;34m\u001b[0m\n",
      "\u001b[0;34m\u001b[0m        \u001b[0;32mif\u001b[0m \u001b[0mself\u001b[0m\u001b[0;34m.\u001b[0m\u001b[0mpositive\u001b[0m\u001b[0;34m:\u001b[0m\u001b[0;34m\u001b[0m\n",
      "\u001b[0;34m\u001b[0m            \u001b[0;32mif\u001b[0m \u001b[0my\u001b[0m\u001b[0;34m.\u001b[0m\u001b[0mndim\u001b[0m \u001b[0;34m<\u001b[0m \u001b[0;36m2\u001b[0m\u001b[0;34m:\u001b[0m\u001b[0;34m\u001b[0m\n",
      "\u001b[0;34m\u001b[0m                \u001b[0mself\u001b[0m\u001b[0;34m.\u001b[0m\u001b[0mcoef_\u001b[0m \u001b[0;34m=\u001b[0m \u001b[0moptimize\u001b[0m\u001b[0;34m.\u001b[0m\u001b[0mnnls\u001b[0m\u001b[0;34m(\u001b[0m\u001b[0mX\u001b[0m\u001b[0;34m,\u001b[0m \u001b[0my\u001b[0m\u001b[0;34m)\u001b[0m\u001b[0;34m[\u001b[0m\u001b[0;36m0\u001b[0m\u001b[0;34m]\u001b[0m\u001b[0;34m\u001b[0m\n",
      "\u001b[0;34m\u001b[0m            \u001b[0;32melse\u001b[0m\u001b[0;34m:\u001b[0m\u001b[0;34m\u001b[0m\n",
      "\u001b[0;34m\u001b[0m                \u001b[0;31m# scipy.optimize.nnls cannot handle y with shape (M, K)\u001b[0m\u001b[0;34m\u001b[0m\n",
      "\u001b[0;34m\u001b[0m                \u001b[0mouts\u001b[0m \u001b[0;34m=\u001b[0m \u001b[0mParallel\u001b[0m\u001b[0;34m(\u001b[0m\u001b[0mn_jobs\u001b[0m\u001b[0;34m=\u001b[0m\u001b[0mn_jobs_\u001b[0m\u001b[0;34m)\u001b[0m\u001b[0;34m(\u001b[0m\u001b[0;34m\u001b[0m\n",
      "\u001b[0;34m\u001b[0m                    \u001b[0mdelayed\u001b[0m\u001b[0;34m(\u001b[0m\u001b[0moptimize\u001b[0m\u001b[0;34m.\u001b[0m\u001b[0mnnls\u001b[0m\u001b[0;34m)\u001b[0m\u001b[0;34m(\u001b[0m\u001b[0mX\u001b[0m\u001b[0;34m,\u001b[0m \u001b[0my\u001b[0m\u001b[0;34m[\u001b[0m\u001b[0;34m:\u001b[0m\u001b[0;34m,\u001b[0m \u001b[0mj\u001b[0m\u001b[0;34m]\u001b[0m\u001b[0;34m)\u001b[0m \u001b[0;32mfor\u001b[0m \u001b[0mj\u001b[0m \u001b[0;32min\u001b[0m \u001b[0mrange\u001b[0m\u001b[0;34m(\u001b[0m\u001b[0my\u001b[0m\u001b[0;34m.\u001b[0m\u001b[0mshape\u001b[0m\u001b[0;34m[\u001b[0m\u001b[0;36m1\u001b[0m\u001b[0;34m]\u001b[0m\u001b[0;34m)\u001b[0m\u001b[0;34m\u001b[0m\n",
      "\u001b[0;34m\u001b[0m                \u001b[0;34m)\u001b[0m\u001b[0;34m\u001b[0m\n",
      "\u001b[0;34m\u001b[0m                \u001b[0mself\u001b[0m\u001b[0;34m.\u001b[0m\u001b[0mcoef_\u001b[0m \u001b[0;34m=\u001b[0m \u001b[0mnp\u001b[0m\u001b[0;34m.\u001b[0m\u001b[0mvstack\u001b[0m\u001b[0;34m(\u001b[0m\u001b[0;34m[\u001b[0m\u001b[0mout\u001b[0m\u001b[0;34m[\u001b[0m\u001b[0;36m0\u001b[0m\u001b[0;34m]\u001b[0m \u001b[0;32mfor\u001b[0m \u001b[0mout\u001b[0m \u001b[0;32min\u001b[0m \u001b[0mouts\u001b[0m\u001b[0;34m]\u001b[0m\u001b[0;34m)\u001b[0m\u001b[0;34m\u001b[0m\n",
      "\u001b[0;34m\u001b[0m        \u001b[0;32melif\u001b[0m \u001b[0msp\u001b[0m\u001b[0;34m.\u001b[0m\u001b[0missparse\u001b[0m\u001b[0;34m(\u001b[0m\u001b[0mX\u001b[0m\u001b[0;34m)\u001b[0m\u001b[0;34m:\u001b[0m\u001b[0;34m\u001b[0m\n",
      "\u001b[0;34m\u001b[0m            \u001b[0mX_offset_scale\u001b[0m \u001b[0;34m=\u001b[0m \u001b[0mX_offset\u001b[0m \u001b[0;34m/\u001b[0m \u001b[0mX_scale\u001b[0m\u001b[0;34m\u001b[0m\n",
      "\u001b[0;34m\u001b[0m\u001b[0;34m\u001b[0m\n",
      "\u001b[0;34m\u001b[0m            \u001b[0;32mif\u001b[0m \u001b[0mhas_sw\u001b[0m\u001b[0;34m:\u001b[0m\u001b[0;34m\u001b[0m\n",
      "\u001b[0;34m\u001b[0m\u001b[0;34m\u001b[0m\n",
      "\u001b[0;34m\u001b[0m                \u001b[0;32mdef\u001b[0m \u001b[0mmatvec\u001b[0m\u001b[0;34m(\u001b[0m\u001b[0mb\u001b[0m\u001b[0;34m)\u001b[0m\u001b[0;34m:\u001b[0m\u001b[0;34m\u001b[0m\n",
      "\u001b[0;34m\u001b[0m                    \u001b[0;32mreturn\u001b[0m \u001b[0mX\u001b[0m\u001b[0;34m.\u001b[0m\u001b[0mdot\u001b[0m\u001b[0;34m(\u001b[0m\u001b[0mb\u001b[0m\u001b[0;34m)\u001b[0m \u001b[0;34m-\u001b[0m \u001b[0msample_weight_sqrt\u001b[0m \u001b[0;34m*\u001b[0m \u001b[0mb\u001b[0m\u001b[0;34m.\u001b[0m\u001b[0mdot\u001b[0m\u001b[0;34m(\u001b[0m\u001b[0mX_offset_scale\u001b[0m\u001b[0;34m)\u001b[0m\u001b[0;34m\u001b[0m\n",
      "\u001b[0;34m\u001b[0m\u001b[0;34m\u001b[0m\n",
      "\u001b[0;34m\u001b[0m                \u001b[0;32mdef\u001b[0m \u001b[0mrmatvec\u001b[0m\u001b[0;34m(\u001b[0m\u001b[0mb\u001b[0m\u001b[0;34m)\u001b[0m\u001b[0;34m:\u001b[0m\u001b[0;34m\u001b[0m\n",
      "\u001b[0;34m\u001b[0m                    \u001b[0;32mreturn\u001b[0m \u001b[0mX\u001b[0m\u001b[0;34m.\u001b[0m\u001b[0mT\u001b[0m\u001b[0;34m.\u001b[0m\u001b[0mdot\u001b[0m\u001b[0;34m(\u001b[0m\u001b[0mb\u001b[0m\u001b[0;34m)\u001b[0m \u001b[0;34m-\u001b[0m \u001b[0mX_offset_scale\u001b[0m \u001b[0;34m*\u001b[0m \u001b[0mb\u001b[0m\u001b[0;34m.\u001b[0m\u001b[0mdot\u001b[0m\u001b[0;34m(\u001b[0m\u001b[0msample_weight_sqrt\u001b[0m\u001b[0;34m)\u001b[0m\u001b[0;34m\u001b[0m\n",
      "\u001b[0;34m\u001b[0m\u001b[0;34m\u001b[0m\n",
      "\u001b[0;34m\u001b[0m            \u001b[0;32melse\u001b[0m\u001b[0;34m:\u001b[0m\u001b[0;34m\u001b[0m\n",
      "\u001b[0;34m\u001b[0m\u001b[0;34m\u001b[0m\n",
      "\u001b[0;34m\u001b[0m                \u001b[0;32mdef\u001b[0m \u001b[0mmatvec\u001b[0m\u001b[0;34m(\u001b[0m\u001b[0mb\u001b[0m\u001b[0;34m)\u001b[0m\u001b[0;34m:\u001b[0m\u001b[0;34m\u001b[0m\n",
      "\u001b[0;34m\u001b[0m                    \u001b[0;32mreturn\u001b[0m \u001b[0mX\u001b[0m\u001b[0;34m.\u001b[0m\u001b[0mdot\u001b[0m\u001b[0;34m(\u001b[0m\u001b[0mb\u001b[0m\u001b[0;34m)\u001b[0m \u001b[0;34m-\u001b[0m \u001b[0mb\u001b[0m\u001b[0;34m.\u001b[0m\u001b[0mdot\u001b[0m\u001b[0;34m(\u001b[0m\u001b[0mX_offset_scale\u001b[0m\u001b[0;34m)\u001b[0m\u001b[0;34m\u001b[0m\n",
      "\u001b[0;34m\u001b[0m\u001b[0;34m\u001b[0m\n",
      "\u001b[0;34m\u001b[0m                \u001b[0;32mdef\u001b[0m \u001b[0mrmatvec\u001b[0m\u001b[0;34m(\u001b[0m\u001b[0mb\u001b[0m\u001b[0;34m)\u001b[0m\u001b[0;34m:\u001b[0m\u001b[0;34m\u001b[0m\n",
      "\u001b[0;34m\u001b[0m                    \u001b[0;32mreturn\u001b[0m \u001b[0mX\u001b[0m\u001b[0;34m.\u001b[0m\u001b[0mT\u001b[0m\u001b[0;34m.\u001b[0m\u001b[0mdot\u001b[0m\u001b[0;34m(\u001b[0m\u001b[0mb\u001b[0m\u001b[0;34m)\u001b[0m \u001b[0;34m-\u001b[0m \u001b[0mX_offset_scale\u001b[0m \u001b[0;34m*\u001b[0m \u001b[0mb\u001b[0m\u001b[0;34m.\u001b[0m\u001b[0msum\u001b[0m\u001b[0;34m(\u001b[0m\u001b[0;34m)\u001b[0m\u001b[0;34m\u001b[0m\n",
      "\u001b[0;34m\u001b[0m\u001b[0;34m\u001b[0m\n",
      "\u001b[0;34m\u001b[0m            \u001b[0mX_centered\u001b[0m \u001b[0;34m=\u001b[0m \u001b[0msparse\u001b[0m\u001b[0;34m.\u001b[0m\u001b[0mlinalg\u001b[0m\u001b[0;34m.\u001b[0m\u001b[0mLinearOperator\u001b[0m\u001b[0;34m(\u001b[0m\u001b[0;34m\u001b[0m\n",
      "\u001b[0;34m\u001b[0m                \u001b[0mshape\u001b[0m\u001b[0;34m=\u001b[0m\u001b[0mX\u001b[0m\u001b[0;34m.\u001b[0m\u001b[0mshape\u001b[0m\u001b[0;34m,\u001b[0m \u001b[0mmatvec\u001b[0m\u001b[0;34m=\u001b[0m\u001b[0mmatvec\u001b[0m\u001b[0;34m,\u001b[0m \u001b[0mrmatvec\u001b[0m\u001b[0;34m=\u001b[0m\u001b[0mrmatvec\u001b[0m\u001b[0;34m\u001b[0m\n",
      "\u001b[0;34m\u001b[0m            \u001b[0;34m)\u001b[0m\u001b[0;34m\u001b[0m\n",
      "\u001b[0;34m\u001b[0m\u001b[0;34m\u001b[0m\n",
      "\u001b[0;34m\u001b[0m            \u001b[0;32mif\u001b[0m \u001b[0my\u001b[0m\u001b[0;34m.\u001b[0m\u001b[0mndim\u001b[0m \u001b[0;34m<\u001b[0m \u001b[0;36m2\u001b[0m\u001b[0;34m:\u001b[0m\u001b[0;34m\u001b[0m\n",
      "\u001b[0;34m\u001b[0m                \u001b[0mself\u001b[0m\u001b[0;34m.\u001b[0m\u001b[0mcoef_\u001b[0m \u001b[0;34m=\u001b[0m \u001b[0mlsqr\u001b[0m\u001b[0;34m(\u001b[0m\u001b[0mX_centered\u001b[0m\u001b[0;34m,\u001b[0m \u001b[0my\u001b[0m\u001b[0;34m)\u001b[0m\u001b[0;34m[\u001b[0m\u001b[0;36m0\u001b[0m\u001b[0;34m]\u001b[0m\u001b[0;34m\u001b[0m\n",
      "\u001b[0;34m\u001b[0m            \u001b[0;32melse\u001b[0m\u001b[0;34m:\u001b[0m\u001b[0;34m\u001b[0m\n",
      "\u001b[0;34m\u001b[0m                \u001b[0;31m# sparse_lstsq cannot handle y with shape (M, K)\u001b[0m\u001b[0;34m\u001b[0m\n",
      "\u001b[0;34m\u001b[0m                \u001b[0mouts\u001b[0m \u001b[0;34m=\u001b[0m \u001b[0mParallel\u001b[0m\u001b[0;34m(\u001b[0m\u001b[0mn_jobs\u001b[0m\u001b[0;34m=\u001b[0m\u001b[0mn_jobs_\u001b[0m\u001b[0;34m)\u001b[0m\u001b[0;34m(\u001b[0m\u001b[0;34m\u001b[0m\n",
      "\u001b[0;34m\u001b[0m                    \u001b[0mdelayed\u001b[0m\u001b[0;34m(\u001b[0m\u001b[0mlsqr\u001b[0m\u001b[0;34m)\u001b[0m\u001b[0;34m(\u001b[0m\u001b[0mX_centered\u001b[0m\u001b[0;34m,\u001b[0m \u001b[0my\u001b[0m\u001b[0;34m[\u001b[0m\u001b[0;34m:\u001b[0m\u001b[0;34m,\u001b[0m \u001b[0mj\u001b[0m\u001b[0;34m]\u001b[0m\u001b[0;34m.\u001b[0m\u001b[0mravel\u001b[0m\u001b[0;34m(\u001b[0m\u001b[0;34m)\u001b[0m\u001b[0;34m)\u001b[0m\u001b[0;34m\u001b[0m\n",
      "\u001b[0;34m\u001b[0m                    \u001b[0;32mfor\u001b[0m \u001b[0mj\u001b[0m \u001b[0;32min\u001b[0m \u001b[0mrange\u001b[0m\u001b[0;34m(\u001b[0m\u001b[0my\u001b[0m\u001b[0;34m.\u001b[0m\u001b[0mshape\u001b[0m\u001b[0;34m[\u001b[0m\u001b[0;36m1\u001b[0m\u001b[0;34m]\u001b[0m\u001b[0;34m)\u001b[0m\u001b[0;34m\u001b[0m\n",
      "\u001b[0;34m\u001b[0m                \u001b[0;34m)\u001b[0m\u001b[0;34m\u001b[0m\n",
      "\u001b[0;34m\u001b[0m                \u001b[0mself\u001b[0m\u001b[0;34m.\u001b[0m\u001b[0mcoef_\u001b[0m \u001b[0;34m=\u001b[0m \u001b[0mnp\u001b[0m\u001b[0;34m.\u001b[0m\u001b[0mvstack\u001b[0m\u001b[0;34m(\u001b[0m\u001b[0;34m[\u001b[0m\u001b[0mout\u001b[0m\u001b[0;34m[\u001b[0m\u001b[0;36m0\u001b[0m\u001b[0;34m]\u001b[0m \u001b[0;32mfor\u001b[0m \u001b[0mout\u001b[0m \u001b[0;32min\u001b[0m \u001b[0mouts\u001b[0m\u001b[0;34m]\u001b[0m\u001b[0;34m)\u001b[0m\u001b[0;34m\u001b[0m\n",
      "\u001b[0;34m\u001b[0m        \u001b[0;32melse\u001b[0m\u001b[0;34m:\u001b[0m\u001b[0;34m\u001b[0m\n",
      "\u001b[0;34m\u001b[0m            \u001b[0mself\u001b[0m\u001b[0;34m.\u001b[0m\u001b[0mcoef_\u001b[0m\u001b[0;34m,\u001b[0m \u001b[0m_\u001b[0m\u001b[0;34m,\u001b[0m \u001b[0mself\u001b[0m\u001b[0;34m.\u001b[0m\u001b[0mrank_\u001b[0m\u001b[0;34m,\u001b[0m \u001b[0mself\u001b[0m\u001b[0;34m.\u001b[0m\u001b[0msingular_\u001b[0m \u001b[0;34m=\u001b[0m \u001b[0mlinalg\u001b[0m\u001b[0;34m.\u001b[0m\u001b[0mlstsq\u001b[0m\u001b[0;34m(\u001b[0m\u001b[0mX\u001b[0m\u001b[0;34m,\u001b[0m \u001b[0my\u001b[0m\u001b[0;34m)\u001b[0m\u001b[0;34m\u001b[0m\n",
      "\u001b[0;34m\u001b[0m            \u001b[0mself\u001b[0m\u001b[0;34m.\u001b[0m\u001b[0mcoef_\u001b[0m \u001b[0;34m=\u001b[0m \u001b[0mself\u001b[0m\u001b[0;34m.\u001b[0m\u001b[0mcoef_\u001b[0m\u001b[0;34m.\u001b[0m\u001b[0mT\u001b[0m\u001b[0;34m\u001b[0m\n",
      "\u001b[0;34m\u001b[0m\u001b[0;34m\u001b[0m\n",
      "\u001b[0;34m\u001b[0m        \u001b[0;32mif\u001b[0m \u001b[0my\u001b[0m\u001b[0;34m.\u001b[0m\u001b[0mndim\u001b[0m \u001b[0;34m==\u001b[0m \u001b[0;36m1\u001b[0m\u001b[0;34m:\u001b[0m\u001b[0;34m\u001b[0m\n",
      "\u001b[0;34m\u001b[0m            \u001b[0mself\u001b[0m\u001b[0;34m.\u001b[0m\u001b[0mcoef_\u001b[0m \u001b[0;34m=\u001b[0m \u001b[0mnp\u001b[0m\u001b[0;34m.\u001b[0m\u001b[0mravel\u001b[0m\u001b[0;34m(\u001b[0m\u001b[0mself\u001b[0m\u001b[0;34m.\u001b[0m\u001b[0mcoef_\u001b[0m\u001b[0;34m)\u001b[0m\u001b[0;34m\u001b[0m\n",
      "\u001b[0;34m\u001b[0m        \u001b[0mself\u001b[0m\u001b[0;34m.\u001b[0m\u001b[0m_set_intercept\u001b[0m\u001b[0;34m(\u001b[0m\u001b[0mX_offset\u001b[0m\u001b[0;34m,\u001b[0m \u001b[0my_offset\u001b[0m\u001b[0;34m,\u001b[0m \u001b[0mX_scale\u001b[0m\u001b[0;34m)\u001b[0m\u001b[0;34m\u001b[0m\n",
      "\u001b[0;34m\u001b[0m        \u001b[0;32mreturn\u001b[0m \u001b[0mself\u001b[0m\u001b[0;34m\u001b[0m\u001b[0;34m\u001b[0m\u001b[0m\n",
      "\u001b[0;31mFile:\u001b[0m           /opt/anaconda3/envs/sxjm/lib/python3.12/site-packages/sklearn/linear_model/_base.py\n",
      "\u001b[0;31mType:\u001b[0m           ABCMeta\n",
      "\u001b[0;31mSubclasses:\u001b[0m     "
     ]
    }
   ],
   "source": [
    "LinearRegression??"
   ]
  }
 ],
 "metadata": {
  "kernelspec": {
   "display_name": "sxjm",
   "language": "python",
   "name": "python3"
  },
  "language_info": {
   "codemirror_mode": {
    "name": "ipython",
    "version": 3
   },
   "file_extension": ".py",
   "mimetype": "text/x-python",
   "name": "python",
   "nbconvert_exporter": "python",
   "pygments_lexer": "ipython3",
   "version": "3.12.4"
  }
 },
 "nbformat": 4,
 "nbformat_minor": 2
}
