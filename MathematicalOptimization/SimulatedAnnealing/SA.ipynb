{
 "cells": [
  {
   "cell_type": "markdown",
   "metadata": {},
   "source": [
    "## SA(Simulated Annealing, 模拟退火算法)\n",
    "- 模拟退火算法来源于固体退火原理，是一种基于概率的算法。将固体加温至充分高的温度，再让其徐徐冷却，加温时，固体内部粒子随温升变为无序状，内能增大，分子和原子越不稳定。而徐徐冷却时粒子渐趋有序，能量减少，原子越稳定。在冷却（降温）过程中，固体在每个温度都达到平衡态，最后在常温时达到基态，内能减为最小。\n",
    "- 模拟退火算法从某一较高初温出发，伴随温度参数的不断下降,结合概率突跳特性在解空间中随机寻找目标函数的全局最优解，即在局部最优解能概率性地跳出并最终趋于全局最优。\n",
    "- 模拟退火算法是通过赋予搜索过程一种时变且最终趋于零的概率突跳性，从而可有效避免陷入局部极小并最终趋于全局最优的串行结构的优化算法。\n",
    "#### Mechanism\n",
    "- 模拟退火算法包含两个部分即 Metropolis 算法和退火过程，分别对应内循环和外循环。\n",
    "    - 外循环就是退火过程，将固体达到较高的温度(初始温度$T_0$)，然后按照降温系数alpha使温度按照一定的比例下降，当达到终止温度$T_f$时，冷却结束，即退火过程结束。\n",
    "    - Metropolis 算法是内循环，即在每次温度下，迭代L次，寻找在该温度下能量的最小值（即最优解）。下图所示为某一温度下，迭代L次，固体能量发生的变化。在该温度下，整个迭代过程中温度不发生变化，能量发生变化。\n",
    "    - 若当前一个状态x(n)的能量大于后一个状态x(n+1)的能量时，接受状态x(n+1)；若下一状态的能量比前一个状态的能量高时，以接受概率P接受下一状态。\n",
    "    - 假设开始状态在A，多次迭代之后更新到B的局部最优解。此时B的能量比A要低，则说明接近了全局最优解，因此百分百转移，状态到达B后，发现下一步能量上升了。如果是梯度下降则是不允许继续向前的，而这里会以一定的概率P跳出这个坑，此概率和当前的状态、能量等都有关系。\n",
    "    - 假设前一个状态为x(n),系统根据某一指标(梯度下降，上节的能量)，状态变为x(n+1)，相应的，系统的能量由E(n)变为E(n+1)。\n",
    "    - 定义系统由x(n)变为x(n+1)的接受概率P为：$$P=\\begin{cases} 1 & E(n+1)<E(n) \\\\ e^{-\\frac{E(n+1)-E(n)}{T}} & E(n+1)\\geq E(n) \\end{cases}$$\n",
    "\n",
    "    ![Metropolis](Metropolis.png)"
   ]
  },
  {
   "cell_type": "code",
   "execution_count": null,
   "metadata": {},
   "outputs": [],
   "source": [
    "#本功能实现最小值的求解#\n",
    "from matplotlib import pyplot as plt\n",
    "import numpy as np\n",
    "import random\n",
    "import math\n",
    "plt.ion()\n",
    "\n",
    "#初始值设定\n",
    "hi = 3\n",
    "lo = -3\n",
    "alf = 0.95\n",
    "T = 100\n",
    "\n",
    "#目标函数\n",
    "def f(x):\n",
    "    return 11 * np.sin(x) + 7 * np.cos(5*x)##注意这里要是np.sin\n",
    "\n",
    "#可视化函数（开始清楚一次然后重复的画）\n",
    "def visual(x):\n",
    "    plt.cla()\n",
    "    plt.axis([lo-1, hi+1, -20, 20])\n",
    "    m = np.arange(lo, hi, 0.0001)\n",
    "    plt.plot(m, f(m))\n",
    "    plt.plot(x, f(x), marker='o', color='black', markersize='4')\n",
    "    plt.title('temperature={}'.format(T))\n",
    "    plt.pause(0.1)\n",
    "\n",
    "#随机产生初始值\n",
    "def init():\n",
    "    return random.uniform(lo, hi)\n",
    "\n",
    "#新解的随机产生\n",
    "def new(x):\n",
    "    x1 = x + T * random.uniform(-1, 1)\n",
    "    if (x1 <= hi) & (x1 >= lo):\n",
    "        return x1\n",
    "    elif x1 < lo:\n",
    "        rand = random.uniform(-1, 1)\n",
    "        return rand * lo + (1 - rand) * x\n",
    "    else:\n",
    "        rand = random.uniform(-1, 1)\n",
    "        return rand * hi + (1 - rand) * x\n",
    "\n",
    "#p函数\n",
    "def p(x, x1):\n",
    "    return math.exp(-abs(f(x) - f(x1)) / T)\n",
    "\n",
    "def main():\n",
    "    global x\n",
    "    global T\n",
    "    x = init()\n",
    "    while T > 0.0001:\n",
    "        visual(x)\n",
    "        for _ in range(500):\n",
    "            x1 = new(x)\n",
    "            if f(x1) <= f(x):\n",
    "                x = x1\n",
    "            else:\n",
    "                if random.random() <= p(x, x1):\n",
    "                    x = x1\n",
    "                else:\n",
    "                    continue\n",
    "        T = T * alf\n",
    "    print('最小值为：{}'.format(f(x)))"
   ]
  },
  {
   "cell_type": "code",
   "execution_count": null,
   "metadata": {},
   "outputs": [],
   "source": [
    "main()"
   ]
  }
 ],
 "metadata": {
  "kernelspec": {
   "display_name": "sxjm",
   "language": "python",
   "name": "python3"
  },
  "language_info": {
   "name": "python",
   "version": "3.12.4"
  }
 },
 "nbformat": 4,
 "nbformat_minor": 2
}
