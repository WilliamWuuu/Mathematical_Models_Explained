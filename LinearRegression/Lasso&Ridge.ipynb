{
 "cells": [
  {
   "cell_type": "markdown",
   "metadata": {},
   "source": [
    "### Lasso(Least Absolute Shrinkage And Selection Operator) & Ridge Regression(岭回归)\n",
    "- 线性回归的 Cost Function(均方误差)为：$$J=\\frac{1}{n}\\sum^n_{i=1}(f(x_i)-y_i)^2$$\n",
    "- Lasso 回归和岭回归都是在标准线性回归的基础上仅修改 Cost Function\n",
    "    - Lasso 回归加入 L1 正则化，其 Cost Function 如下：$$J=\\frac{1}{n}\\sum^n_{i=1}(f(x_i)-y_i)^2+\\lambda||w||_1$$\n",
    "    - 岭回归加入 L2 正则化，其 Cost Function 如下：$$J=\\frac{1}{n}\\sum^n_{i=1}(f(x_i)-y_i)^2+\\lambda||w||_2^2$$"
   ]
  },
  {
   "cell_type": "code",
   "execution_count": 1,
   "metadata": {},
   "outputs": [],
   "source": [
    "from sklearn.linear_model import Lasso, Ridge\n",
    "import pandas as pd"
   ]
  },
  {
   "cell_type": "code",
   "execution_count": 2,
   "metadata": {},
   "outputs": [
    {
     "data": {
      "text/html": [
       "<div>\n",
       "<style scoped>\n",
       "    .dataframe tbody tr th:only-of-type {\n",
       "        vertical-align: middle;\n",
       "    }\n",
       "\n",
       "    .dataframe tbody tr th {\n",
       "        vertical-align: top;\n",
       "    }\n",
       "\n",
       "    .dataframe thead th {\n",
       "        text-align: right;\n",
       "    }\n",
       "</style>\n",
       "<table border=\"1\" class=\"dataframe\">\n",
       "  <thead>\n",
       "    <tr style=\"text-align: right;\">\n",
       "      <th></th>\n",
       "      <th>年份</th>\n",
       "      <th>单产</th>\n",
       "      <th>种子费</th>\n",
       "      <th>化肥费</th>\n",
       "      <th>农药费</th>\n",
       "      <th>机械费</th>\n",
       "      <th>灌溉费</th>\n",
       "    </tr>\n",
       "  </thead>\n",
       "  <tbody>\n",
       "    <tr>\n",
       "      <th>0</th>\n",
       "      <td>1990</td>\n",
       "      <td>1017.0</td>\n",
       "      <td>106.05</td>\n",
       "      <td>495.15</td>\n",
       "      <td>305.10</td>\n",
       "      <td>45.90</td>\n",
       "      <td>56.10</td>\n",
       "    </tr>\n",
       "    <tr>\n",
       "      <th>1</th>\n",
       "      <td>1991</td>\n",
       "      <td>1036.5</td>\n",
       "      <td>113.55</td>\n",
       "      <td>561.45</td>\n",
       "      <td>343.80</td>\n",
       "      <td>68.55</td>\n",
       "      <td>93.30</td>\n",
       "    </tr>\n",
       "    <tr>\n",
       "      <th>2</th>\n",
       "      <td>1992</td>\n",
       "      <td>792.0</td>\n",
       "      <td>104.55</td>\n",
       "      <td>584.85</td>\n",
       "      <td>414.00</td>\n",
       "      <td>73.20</td>\n",
       "      <td>104.55</td>\n",
       "    </tr>\n",
       "    <tr>\n",
       "      <th>3</th>\n",
       "      <td>1993</td>\n",
       "      <td>861.0</td>\n",
       "      <td>132.75</td>\n",
       "      <td>658.35</td>\n",
       "      <td>453.75</td>\n",
       "      <td>82.95</td>\n",
       "      <td>107.55</td>\n",
       "    </tr>\n",
       "    <tr>\n",
       "      <th>4</th>\n",
       "      <td>1994</td>\n",
       "      <td>901.5</td>\n",
       "      <td>174.30</td>\n",
       "      <td>904.05</td>\n",
       "      <td>625.05</td>\n",
       "      <td>114.00</td>\n",
       "      <td>152.10</td>\n",
       "    </tr>\n",
       "  </tbody>\n",
       "</table>\n",
       "</div>"
      ],
      "text/plain": [
       "     年份      单产     种子费     化肥费     农药费     机械费     灌溉费\n",
       "0  1990  1017.0  106.05  495.15  305.10   45.90   56.10\n",
       "1  1991  1036.5  113.55  561.45  343.80   68.55   93.30\n",
       "2  1992   792.0  104.55  584.85  414.00   73.20  104.55\n",
       "3  1993   861.0  132.75  658.35  453.75   82.95  107.55\n",
       "4  1994   901.5  174.30  904.05  625.05  114.00  152.10"
      ]
     },
     "execution_count": 2,
     "metadata": {},
     "output_type": "execute_result"
    }
   ],
   "source": [
    "data = pd.read_excel('cotton.xlsx')\n",
    "data.head()"
   ]
  },
  {
   "cell_type": "code",
   "execution_count": 3,
   "metadata": {},
   "outputs": [],
   "source": [
    "X = data.iloc[:, 2:]\n",
    "Y = data['单产']"
   ]
  },
  {
   "cell_type": "code",
   "execution_count": 4,
   "metadata": {},
   "outputs": [],
   "source": [
    "rg = Ridge().fit(X, Y)"
   ]
  },
  {
   "cell_type": "code",
   "execution_count": 5,
   "metadata": {},
   "outputs": [
    {
     "data": {
      "text/plain": [
       "0.7407635553511098"
      ]
     },
     "execution_count": 5,
     "metadata": {},
     "output_type": "execute_result"
    }
   ],
   "source": [
    "rg.score(X, Y)"
   ]
  },
  {
   "cell_type": "code",
   "execution_count": 6,
   "metadata": {},
   "outputs": [],
   "source": [
    "ls = Lasso().fit(X, Y)"
   ]
  },
  {
   "cell_type": "code",
   "execution_count": 7,
   "metadata": {},
   "outputs": [
    {
     "data": {
      "text/plain": [
       "0.7407632244450274"
      ]
     },
     "execution_count": 7,
     "metadata": {},
     "output_type": "execute_result"
    }
   ],
   "source": [
    "ls.score(X,Y)"
   ]
  },
  {
   "cell_type": "markdown",
   "metadata": {},
   "source": [
    "交叉验证"
   ]
  },
  {
   "cell_type": "code",
   "execution_count": 8,
   "metadata": {},
   "outputs": [],
   "source": [
    "from sklearn.linear_model import LassoCV, RidgeCV"
   ]
  },
  {
   "cell_type": "code",
   "execution_count": 9,
   "metadata": {},
   "outputs": [
    {
     "data": {
      "text/plain": [
       "0.7336219848113823"
      ]
     },
     "execution_count": 9,
     "metadata": {},
     "output_type": "execute_result"
    }
   ],
   "source": [
    "lsCV = LassoCV().fit(X, Y)\n",
    "lsCV.score(X, Y)"
   ]
  },
  {
   "cell_type": "code",
   "execution_count": 10,
   "metadata": {},
   "outputs": [
    {
     "data": {
      "text/plain": [
       "array([ 0.38054479, -0.        , -0.30117494,  0.        ,  0.59984499])"
      ]
     },
     "execution_count": 10,
     "metadata": {},
     "output_type": "execute_result"
    }
   ],
   "source": [
    "lsCV.coef_"
   ]
  },
  {
   "cell_type": "code",
   "execution_count": 11,
   "metadata": {},
   "outputs": [
    {
     "data": {
      "text/plain": [
       "0.7407635299323184"
      ]
     },
     "execution_count": 11,
     "metadata": {},
     "output_type": "execute_result"
    }
   ],
   "source": [
    "rgCV = RidgeCV(cv=5).fit(X, Y)\n",
    "rgCV.score(X, Y)"
   ]
  },
  {
   "cell_type": "code",
   "execution_count": 12,
   "metadata": {},
   "outputs": [
    {
     "data": {
      "text/plain": [
       "array([ 0.77515745, -0.0927722 , -0.25511048, -0.1549564 ,  0.63803781])"
      ]
     },
     "execution_count": 12,
     "metadata": {},
     "output_type": "execute_result"
    }
   ],
   "source": [
    "rgCV.coef_"
   ]
  }
 ],
 "metadata": {
  "kernelspec": {
   "display_name": "sxjm",
   "language": "python",
   "name": "python3"
  },
  "language_info": {
   "codemirror_mode": {
    "name": "ipython",
    "version": 3
   },
   "file_extension": ".py",
   "mimetype": "text/x-python",
   "name": "python",
   "nbconvert_exporter": "python",
   "pygments_lexer": "ipython3",
   "version": "3.12.4"
  }
 },
 "nbformat": 4,
 "nbformat_minor": 2
}
