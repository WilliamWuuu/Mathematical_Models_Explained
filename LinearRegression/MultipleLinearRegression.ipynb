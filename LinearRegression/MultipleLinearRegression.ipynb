{
 "cells": [
  {
   "cell_type": "markdown",
   "metadata": {},
   "source": [
    "## 多元线性回归\n",
    "- 对于一个有n个特征的样本i而言，它的回归结果如下方程：$$\\hat{y}=\\omega _0+\\omega _1x_{i1}+\\omega _2x_{i2}+\\dots+\\omega _nx_{in}$$\n",
    "    - $\\omega$被称为模型的参数，其中$\\omega _0$被称为截距，$\\omega _0$~$\\omega _n$被称为回归系数，有时也用$\\theta$表示。$y$是目标变量，$x_{i1}$~$x_{in}$是样本上的不同特征。\n",
    "- 我们使用矩阵来表示回归方程，$Y$是包含了$m$个样本的回归结果的列向量，其中$W$可以看做是一个长度为$n$的列相量，$X$是一个结构为$(m,n)$的特征矩阵 \n",
    "$$\\left[\\begin{matrix} \\hat{y}_0 \\\\ \\hat{y}_1 \\\\ \\hat{y}_2 \\\\ \\dots \\\\ \\hat{y}_m \\end{matrix}\\right] = \n",
    "\\left[\\begin{matrix} 1 & 1 & 1 & \\dots & 1 \\\\ \n",
    "x_{11} & x_{12} & x_{13} & \\dots & x_{1n} \\\\\n",
    "x_{21} & x_{22} & x_{23} & \\dots & x_{2n} \\\\\n",
    "\\dots & \\dots & \\dots & \\dots & \\dots\\\\\n",
    "x_{m1} & x_{m2} & x_{m3} & \\dots & x_{mn} \\\\\n",
    "\\end{matrix}\\right] * \n",
    "\\left[\\begin{matrix} \\omega _0 \\\\ \\omega _1 \\\\ \\omega _2 \\\\ \\dots \\\\ \\omega _m \\end{matrix}\\right]$$\n",
    "$$ Y = XW$$\n",
    "- 线性回归的任务是构造一个预测函数来映射输入的特征矩阵$X$和标签值$Y$的线性关系，而构造预测模型的核心就是找出模型的参数向量$W$。\n",
    "    - 在多元线性回归中，我们将损失函数定义为：$$\\sum^m_{i=1}(y_i-\\hat{y}_i)^2=\\sum^m_{i=1}(y_i-X_iW)^2$$\n",
    "    - 我们的目标就变成求 $min (||Y-XW||_2)^2$，即SSE(Sum of Squared Error,误差平方和) 或者 RSS(Residual Sum of Squares,残差平方和)。\n",
    "    - 最优解为$W=(X^TX)^{-1}X^TY$\n",
    "- 模型评估指标\n",
    "    - MSE(Mean Squared Error)均方误差 $$MSE=\\frac{\\sum^m_{i=1}(y_i-\\hat{y}_i)^2}{m}$$\n",
    "    - MAE(Mean Absolute Error)绝对均值误差 $$MAE=\\frac{\\sum^m_{i=1}|y_i-\\hat{y}_i|}{m}$$\n",
    "    - $R^2\\text{和}EVS$(Explained Variance Score,可解释性方差分数)用来衡量模型是否较好的拟合了数据的规律(数据的分布规律，单调性等) $$R^2=1-\\frac{\\sum^m_{i=0}(y_i-\\hat{y}_i)^2}{\\sum^m_{i=0}(y_i-\\bar{y})^2}=1-\\frac{RSS}{\\sum^m_{i=0}(y_i-\\bar{y})^2}$$ $$EVS=1-\\frac{Var(y_i-\\hat{y})}{Var(y_i)}$$\n",
    "        - 其中，Var()表示方差"
   ]
  },
  {
   "cell_type": "code",
   "execution_count": null,
   "metadata": {},
   "outputs": [],
   "source": [
    "import warnings\n",
    "warnings.filterwarnings(action='ignore')"
   ]
  },
  {
   "cell_type": "code",
   "execution_count": null,
   "metadata": {},
   "outputs": [],
   "source": [
    "import pandas as pd\n",
    "import numpy as np\n",
    "import matplotlib.pyplot as plt\n",
    "import seaborn as sns"
   ]
  },
  {
   "cell_type": "code",
   "execution_count": null,
   "metadata": {},
   "outputs": [],
   "source": [
    "# 支持显示中文\n",
    "plt.rcParams['font.family'] = 'Heiti TC'\n",
    "plt.rcParams['axes.unicode_minus']=False\n",
    "sns.set_theme(font='Heiti TC')"
   ]
  },
  {
   "cell_type": "code",
   "execution_count": null,
   "metadata": {},
   "outputs": [],
   "source": [
    "data = pd.read_csv('milk_power.csv')\n",
    "data.head()"
   ]
  },
  {
   "cell_type": "code",
   "execution_count": null,
   "metadata": {},
   "outputs": [],
   "source": [
    "data.info()"
   ]
  },
  {
   "cell_type": "code",
   "execution_count": null,
   "metadata": {},
   "outputs": [],
   "source": [
    "data.describe()"
   ]
  },
  {
   "cell_type": "code",
   "execution_count": null,
   "metadata": {},
   "outputs": [],
   "source": [
    "data['段位'].describe()"
   ]
  },
  {
   "cell_type": "code",
   "execution_count": null,
   "metadata": {},
   "outputs": [],
   "source": [
    "pd.crosstab(data['段位'], [data['分类'], data['配方']], margins=True)"
   ]
  },
  {
   "cell_type": "code",
   "execution_count": null,
   "metadata": {},
   "outputs": [],
   "source": [
    "df = data.groupby('段位').size()\n",
    "df.plot(kind='pie', subplots=True, figsize=(6,6), autopct='%1.1f%%', fontsize=20, colormap='Set3')\n",
    "plt.legend(loc='upper right')\n",
    "plt.show()"
   ]
  },
  {
   "cell_type": "code",
   "execution_count": null,
   "metadata": {},
   "outputs": [],
   "source": [
    "area = data.groupby('奶源产地').size().sort_values()\n",
    "sns.barplot(area, palette='Set3')"
   ]
  },
  {
   "cell_type": "code",
   "execution_count": null,
   "metadata": {},
   "outputs": [],
   "source": [
    "import statsmodels.api as sm\n",
    "import statsmodels.formula.api as smf\n",
    "from statsmodels.stats.outliers_influence import variance_inflation_factor\n",
    "from sklearn import linear_model, preprocessing"
   ]
  },
  {
   "cell_type": "code",
   "execution_count": null,
   "metadata": {},
   "outputs": [],
   "source": [
    "data.columns"
   ]
  },
  {
   "cell_type": "code",
   "execution_count": null,
   "metadata": {},
   "outputs": [],
   "source": [
    "data1 = {\"y\": data['评价量'], \"x1\": data['团购价.元.'], \"x2\": data['商品毛重.kg.']}\n",
    "df = pd.DataFrame(data1)\n",
    "df.head()"
   ]
  },
  {
   "cell_type": "markdown",
   "metadata": {},
   "source": [
    "方法一："
   ]
  },
  {
   "cell_type": "code",
   "execution_count": null,
   "metadata": {},
   "outputs": [],
   "source": [
    "Y = df['y']\n",
    "X = df[['x1', 'x2']]"
   ]
  },
  {
   "cell_type": "code",
   "execution_count": null,
   "metadata": {},
   "outputs": [],
   "source": [
    "X = sm.add_constant(X)\n",
    "model2 = sm.OLS(Y, X)\n",
    "model2 = model2.fit()"
   ]
  },
  {
   "cell_type": "markdown",
   "metadata": {},
   "source": [
    "方法二：\n",
    "\n",
    "$\\text{原假设}H_0:\\beta _1=\\beta _2=\\dots=\\beta _k=0$"
   ]
  },
  {
   "cell_type": "code",
   "execution_count": null,
   "metadata": {},
   "outputs": [],
   "source": [
    "model1 = smf.ols('y ~ 1 + x1 + x2', df)\n",
    "result1 = model1.fit()\n",
    "result1.summary()"
   ]
  },
  {
   "cell_type": "code",
   "execution_count": null,
   "metadata": {},
   "outputs": [],
   "source": [
    "enc = preprocessing.OneHotEncoder()"
   ]
  },
  {
   "cell_type": "code",
   "execution_count": null,
   "metadata": {},
   "outputs": [],
   "source": [
    "enc.fit_transform(np.array(data['段位']).reshape(-1,1)).toarray()"
   ]
  },
  {
   "cell_type": "code",
   "execution_count": null,
   "metadata": {},
   "outputs": [],
   "source": [
    "# 创建虚拟变量\n",
    "factor = pd.get_dummies(data['段位'])\n",
    "factor.insert(0, '评价量', data['评价量'])\n",
    "factor.head()"
   ]
  },
  {
   "cell_type": "code",
   "execution_count": null,
   "metadata": {},
   "outputs": [],
   "source": [
    "y = factor['评价量']\n",
    "x1 = factor['1段']\n",
    "x2 = factor['2段']\n",
    "x3 = factor['3段']\n",
    "x4 = factor['4段']"
   ]
  },
  {
   "cell_type": "code",
   "execution_count": null,
   "metadata": {},
   "outputs": [],
   "source": [
    "model2 = smf.ols('y ~ 1 + x1 + x2 + x3', factor)\n",
    "result2 = model2.fit()\n",
    "result2.summary()"
   ]
  },
  {
   "cell_type": "code",
   "execution_count": null,
   "metadata": {},
   "outputs": [],
   "source": [
    "data"
   ]
  },
  {
   "cell_type": "code",
   "execution_count": null,
   "metadata": {},
   "outputs": [],
   "source": [
    "X = data['商品名称'].to_frame()\n",
    "for i in range(data.shape[1]):\n",
    "    j = 0\n",
    "    if i!=0 and i!=1 and i!=9 and i!=10:\n",
    "        X = pd.concat([X, pd.get_dummies(data.iloc[:, i])], axis=1)\n",
    "        j += 1\n",
    "        \n",
    "X = pd.concat([X, data['商品毛重.kg.'], data['团购价.元.']], axis=1)\n",
    "X.drop(columns='商品名称', inplace=True)\n",
    "X = np.array(X, dtype=float)"
   ]
  },
  {
   "cell_type": "code",
   "execution_count": null,
   "metadata": {},
   "outputs": [],
   "source": [
    "y = np.array(data['评价量'], dtype=float)"
   ]
  },
  {
   "cell_type": "code",
   "execution_count": null,
   "metadata": {},
   "outputs": [],
   "source": [
    "X = sm.add_constant(X)\n",
    "mod = sm.OLS(y, X)\n",
    "res = mod.fit()"
   ]
  },
  {
   "cell_type": "code",
   "execution_count": null,
   "metadata": {},
   "outputs": [],
   "source": [
    "res.summary()"
   ]
  },
  {
   "cell_type": "code",
   "execution_count": null,
   "metadata": {},
   "outputs": [],
   "source": [
    "for i in range(30):\n",
    "    print(variance_inflation_factor(X,i))"
   ]
  }
 ],
 "metadata": {
  "kernelspec": {
   "display_name": "sxjm",
   "language": "python",
   "name": "python3"
  },
  "language_info": {
   "codemirror_mode": {
    "name": "ipython",
    "version": 3
   },
   "file_extension": ".py",
   "mimetype": "text/x-python",
   "name": "python",
   "nbconvert_exporter": "python",
   "pygments_lexer": "ipython3",
   "version": "3.12.4"
  }
 },
 "nbformat": 4,
 "nbformat_minor": 2
}
