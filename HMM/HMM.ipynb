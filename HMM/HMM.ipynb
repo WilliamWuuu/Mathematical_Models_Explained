{
 "cells": [
  {
   "cell_type": "code",
   "execution_count": null,
   "metadata": {},
   "outputs": [],
   "source": [
    "import numpy as np\n",
    "\n",
    "# GaussianHMM 是针对观测为连续，所以观测矩阵 B 由各个隐藏状态对应观测状态的高斯分布概率密度函数参数来给出。\n",
    "from hmmlearn.hmm import GaussianHMM\n",
    "# 对应 GMMHMM 同样，而 multinomialHMM 是针对离散观测，B可以直接给出。\n",
    "from hmmlearn.hmm import MultinomialHMM"
   ]
  },
  {
   "cell_type": "code",
   "execution_count": null,
   "metadata": {},
   "outputs": [],
   "source": [
    "startprob = np.array([0.6, 0.3, 0.1, 0.0])\n",
    "\n",
    "transmat = np.array([[0.7, 0.2, 0.0, 0.1],\n",
    "                     [0.3, 0.5, 0.2, 0.0],\n",
    "                     [0.0, 0.3, 0.5, 0.2],\n",
    "                     [0.2, 0.0, 0.2, 0.6]])\n",
    "\n",
    "means = np.array([[0.0, 0.0],\n",
    "                  [0.0, 11.0],\n",
    "                  [9.0, 10.0],\n",
    "                  [11.0, -1.0]])\n",
    "\n",
    "# 隐藏状态协方差\n",
    "covars = 0.5 * np.tile(np.identity(2), (4, 1, 1))\n",
    "\n",
    "# 将 x 延第一个轴复制 n 个出来，再延第二个轴复制 m 个出来。上面，为 1*2*2，复制完了就是4*2*2。\n",
    "# np.tile(x, (n, m))\n",
    "\n",
    "# 获取n维单位方阵，\n",
    "# np.identity(n)\n",
    "\n",
    "# 获取 n 行 m 列对角元素偏移 k 的单位阵\n",
    "# np.eye(n.m.k) "
   ]
  },
  {
   "cell_type": "code",
   "execution_count": null,
   "metadata": {},
   "outputs": [],
   "source": [
    "'''\n",
    "hmm = GaussianHMM(n_components=4,\n",
    "                  covariance_type='full',  # 参数covariance_type，为\"full\":所有的 μ,Σ 都需要指定。\n",
    "                                           # 取值为“spherical”则 Σ 的非对角线元素为0，对角线元素相同。\n",
    "                                           # 取值为“diag”则 Σ 的非对角线元素为0，对角线元素可以不同。\n",
    "                                           # 取值为\"tied\"指所有的隐藏状态对应的观测状态分布使用相同的协方差矩阵 Σ。\n",
    "                  startprob_prior=1.0,     # PI\n",
    "                  transmat_prior=1.0,      # 状态转移A\n",
    "                  means_prior=,            # “means”用来表示各个隐藏状态对应的高斯分布期望向量μ形成的矩阵\n",
    "                  means_weight=,\n",
    "                  covars_prior=,           # “covars”用来表示各个隐藏状态对应的高斯分布协方差矩阵Σ形成的三维张量\n",
    "                  covars_weight=,\n",
    "                  algorithm=,\n",
    "                 )\n",
    "'''"
   ]
  },
  {
   "cell_type": "code",
   "execution_count": null,
   "metadata": {},
   "outputs": [],
   "source": [
    "hmm = GaussianHMM(n_components=4, covariance_type='full')\n",
    "\n",
    "hmm.startprob_ = startprob\n",
    "hmm.transmat_ = transmat\n",
    "hmm.means_ = means\n",
    "hmm.covars_ = covars\n",
    "\n",
    "seen = np.array([[1.1, 2.0], [-1, 2.0], [3, 7]])\n",
    "logprob, state = hmm.decode(seen, algorithm=\"viterbi\")\n",
    "print(state)\n",
    "\n",
    "print(hmm.score(seen))"
   ]
  }
 ],
 "metadata": {
  "kernelspec": {
   "display_name": "sxjm",
   "language": "python",
   "name": "python3"
  },
  "language_info": {
   "name": "python",
   "version": "3.12.4"
  }
 },
 "nbformat": 4,
 "nbformat_minor": 2
}
