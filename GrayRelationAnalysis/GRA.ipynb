{
 "cells": [
  {
   "cell_type": "markdown",
   "metadata": {},
   "source": [
    "## 灰色关联度分析(Grey Relation Analysis，GRA)\n",
    "- 在一个灰色系统中，我们想要了解其中某个我们所关注的某个项目受其他的因素影响的相对强弱。\n",
    "- 假设我们知道某一个指标可能是与其他的某几个因素相关的，那么我们想知道这个指标与其他哪个因素相对关系强一些，哪个因素相对关系弱一点。\n",
    "- 把这些因素排个序，得到一个分析结果，我们就可以知道我们关注的这个指标，与因素中的哪些更相关。\n",
    "### 操作步骤\n",
    "#### 1. 确定母序列和子序列\n",
    "- 母序列：参考序列，每一个因素的序列都可做参考序列\n",
    "- 子序列：比较序列，也就是需要确立顺序的因素序列，可以理解为除了母序列外的所有序列\n",
    "#### 2. 归一化(无量纲化)\n",
    "- 减少数据的绝对数值的差异，将它们统一到近似的范围内，重点关注其变化和趋势。\n",
    "- 主要方法有：\n",
    "    - 初值化：就是把这一个序列的数据统一除以最开始的值，由于同一个因素的序列的量级差别不大，所以通过除以初值就能将这些值都整理到1这个量级附近。$$x_i'(k)=\\frac{x_i(k)}{x_i(1)}$$\n",
    "    - 均值化：就是把这个序列的数据除以均值，由于数量级大的序列均值比较大，所以除掉以后就能归一化到1的量级附近。$$x_i'(k)=\\frac{x_i(k)}{mean(x_i)}$$\n",
    "#### 3. 计算灰色关联系数 \n",
    "$$\\zeta _i(k)=\\frac{min_imin_k|x_0(k)-x_i(k)|+\\rho ·max_imax_k|x_0(k)-x_i(k)|}{|x_0(k)-x_i(k)|+\\rho ·max_imax_k|x_0(k)-x_i(k)|},\\text{其中}\\rho \\in [0, 1] $$\n",
    "- 假设 $\\rho=0$，则 $$\\zeta _i(k)=\\frac{min_imin_k|x_0(k)-x_i(k)|}{|x_0(k)-x_i(k)|}=\\frac{Constant}{|x_0(k)-x_i(k)|}$$\n",
    "    - 可以发现，分子的数值对于所有子序列来说都是一样的。分子的数值实际上就是所有因素的所有维度中，与母序列距离最近的维度上的距离。\n",
    "    - 实际上，这个系数是与第k个维度上，子序列与母序列的距离(差的绝对值，即l1范数)成反比。即这两个数距离越远，可认为越不相关。\n",
    "- $\\rho ·max_imax_k|x_0(k)-x_i(k)|$这一项对于每个i来说也是一个不变的常数constant，所以可以理解为给上面那个式子的分子分母同时加上某个常数，即 $$\\zeta _i(k)=\\frac{aConstant+bConstant}{|x_0(k)-x_i(k)|+bConstant}$$\n",
    "    - 由于分子是距离的全局最小值，这就导致下面的分母必然大于分子，而且，如果分母非常大，曲线距离非常远，那么，$\\zeta$接近0； 相反，如果$x_i$和$x_0$在所有维度上的差完全一样，那么分数的值就是1。这样$\\zeta$取值范围就是0~1之间，0表示不相关，1表示强关联性。\n",
    "#### 4. 计算关联系数均值，形成关联序\n",
    "### 总结\n",
    "- GRA算法本质上来讲就是提供了一种度量两个向量之间距离的方法，对于有时间性的因子，向量可以看成一条时间曲线，而GRA算法就是度量两条曲线的形态和走势是否相近。\n",
    "- $\\rho$调节不同关联系数之间的差异，换句话说，就是输出的分布，使其可以变得更加稀疏或者紧密。以数学角度要言之，该算法即度量已归一化的子向量与母向量的每一维度的l1-norm距离的倒数之和，并将其映射到0～1区间内，作为子母向量的关联性之度量的一种策略。"
   ]
  },
  {
   "cell_type": "code",
   "execution_count": 11,
   "metadata": {},
   "outputs": [],
   "source": [
    "import numpy as np\n",
    "import pandas as pd\n",
    "\n",
    "np.set_printoptions(suppress=True,precision=3)"
   ]
  },
  {
   "cell_type": "code",
   "execution_count": 12,
   "metadata": {},
   "outputs": [
    {
     "data": {
      "text/html": [
       "<div>\n",
       "<style scoped>\n",
       "    .dataframe tbody tr th:only-of-type {\n",
       "        vertical-align: middle;\n",
       "    }\n",
       "\n",
       "    .dataframe tbody tr th {\n",
       "        vertical-align: top;\n",
       "    }\n",
       "\n",
       "    .dataframe thead th {\n",
       "        text-align: right;\n",
       "    }\n",
       "</style>\n",
       "<table border=\"1\" class=\"dataframe\">\n",
       "  <thead>\n",
       "    <tr style=\"text-align: right;\">\n",
       "      <th></th>\n",
       "      <th>GDP</th>\n",
       "      <th>第一产业</th>\n",
       "      <th>第二产业</th>\n",
       "      <th>第三产业</th>\n",
       "    </tr>\n",
       "  </thead>\n",
       "  <tbody>\n",
       "    <tr>\n",
       "      <th>0</th>\n",
       "      <td>1988</td>\n",
       "      <td>386</td>\n",
       "      <td>839</td>\n",
       "      <td>763</td>\n",
       "    </tr>\n",
       "    <tr>\n",
       "      <th>1</th>\n",
       "      <td>2061</td>\n",
       "      <td>408</td>\n",
       "      <td>846</td>\n",
       "      <td>808</td>\n",
       "    </tr>\n",
       "    <tr>\n",
       "      <th>2</th>\n",
       "      <td>2335</td>\n",
       "      <td>422</td>\n",
       "      <td>960</td>\n",
       "      <td>953</td>\n",
       "    </tr>\n",
       "    <tr>\n",
       "      <th>3</th>\n",
       "      <td>2750</td>\n",
       "      <td>482</td>\n",
       "      <td>1258</td>\n",
       "      <td>1010</td>\n",
       "    </tr>\n",
       "    <tr>\n",
       "      <th>4</th>\n",
       "      <td>3356</td>\n",
       "      <td>511</td>\n",
       "      <td>1577</td>\n",
       "      <td>1268</td>\n",
       "    </tr>\n",
       "    <tr>\n",
       "      <th>5</th>\n",
       "      <td>3806</td>\n",
       "      <td>561</td>\n",
       "      <td>1893</td>\n",
       "      <td>1352</td>\n",
       "    </tr>\n",
       "  </tbody>\n",
       "</table>\n",
       "</div>"
      ],
      "text/plain": [
       "    GDP  第一产业  第二产业  第三产业\n",
       "0  1988   386   839   763\n",
       "1  2061   408   846   808\n",
       "2  2335   422   960   953\n",
       "3  2750   482  1258  1010\n",
       "4  3356   511  1577  1268\n",
       "5  3806   561  1893  1352"
      ]
     },
     "execution_count": 12,
     "metadata": {},
     "output_type": "execute_result"
    }
   ],
   "source": [
    "data = pd.read_csv('gdp.csv', header=None)\n",
    "data = data.rename({0:'GDP', 1:'第一产业', 2:'第二产业', 3:'第三产业'},axis=1)\n",
    "data"
   ]
  },
  {
   "cell_type": "code",
   "execution_count": 13,
   "metadata": {},
   "outputs": [],
   "source": [
    "x_mat = np.array(data)"
   ]
  },
  {
   "cell_type": "code",
   "execution_count": 14,
   "metadata": {},
   "outputs": [],
   "source": [
    "## 定义函数求解关联度\n",
    "def gray_analysis(x, rho=0.5):\n",
    "    # 归一化(均值化)\n",
    "    x_mean = np.mean(x, axis=0)\n",
    "    x = x / x_mean\n",
    "    \n",
    "    # 提取子序列\n",
    "    X = x[:, 1:]\n",
    "    # 提取母序列\n",
    "    Y = x[:, 0].reshape(X.shape[0], 1)\n",
    "    \n",
    "    # 利用公式计算灰色关联度\n",
    "    abs_x0_xi = np.abs(X - Y)\n",
    "    a = np.min(abs_x0_xi)\n",
    "    b = np.max(abs_x0_xi)\n",
    "    gamma_mat = (a + rho * b) / (abs_x0_xi + rho * b)\n",
    "    corre_degree = np.mean(gamma_mat, axis=0)\n",
    "    \n",
    "    print(\"子序列中各个指标的灰色关联度分别为：\", corre_degree)\n",
    "    return corre_degree"
   ]
  },
  {
   "cell_type": "code",
   "execution_count": 15,
   "metadata": {},
   "outputs": [
    {
     "name": "stdout",
     "output_type": "stream",
     "text": [
      "子序列中各个指标的灰色关联度分别为： [0.508 0.624 0.757]\n"
     ]
    },
    {
     "data": {
      "text/plain": [
       "array([0.508, 0.624, 0.757])"
      ]
     },
     "execution_count": 15,
     "metadata": {},
     "output_type": "execute_result"
    }
   ],
   "source": [
    "gray_analysis(x_mat)"
   ]
  },
  {
   "cell_type": "markdown",
   "metadata": {},
   "source": [
    "确定权重"
   ]
  },
  {
   "cell_type": "code",
   "execution_count": 16,
   "metadata": {},
   "outputs": [],
   "source": [
    "class Topsis:\n",
    "    def __init__(self, X, **typ):\n",
    "        # 所有待转换的类型\n",
    "        x_mat = X.copy()\n",
    "        ctype = ['cmin', 'cmedian', 'crange']\n",
    "        if typ:\n",
    "            # 提取待转换类型及对应的列为一个新字典\n",
    "            type_dic = dict([(t,typ[t]) for t in ctype if t in typ.keys()])\n",
    "            position = sum(type_dic.values(),[])\n",
    "\n",
    "            for col_wait_for_convert in position:\n",
    "                convert_type = [k for k, v in typ.items() if col_wait_for_convert in v][0]\n",
    "                current_index = typ[convert_type].index(col_wait_for_convert)\n",
    "                if convert_type == 'cmedian':\n",
    "                    x_mat.iloc[:,col_wait_for_convert] = self.positivization(x_mat[col_wait_for_convert], convert_type,typ['best_median'][current_index])\n",
    "                \n",
    "                elif convert_type == 'crange':\n",
    "                    x_mat.iloc[:,col_wait_for_convert] = self.positivization(x_mat[col_wait_for_convert], convert_type,typ['best_range'][current_index])\n",
    "                \n",
    "                else:\n",
    "                    x_mat.iloc[:,col_wait_for_convert] = self.positivization(x_mat[col_wait_for_convert],convert_type)\n",
    "        else:\n",
    "            print('无需正向化')\n",
    "            \n",
    "        self.x_mat = x_mat\n",
    "            \n",
    "    def positivization(self, col ,t, best=None):\n",
    "        if t == 'cmin':\n",
    "            posit = col.max() - col\n",
    "            return posit\n",
    "        elif t == 'cmedian':\n",
    "            m = max(abs(col - best))\n",
    "            posit = 1 - abs(col - best) / m\n",
    "            return posit\n",
    "        else:\n",
    "            posit = col\n",
    "            t == 'crange'\n",
    "            a,b = best\n",
    "            m = max(np.append(a-min(col),max(col)-b))\n",
    "            x_row = col.shape[0]\n",
    "            for i in range(x_row):\n",
    "                if col[i] < a:\n",
    "                    posit[i] = 1 - (a-col[i]) / m\n",
    "                elif col[i] > b:\n",
    "                    posit[i] = 1 - (col[i]-b) / m\n",
    "                else:\n",
    "                    posit[i] = 1\n",
    "            return posit"
   ]
  },
  {
   "cell_type": "code",
   "execution_count": 17,
   "metadata": {},
   "outputs": [
    {
     "data": {
      "text/html": [
       "<div>\n",
       "<style scoped>\n",
       "    .dataframe tbody tr th:only-of-type {\n",
       "        vertical-align: middle;\n",
       "    }\n",
       "\n",
       "    .dataframe tbody tr th {\n",
       "        vertical-align: top;\n",
       "    }\n",
       "\n",
       "    .dataframe thead th {\n",
       "        text-align: right;\n",
       "    }\n",
       "</style>\n",
       "<table border=\"1\" class=\"dataframe\">\n",
       "  <thead>\n",
       "    <tr style=\"text-align: right;\">\n",
       "      <th></th>\n",
       "      <th>0</th>\n",
       "      <th>1</th>\n",
       "      <th>2</th>\n",
       "      <th>3</th>\n",
       "    </tr>\n",
       "  </thead>\n",
       "  <tbody>\n",
       "    <tr>\n",
       "      <th>0</th>\n",
       "      <td>4.69</td>\n",
       "      <td>6.59</td>\n",
       "      <td>51.0</td>\n",
       "      <td>11.94</td>\n",
       "    </tr>\n",
       "    <tr>\n",
       "      <th>18</th>\n",
       "      <td>3.54</td>\n",
       "      <td>7.27</td>\n",
       "      <td>54.0</td>\n",
       "      <td>3.16</td>\n",
       "    </tr>\n",
       "    <tr>\n",
       "      <th>9</th>\n",
       "      <td>6.19</td>\n",
       "      <td>7.27</td>\n",
       "      <td>17.0</td>\n",
       "      <td>7.51</td>\n",
       "    </tr>\n",
       "    <tr>\n",
       "      <th>2</th>\n",
       "      <td>9.11</td>\n",
       "      <td>6.31</td>\n",
       "      <td>46.0</td>\n",
       "      <td>8.91</td>\n",
       "    </tr>\n",
       "    <tr>\n",
       "      <th>15</th>\n",
       "      <td>7.73</td>\n",
       "      <td>6.14</td>\n",
       "      <td>52.0</td>\n",
       "      <td>15.72</td>\n",
       "    </tr>\n",
       "  </tbody>\n",
       "</table>\n",
       "</div>"
      ],
      "text/plain": [
       "       0     1     2      3\n",
       "0   4.69  6.59  51.0  11.94\n",
       "18  3.54  7.27  54.0   3.16\n",
       "9   6.19  7.27  17.0   7.51\n",
       "2   9.11  6.31  46.0   8.91\n",
       "15  7.73  6.14  52.0  15.72"
      ]
     },
     "execution_count": 17,
     "metadata": {},
     "output_type": "execute_result"
    }
   ],
   "source": [
    "river_data = pd.read_csv('river.csv',header=None)\n",
    "river_data.sample(5)"
   ]
  },
  {
   "cell_type": "code",
   "execution_count": 18,
   "metadata": {},
   "outputs": [],
   "source": [
    "tp = Topsis(X=river_data, cmin=[2], cmedian=[1], best_median=[7], crange=[3], best_range=[[10, 20]])"
   ]
  },
  {
   "cell_type": "code",
   "execution_count": 19,
   "metadata": {},
   "outputs": [],
   "source": [
    "def score(processed_x, raw_data):\n",
    "    after_processed = processed_x\n",
    "    temp_mat = after_processed.copy()\n",
    "    temp_mat = temp_mat / temp_mat.mean(axis=0)\n",
    "    main_col = temp_mat.max(axis=1)\n",
    "    temp_mat.insert(0, column='母序列', value=main_col)\n",
    "    corr = gray_analysis(np.array(temp_mat))\n",
    "    col_weight = corr / corr.sum()\n",
    "    object_score = (raw_data * col_weight).sum(axis=1)\n",
    "    standar_score = object_score / sum(object_score)\n",
    "    return standar_score"
   ]
  },
  {
   "cell_type": "code",
   "execution_count": 20,
   "metadata": {},
   "outputs": [
    {
     "name": "stdout",
     "output_type": "stream",
     "text": [
      "子序列中各个指标的灰色关联度分别为： [0.646 0.607 0.525 0.647]\n"
     ]
    },
    {
     "data": {
      "text/plain": [
       "0     0.057808\n",
       "1     0.028172\n",
       "2     0.055168\n",
       "3     0.071119\n",
       "4     0.069670\n",
       "5     0.057809\n",
       "6     0.045839\n",
       "7     0.062283\n",
       "8     0.031623\n",
       "9     0.030902\n",
       "10    0.025951\n",
       "11    0.045317\n",
       "12    0.043471\n",
       "13    0.064533\n",
       "14    0.040179\n",
       "15    0.064298\n",
       "16    0.056917\n",
       "17    0.053891\n",
       "18    0.051634\n",
       "19    0.043416\n",
       "dtype: float64"
      ]
     },
     "execution_count": 20,
     "metadata": {},
     "output_type": "execute_result"
    }
   ],
   "source": [
    "score(tp.x_mat, river_data)"
   ]
  }
 ],
 "metadata": {
  "kernelspec": {
   "display_name": "sxjm",
   "language": "python",
   "name": "python3"
  },
  "language_info": {
   "codemirror_mode": {
    "name": "ipython",
    "version": 3
   },
   "file_extension": ".py",
   "mimetype": "text/x-python",
   "name": "python",
   "nbconvert_exporter": "python",
   "pygments_lexer": "ipython3",
   "version": "3.12.4"
  }
 },
 "nbformat": 4,
 "nbformat_minor": 2
}
