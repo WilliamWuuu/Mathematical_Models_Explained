{
 "cells": [
  {
   "cell_type": "markdown",
   "metadata": {},
   "source": [
    "K-means Clustering: Unsupervised Machine Learning\n",
    "\n",
    "Advantage: Fast & Simple\n",
    "\n",
    "Disadvantege: 1. Need the number of clusters.\n",
    "              2. Sensitive to the initial value.\n",
    "              3. Sensitive to the isolated dots."
   ]
  },
  {
   "cell_type": "code",
   "execution_count": 1,
   "metadata": {},
   "outputs": [],
   "source": [
    "import numpy as np\n",
    "import random"
   ]
  },
  {
   "cell_type": "code",
   "execution_count": 2,
   "metadata": {},
   "outputs": [],
   "source": [
    "# 定义欧式距离\n",
    "def get_distance(x1, x2):\n",
    "    return np.sqrt(np.sum(np.square(x1 - x2)))"
   ]
  },
  {
   "cell_type": "code",
   "execution_count": 3,
   "metadata": {},
   "outputs": [],
   "source": [
    "# 定义中心初始化函数，中心点选择的是样本特征\n",
    "def center_init(k, X):\n",
    "    n_samples, n_features = X.shape\n",
    "    centers = np.zeros((k, n_features))\n",
    "    selected_centers_index = []\n",
    "    \n",
    "    for i in range(k):\n",
    "        # 每一次循环随机选择一个类别中心,判断不让 centers 重复\n",
    "        sel_index = random.choice(list(set(range(n_samples)) - set(selected_centers_index)))\n",
    "        centers[i] = X[sel_index]\n",
    "        selected_centers_index.append(sel_index)\n",
    "    return centers"
   ]
  },
  {
   "cell_type": "code",
   "execution_count": 4,
   "metadata": {},
   "outputs": [],
   "source": [
    "# 判断一个样本点离哪个中心点近， 返回的是该中心点的索引\n",
    "## 比如有三个中心点，返回的是0，1，2\n",
    "def closest_center(sample, centers):\n",
    "    closest_i = 0\n",
    "    closest_dist = float('inf')\n",
    "    for i, c in enumerate(centers):\n",
    "        # 根据欧式距离判断，选择最小距离的中心点所属类别\n",
    "        distance = get_distance(sample, c)\n",
    "        if distance < closest_dist:\n",
    "            closest_i = i\n",
    "            closest_dist = distance\n",
    "    return closest_i"
   ]
  },
  {
   "cell_type": "code",
   "execution_count": 5,
   "metadata": {},
   "outputs": [],
   "source": [
    "# 定义构建聚类的过程\n",
    "# 每一个聚类存的内容是样本的索引，即对样本索引进行聚类，方便操作\n",
    "def create_clusters(centers, k, X):\n",
    "    clusters = [[] for _ in range(k)]\n",
    "    for sample_i, sample in enumerate(X):\n",
    "        # 将样本划分到最近的类别区域\n",
    "        center_i = closest_center(sample, centers)\n",
    "        # 存放样本的索引\n",
    "        clusters[center_i].append(sample_i)\n",
    "    return clusters"
   ]
  },
  {
   "cell_type": "code",
   "execution_count": 6,
   "metadata": {},
   "outputs": [],
   "source": [
    "# 根据上一步聚类结果计算新的中心点\n",
    "def calculate_new_centers(clusters, k, X):\n",
    "    n_samples, n_features = X.shape\n",
    "    centers = np.zeros((k, n_features))\n",
    "    # 以当前每个类样本的均值为新的中心点\n",
    "    for i, cluster in enumerate(clusters):  # cluster为分类后每一类的索引\n",
    "        new_center = np.mean(X[cluster], axis=0) # 按列求平均值\n",
    "        centers[i] = new_center\n",
    "    return centers"
   ]
  },
  {
   "cell_type": "code",
   "execution_count": 7,
   "metadata": {},
   "outputs": [],
   "source": [
    "# 获取每个样本所属的聚类类别\n",
    "def get_cluster_labels(clusters, X):\n",
    "    y_pred = np.zeros(np.shape(X)[0])\n",
    "    for cluster_i, cluster in enumerate(clusters):\n",
    "        for sample_i in cluster:\n",
    "            y_pred[sample_i] = cluster_i\n",
    "            #print('把样本{}归到{}类'.format(sample_i,cluster_i))\n",
    "    return y_pred"
   ]
  },
  {
   "cell_type": "code",
   "execution_count": 8,
   "metadata": {},
   "outputs": [],
   "source": [
    "# 根据上述各流程定义kmeans算法流程\n",
    "def Mykmeans(X, k, max_iterations,init):\n",
    "    # 1.初始化中心点\n",
    "    if init == 'kmeans':\n",
    "        centers = center_init(k, X)\n",
    "    else: centers = get_kmeansplus_centers(k, X)\n",
    "    # 遍历迭代求解\n",
    "    for _ in range(max_iterations):\n",
    "        # 2.根据当前中心点进行聚类\n",
    "        clusters = create_clusters(centers, k, X)\n",
    "        # 保存当前中心点\n",
    "        pre_centers = centers\n",
    "        # 3.根据聚类结果计算新的中心点\n",
    "        new_centers = calculate_new_centers(clusters, k, X)\n",
    "        # 4.设定收敛条件为中心点是否发生变化\n",
    "        diff = new_centers - pre_centers\n",
    "        # 说明中心点没有变化，停止更新\n",
    "        if diff.sum() == 0:\n",
    "            break\n",
    "    # 返回最终的聚类标签\n",
    "    return get_cluster_labels(clusters, X)"
   ]
  },
  {
   "cell_type": "code",
   "execution_count": 26,
   "metadata": {},
   "outputs": [
    {
     "name": "stdout",
     "output_type": "stream",
     "text": [
      "最后分类结果 [1. 0. 0. 0. 0.]\n"
     ]
    }
   ],
   "source": [
    "# 测试执行\n",
    "X = np.array([[0, 2], [0, 0], [1, 0], [5, 0], [5, 2]])\n",
    "\n",
    "# 设定聚类类别为2个，最大迭代次数为10次\n",
    "labels = Mykmeans(X, k = 2, max_iterations = 10, init = 'kmeans')\n",
    "\n",
    "# 打印每个样本所属的类别标签\n",
    "print(\"最后分类结果\",labels)\n",
    "# 输出为 [1. 1. 1. 0. 0.]"
   ]
  },
  {
   "cell_type": "code",
   "execution_count": 10,
   "metadata": {},
   "outputs": [
    {
     "name": "stdout",
     "output_type": "stream",
     "text": [
      "[1 1 1 0 0]\n"
     ]
    }
   ],
   "source": [
    "# 使用sklearn验证\n",
    "from sklearn.cluster import KMeans\n",
    "X = np.array([[0,2],[0,0],[1,0],[5,0],[5,2]])\n",
    "kmeans = KMeans(n_clusters=2,init = 'random').fit(X)\n",
    "\n",
    "# 由于center的随机性，结果可能不一样\n",
    "print(kmeans.labels_)"
   ]
  },
  {
   "cell_type": "markdown",
   "metadata": {},
   "source": [
    "k-means++"
   ]
  },
  {
   "cell_type": "code",
   "execution_count": 11,
   "metadata": {},
   "outputs": [],
   "source": [
    "## 得到k-means++中心点\n",
    "def get_kmeansplus_centers(k, X):\n",
    "    n_samples, n_features = X.shape\n",
    "    init_one_center_i = np.random.choice(range(n_samples))\n",
    "    centers = []\n",
    "    centers.append(X[init_one_center_i])\n",
    "    dists = [ 0 for _ in range(n_samples)]\n",
    "\n",
    "    # 执行\n",
    "    for _ in range(k-1):\n",
    "        total = 0\n",
    "        for sample_i, sample in enumerate(X):\n",
    "            # 得到最短距离\n",
    "            closet_i = closest_center(sample, centers)\n",
    "            d = get_distance(X[closet_i], sample)\n",
    "            dists[sample_i] = d\n",
    "            total += d\n",
    "        total = total * np.random.random()\n",
    "\n",
    "        for sample_i, d in enumerate(dists): # 轮盘法选出下一个聚类中心\n",
    "            total -= d\n",
    "            if total > 0:\n",
    "                continue\n",
    "            # 选取新的中心点\n",
    "            centers.append(X[sample_i])\n",
    "            break\n",
    "    return centers"
   ]
  },
  {
   "cell_type": "code",
   "execution_count": 21,
   "metadata": {},
   "outputs": [
    {
     "name": "stdout",
     "output_type": "stream",
     "text": [
      "最后分类结果 [0. 0. 0. 1. 1.]\n"
     ]
    }
   ],
   "source": [
    "X = np.array([[0, 2], [0, 0], [1, 0], [5, 0], [5, 2]])\n",
    "# 设定聚类类别为2个，最大迭代次数为10次\n",
    "labels = Mykmeans(X, k = 2, max_iterations = 10, init = 'kmeans++')\n",
    "print(\"最后分类结果\",labels)\n",
    "## 输出为  [1. 1. 1. 0. 0.]"
   ]
  },
  {
   "cell_type": "code",
   "execution_count": 13,
   "metadata": {},
   "outputs": [
    {
     "name": "stdout",
     "output_type": "stream",
     "text": [
      "[0 0 0 1 1]\n"
     ]
    }
   ],
   "source": [
    "# 使用sklearn验证\n",
    "X = np.array([[0, 2], [0, 0], [1, 0], [5, 0], [5, 2]])\n",
    "kmeans = KMeans(n_clusters=2, init='k-means++').fit(X)\n",
    "print(kmeans.labels_)"
   ]
  }
 ],
 "metadata": {
  "kernelspec": {
   "display_name": "sxjm",
   "language": "python",
   "name": "python3"
  },
  "language_info": {
   "codemirror_mode": {
    "name": "ipython",
    "version": 3
   },
   "file_extension": ".py",
   "mimetype": "text/x-python",
   "name": "python",
   "nbconvert_exporter": "python",
   "pygments_lexer": "ipython3",
   "version": "3.12.4"
  }
 },
 "nbformat": 4,
 "nbformat_minor": 2
}
